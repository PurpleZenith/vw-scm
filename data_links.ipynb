{
 "cells": [
  {
   "cell_type": "markdown",
   "metadata": {},
   "source": [
    "Has most of the answers:\n",
    "\n",
    "def generate_facility_cost\n",
    "\n",
    "---\n",
    "**Generally 2-3$ per square foot**\n",
    "https://www.warehousingandfulfillment.com/resources/fulfillment-cost-calculator/\n",
    "\n",
    "1. Rent or Mortgage:\n",
    "[A 50,000 square foot steel warehouse, in the words of one construction expert, will cost between 52,800 and 312,500 per month in addition to monthly rent, utilities, insurance, and other associated costs. A 100,000 increase in the monthly budget will be made up of the cost of a turnkey warehouse, which will also be included in the estimate.](https://www.hechtgroup.com/the-average-size-of-a-small-warehouse-is-1-000-5-000-square-feet/)\n",
    "\n",
    "\n",
    "2. Insurance:\n",
    "- a standard warehouse general liability is 1-2 million of coverage, which is about 100/month\n",
    "3. Salaries:\n",
    "```\n",
    "There is no definitive answer to how many employees per square foot warehouse as it depends on a variety of factors such as the type of products being stored, the level of automation in the warehouse, and the workflows. However, a good rule of thumb is to have one employee for every 1,000-1,500 square feet of warehouse space. This allows for efficient operations and ensures that there is enough staff to handle the volume of work.Every employee in a warehouse is allocated about 200-250 square feet of space. Distribution centers had a median square footage of 240,410 in 2016, 176,600 in 2017, and 305,000 in 2018. If a warehouse is properly designed, it will be more efficient and require less space per employee than if it is poorly designed. The number of warehouse employees varies greatly. Warehouses in general are less than 10,000 square feet in size. Eight-hour shifts pay between $14.80 and $19.90 per hour on average. Approximately 35% of the total warehouse space is estimated to be occupied by this type of warehouse.\n",
    "```\n",
    "`https://www.hechtgroup.com/how-many-employees-should-a-warehouse-have-per-square-foot/`\n",
    "\n",
    "4. Utilities:\n",
    "- [average utlity cost per square foot commercial property is about 1 dollar/sqft for electricity](https://www.iotacommunications.com/blog/average-utility-cost-per-square-foot-commercial-property/)\n",
    "5. Equipment:\n",
    "875$ lease a forklift"
   ]
  }
 ],
 "metadata": {
  "language_info": {
   "name": "python"
  },
  "orig_nbformat": 4
 },
 "nbformat": 4,
 "nbformat_minor": 2
}
