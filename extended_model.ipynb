{
 "cells": [
  {
   "cell_type": "code",
   "execution_count": 1,
   "metadata": {},
   "outputs": [],
   "source": [
    "import warnings\n",
    "warnings.simplefilter(action='ignore', category=FutureWarning)\n",
    "\n",
    "import pandas as pd\n",
    "import networkx as nx\n",
    "from geopy.distance import geodesic\n",
    "import numpy\n",
    "\n",
    "small_path = \"./main_data/small_data/\"\n",
    "main_path = \"./main_data/\"\n",
    "result_path = \"./results/\""
   ]
  },
  {
   "cell_type": "markdown",
   "metadata": {},
   "source": [
    "**Load Data**"
   ]
  },
  {
   "cell_type": "code",
   "execution_count": 2,
   "metadata": {},
   "outputs": [],
   "source": [
    "# Function -------------------------------------------------------------\n",
    "def load_total_demand():\n",
    "\n",
    "    yearly_sales = pd.read_csv(f'{main_path}vw_yearly_sales.csv')\n",
    "    return yearly_sales\n",
    "\n",
    "\n",
    "# Function -------------------------------------------------------------\n",
    "def load_dcs(small = False):\n",
    "  \n",
    "    # NOTE: stateconst is a constant used to account for the different prices for the cost of living and rent in various states\n",
    "    if small:\n",
    "        dcs = pd.read_csv(f'{small_path}small_list_of_dcs.csv', encoding= 'unicode_escape', names=['ID', \"Name\",\"City\",\"State\",\"Address Line 1\",\"Address Line 2\", \"Coordinates\", \"Area m3\", \"Facility Type\", \"StateConst\"])\n",
    "    else:\n",
    "        dcs = pd.read_csv(f'{main_path}list_of_dcs.csv', encoding= 'unicode_escape', names=['ID', \"Name\",\"City\",\"State\",\"Address Line 1\",\"Address Line 2\", \"Coordinates\", \"Area m3\", \"Facility Type\", \"StateConst\"])\n",
    "\n",
    "    dcs['Area sqft'] = round(dcs['Area m3'] * 10.7639)\n",
    "    return dcs\n",
    "\n",
    "\n",
    "# Function -------------------------------------------------------------\n",
    "def load_dealers(small = False):\n",
    "  # https://www.vw.com/app/dccsearch/vw-us/en/Find%20a%20Volkswagen%20Dealer/+/38.353354499999995/-95.3817145/3/+/+/+/+\n",
    "\n",
    "    if small:\n",
    "        dealers = pd.read_csv(f'{small_path}small_list_of_dealers.csv',names=['ID', \"Name\",\"Address Line 1\",\"Address Line 2\", \"Website\",\"Phone Number\", \"Coordinates\"])\n",
    "    else:\n",
    "        # FULL DATASET\n",
    "        dealers= pd.read_csv(f'{main_path}list_of_dealers.csv',names=['ID', \"Name\",\"Address Line 1\",\"Address Line 2\", \"Website\",\"Phone Number\", \"Coordinates\"])\n",
    "    \n",
    "    return dealers\n",
    "\n",
    "# Function -------------------------------------------------------------\n",
    "def load_plants():\n",
    "    \n",
    "    plants= pd.read_csv(f'{main_path}list_of_vw_plants_and_products.csv', encoding= 'unicode_escape',names=['ID', \"City\",\"Country\", \"Model\",\"Coordinates\",\"Current/Former plant\"])\n",
    "    plants_usa = plants.loc[plants[\"Country\"]==\"USA\"]\n",
    "\n",
    "    return plants_usa\n",
    "\n",
    "\n",
    "# Function -------------------------------------------------------------\n",
    "def load_dealer_demands():\n",
    "\n",
    "    def single_sample():\n",
    "        # 4 samples\n",
    "        dealers= pd.read_csv(f'{small_path}small_list_of_demand_data.csv',names=['ID',\"Name\",\"Rating\",\"Proportion\",\"na\"])\n",
    "        del dealers[dealers.columns[-1]]\n",
    "        return dealers\n",
    "\n",
    "    def full_data():\n",
    "        # FULL DATASET\n",
    "        dealers= pd.read_csv(f'{main_path}list_of_demand_data.csv',names=['ID',\"Name\",\"Rating\",\"Proportion\",\"na\", \"na2\", \"na3\"])\n",
    "        del dealers[dealers.columns[-1]]\n",
    "        del dealers[dealers.columns[-1]]\n",
    "        del dealers[dealers.columns[-1]]\n",
    "        return dealers\n",
    "\n",
    "    # either call single_sample or full_data\n",
    "    dealers = full_data() \n",
    "\n",
    "    return dealers"
   ]
  },
  {
   "cell_type": "code",
   "execution_count": 3,
   "metadata": {},
   "outputs": [],
   "source": [
    "# Get all plants, DCs, and Dealers\n",
    "plants = load_plants()\n",
    "dcs = load_dcs()\n",
    "dealers = load_dealers()"
   ]
  },
  {
   "cell_type": "code",
   "execution_count": 4,
   "metadata": {},
   "outputs": [
    {
     "data": {
      "text/html": [
       "<div>\n",
       "<style scoped>\n",
       "    .dataframe tbody tr th:only-of-type {\n",
       "        vertical-align: middle;\n",
       "    }\n",
       "\n",
       "    .dataframe tbody tr th {\n",
       "        vertical-align: top;\n",
       "    }\n",
       "\n",
       "    .dataframe thead th {\n",
       "        text-align: right;\n",
       "    }\n",
       "</style>\n",
       "<table border=\"1\" class=\"dataframe\">\n",
       "  <thead>\n",
       "    <tr style=\"text-align: right;\">\n",
       "      <th></th>\n",
       "      <th>ID</th>\n",
       "      <th>Name</th>\n",
       "      <th>City</th>\n",
       "      <th>State</th>\n",
       "      <th>Address Line 1</th>\n",
       "      <th>Address Line 2</th>\n",
       "      <th>Coordinates</th>\n",
       "      <th>Area m3</th>\n",
       "      <th>Facility Type</th>\n",
       "      <th>StateConst</th>\n",
       "      <th>Area sqft</th>\n",
       "    </tr>\n",
       "  </thead>\n",
       "  <tbody>\n",
       "    <tr>\n",
       "      <th>0</th>\n",
       "      <td>0</td>\n",
       "      <td>Volkswagen Parts Distribution Center</td>\n",
       "      <td>Ontario</td>\n",
       "      <td>CA</td>\n",
       "      <td>3095 E Cedar St</td>\n",
       "      <td>Ontario, CA 91761</td>\n",
       "      <td>34.0376080290585, -117.58641507359258</td>\n",
       "      <td>30456</td>\n",
       "      <td>1</td>\n",
       "      <td>68814</td>\n",
       "      <td>327825.0</td>\n",
       "    </tr>\n",
       "    <tr>\n",
       "      <th>1</th>\n",
       "      <td>1</td>\n",
       "      <td>Volkswagen Parts Distribution Center</td>\n",
       "      <td>Rocklin</td>\n",
       "      <td>CA</td>\n",
       "      <td>1100 Tinker Rd</td>\n",
       "      <td>Rocklin, CA 95765, United States</td>\n",
       "      <td>38.81328171265908, -121.30150120229099</td>\n",
       "      <td>18360</td>\n",
       "      <td>1</td>\n",
       "      <td>91290</td>\n",
       "      <td>197625.0</td>\n",
       "    </tr>\n",
       "    <tr>\n",
       "      <th>2</th>\n",
       "      <td>2</td>\n",
       "      <td>Volkswagen Parts Distribution Center</td>\n",
       "      <td>Jacksonville</td>\n",
       "      <td>FL</td>\n",
       "      <td>4150 Perimeter Industrial Pkwy N</td>\n",
       "      <td>Jacksonville, FL 32219, United States</td>\n",
       "      <td>30.373771993405768, -81.75890718718041</td>\n",
       "      <td>362670</td>\n",
       "      <td>2</td>\n",
       "      <td>82698</td>\n",
       "      <td>3903744.0</td>\n",
       "    </tr>\n",
       "    <tr>\n",
       "      <th>3</th>\n",
       "      <td>3</td>\n",
       "      <td>Volkswagen Parts Distribution Center</td>\n",
       "      <td>Cranbury</td>\n",
       "      <td>NJ</td>\n",
       "      <td>47 Station Rd</td>\n",
       "      <td>East Windsor, NJ 08512, United States</td>\n",
       "      <td>40.3071068545627, -74.50867073108051</td>\n",
       "      <td>103200</td>\n",
       "      <td>2</td>\n",
       "      <td>77204</td>\n",
       "      <td>1110834.0</td>\n",
       "    </tr>\n",
       "    <tr>\n",
       "      <th>4</th>\n",
       "      <td>4</td>\n",
       "      <td>Volkswagen Regional Distribution Center</td>\n",
       "      <td>Lenoir City</td>\n",
       "      <td>TN</td>\n",
       "      <td>2560 Buttermilk Rd W</td>\n",
       "      <td>Lenoir City, TN 37771, United States</td>\n",
       "      <td>35.88214676007374, -84.3612681600479</td>\n",
       "      <td>45000</td>\n",
       "      <td>1</td>\n",
       "      <td>66620</td>\n",
       "      <td>484376.0</td>\n",
       "    </tr>\n",
       "    <tr>\n",
       "      <th>5</th>\n",
       "      <td>5</td>\n",
       "      <td>Volkswagen Group of America Parts Distribution...</td>\n",
       "      <td>Ft. Worth</td>\n",
       "      <td>TX</td>\n",
       "      <td>230 Intermodal Pkwy</td>\n",
       "      <td>Fort Worth, TX 76177, United States</td>\n",
       "      <td>32.96678488424622, -97.32814574044846</td>\n",
       "      <td>55954</td>\n",
       "      <td>1</td>\n",
       "      <td>62672</td>\n",
       "      <td>602283.0</td>\n",
       "    </tr>\n",
       "    <tr>\n",
       "      <th>6</th>\n",
       "      <td>6</td>\n",
       "      <td>Volkswagen Parts Distribution Center</td>\n",
       "      <td>Pleasant Prairie</td>\n",
       "      <td>WI</td>\n",
       "      <td>11589 88th Ave</td>\n",
       "      <td>Pleasant Prairie, WI 53158, United States</td>\n",
       "      <td>42.5108270307348, -87.91110551996559</td>\n",
       "      <td>23217</td>\n",
       "      <td>1</td>\n",
       "      <td>66901</td>\n",
       "      <td>249905.0</td>\n",
       "    </tr>\n",
       "  </tbody>\n",
       "</table>\n",
       "</div>"
      ],
      "text/plain": [
       "   ID                                               Name              City  \\\n",
       "0   0               Volkswagen Parts Distribution Center           Ontario   \n",
       "1   1               Volkswagen Parts Distribution Center           Rocklin   \n",
       "2   2               Volkswagen Parts Distribution Center      Jacksonville   \n",
       "3   3               Volkswagen Parts Distribution Center          Cranbury   \n",
       "4   4            Volkswagen Regional Distribution Center       Lenoir City   \n",
       "5   5  Volkswagen Group of America Parts Distribution...         Ft. Worth   \n",
       "6   6               Volkswagen Parts Distribution Center  Pleasant Prairie   \n",
       "\n",
       "  State                    Address Line 1  \\\n",
       "0    CA                   3095 E Cedar St   \n",
       "1    CA                    1100 Tinker Rd   \n",
       "2    FL  4150 Perimeter Industrial Pkwy N   \n",
       "3    NJ                     47 Station Rd   \n",
       "4    TN              2560 Buttermilk Rd W   \n",
       "5    TX               230 Intermodal Pkwy   \n",
       "6    WI                    11589 88th Ave   \n",
       "\n",
       "                              Address Line 2  \\\n",
       "0                          Ontario, CA 91761   \n",
       "1           Rocklin, CA 95765, United States   \n",
       "2      Jacksonville, FL 32219, United States   \n",
       "3      East Windsor, NJ 08512, United States   \n",
       "4       Lenoir City, TN 37771, United States   \n",
       "5        Fort Worth, TX 76177, United States   \n",
       "6  Pleasant Prairie, WI 53158, United States   \n",
       "\n",
       "                              Coordinates  Area m3  Facility Type  StateConst  \\\n",
       "0   34.0376080290585, -117.58641507359258    30456              1       68814   \n",
       "1  38.81328171265908, -121.30150120229099    18360              1       91290   \n",
       "2  30.373771993405768, -81.75890718718041   362670              2       82698   \n",
       "3    40.3071068545627, -74.50867073108051   103200              2       77204   \n",
       "4    35.88214676007374, -84.3612681600479    45000              1       66620   \n",
       "5   32.96678488424622, -97.32814574044846    55954              1       62672   \n",
       "6    42.5108270307348, -87.91110551996559    23217              1       66901   \n",
       "\n",
       "   Area sqft  \n",
       "0   327825.0  \n",
       "1   197625.0  \n",
       "2  3903744.0  \n",
       "3  1110834.0  \n",
       "4   484376.0  \n",
       "5   602283.0  \n",
       "6   249905.0  "
      ]
     },
     "execution_count": 4,
     "metadata": {},
     "output_type": "execute_result"
    }
   ],
   "source": [
    "dcs"
   ]
  },
  {
   "cell_type": "markdown",
   "metadata": {},
   "source": [
    "**Location Work**"
   ]
  },
  {
   "cell_type": "code",
   "execution_count": 5,
   "metadata": {},
   "outputs": [],
   "source": [
    "# NOTE: Distances are in miles (mi).\n",
    "# NOTE: All areas are in square-feet (sqft)\n",
    "\n",
    "# Function -------------------------------------------------------------\n",
    "def dc_to_dealer_distances(dcs, dealers): \n",
    "    \n",
    "    # using geodesic distance, may want to add 15% or something onto distance\n",
    "    distance_dc_to_dealer = numpy.zeros((len(dcs), len(dealers)))\n",
    "\n",
    "    for dc_id, dc in dcs.iterrows():\n",
    "\n",
    "      for dealer_id, dealer in dealers.iterrows():\n",
    "\n",
    "        point1, point2 = dc[\"Coordinates\"].split(\",\"), dealer[\"Coordinates\"].split(\",\")\n",
    "        distance = geodesic(point1, point2).miles\n",
    "        dc_id = dc[\"ID\"]\n",
    "        dealer_id = dealer[\"ID\"]\n",
    "        distance_dc_to_dealer[dc_id][dealer_id] = distance\n",
    "\n",
    "    distance_dc_to_dealer_df = pd.DataFrame(distance_dc_to_dealer)\n",
    "    \n",
    "    return distance_dc_to_dealer_df\n",
    "\n",
    "\n",
    "# Function -------------------------------------------------------------\n",
    "def plant_to_dc_distances(plants, dcs):\n",
    "  \n",
    "  # get coordinates of the 1 usa plant\n",
    "  plant_coordinates = plants['Coordinates'].iloc[0].split(\",\")\n",
    "  distance_plants_to_dcs = [] # since we only have 1 usa plant we can just make everything from there (very convenient)\n",
    "  \n",
    "  for dcs_id, dc in dcs.iterrows():\n",
    "\n",
    "    point1 = plant_coordinates\n",
    "    point2 = dc[\"Coordinates\"].split(\",\")\n",
    "    distance = geodesic(point1, point2).miles\n",
    "    dc_id = dc[\"ID\"]\n",
    "    distance_plants_to_dcs.append(distance)\n",
    "  \n",
    "  return distance_plants_to_dcs\n",
    "\n",
    "# Get distances from plant-to-DC and DC-to-dealer\n",
    "dcs_to_dealers = dc_to_dealer_distances(dcs, dealers)\n",
    "plants_to_dcs = plant_to_dc_distances(plants, dcs)"
   ]
  },
  {
   "cell_type": "markdown",
   "metadata": {},
   "source": [
    "**Calculate Demand**"
   ]
  },
  {
   "cell_type": "code",
   "execution_count": 6,
   "metadata": {},
   "outputs": [],
   "source": [
    "# Function -------------------------------------------------------------\n",
    "def get_dealer_demands(year):\n",
    "  \n",
    "  dealer_demands = load_dealer_demands()\n",
    "  # demand for each specific car type\n",
    "  total_demands = load_total_demand() \n",
    "\n",
    "  def get_demands(year):\n",
    "    year_demands = total_demands.loc[total_demands['year'] == year]\n",
    "    year_demands = year_demands[[\"Atlas\",\"Cross Sport\",\"ID4\",\"Passat\"]]\n",
    "    return year_demands\n",
    "\n",
    "  year_demands = get_demands(2021)\n",
    "  year_demands = year_demands.values.tolist()[0]\n",
    "\n",
    "  proportion_sum = dealer_demands[\"Proportion\"].sum()\n",
    "\n",
    "  dealer_demands [[\"Ratio of sales\"]] = None\n",
    "  dealer_demands[\"Ratio of sales\"] = dealer_demands[\"Proportion\"]/proportion_sum\n",
    "\n",
    "  temp = []\n",
    "\n",
    "  for x in list(dealer_demands[\"Ratio of sales\"]):\n",
    "\n",
    "    temp1=[]\n",
    "\n",
    "    for y in list(year_demands):\n",
    "      \n",
    "      temp1.append(round(x*y))\n",
    "\n",
    "    temp.append(temp1)\n",
    "\n",
    "  sales = pd.DataFrame(temp, columns=[\"Atlas\",\"Cross Sport\",\"ID4\",\"Passat\"])\n",
    "  \n",
    "  return sales"
   ]
  },
  {
   "cell_type": "markdown",
   "metadata": {},
   "source": [
    "**Calculating Costs**"
   ]
  },
  {
   "cell_type": "code",
   "execution_count": 7,
   "metadata": {},
   "outputs": [],
   "source": [
    "# Function -------------------------------------------------------------\n",
    "def calculate_dc_cost():\n",
    "    \n",
    "    # Function -------------------------------------------------------------\n",
    "    def calculate_dc_cost_monthly(id, state, facility_type, areasqft):\n",
    "        \n",
    "        #2$ baseline\n",
    "        # cost = 1.5*areasqft \n",
    "\n",
    "        # https://glcdistribution.com/customer-resources/tools/warehousing-insurance-calculator/ 1 million dollar standard\n",
    "        insurance = 3850 \n",
    "\n",
    "        # https://www.payscale.com/research/CA/Job=Warehouse_Material_Handler/Hourly_Rate\n",
    "        employee_salaries = (areasqft/5000)*20*(40*4) \n",
    "\n",
    "        # pay 0.25 cents per sqft for utility\n",
    "        utilities = 0.25*areasqft\n",
    "\n",
    "        # $600 – $950 per month to lease a $50,000 forklift.\n",
    "        # https://discord.com/channels/260272353118912522/1093655130076893284/1129635416409133076 1 forklift services 5000 sqft\n",
    "        # We want to overwork it.\n",
    "        forklift_cost =  areasqft/10000  * 600\n",
    "\n",
    "        # https://discord.com/channels/260272353118912522/1093655130076893284/1129639090942398504\n",
    "        price_it_costs_to_build_warehouse_sqft = 100*areasqft\n",
    "        property_tax = 6/1000*price_it_costs_to_build_warehouse_sqft\n",
    "\n",
    "        # 1000 fixed cost monitoring + 20$/h * 40h/week * 28 people\n",
    "        security = 1000 + (5 * 8 * 28*20) \n",
    "\n",
    "        # Assuming Facility 1 has much lower space and so should be priced lower.\n",
    "        if facility_type == 1:\n",
    "            ft = 0.10\n",
    "        else:\n",
    "            ft = 0.5\n",
    "\n",
    "        # 508 is the price of 100 big macs and state is the price of 100 big macs in that state\n",
    "        price = (insurance + employee_salaries + utilities + forklift_cost + security + property_tax)*((state*0.1)/508)*ft\n",
    "        \n",
    "        return price\n",
    "\n",
    "    prices = []\n",
    "\n",
    "    for i in range(len(dcs.index)):\n",
    "        moneys = calculate_dc_cost_monthly(float(dcs.loc[i,[\"ID\"]]), float(dcs.loc[i,[\"StateConst\"]]), float(dcs.loc[i,[\"Facility Type\"]]),float(dcs.loc[i,[\"Area sqft\"]]))\n",
    "        prices.append(round(moneys*12, 2))\n",
    "    \n",
    "    return prices\n",
    "\n",
    "# Function -------------------------------------------------------------\n",
    "def calculate_dc_shipment_capacity(capacity = False):\n",
    "  \n",
    "  # This is: C_i\n",
    "  # The largest car to consider is the Cross Sport\n",
    "  # It has dimensions: 4,966 mm L x 1,990 mm W x 1,723 mm H\n",
    "  # we can round this up to: 17 ft length, 7 foot wide, 6 foot tall\n",
    "  # add about 2 ft to everything as a buffer\n",
    "  # new measurement is about 18 ft length, 8ft wide, 8 foot tall\n",
    "  # so, we can predict that 2 car takes up 144/2, each car takes 72 sq foot\n",
    "\n",
    "  # from https://discord.com/channels/260272353118912522/1093655130076893284/1131271495004459018,\n",
    "  # we see that 60-80% of DCs are for storage. Let's assume 60%\n",
    "  vehicle_capacity = dcs[\"Area sqft\"]*0.6 / 72\n",
    "\n",
    "  # from https://discord.com/channels/260272353118912522/1093655130076893284/1131266537869820075\n",
    "  # we see that most vehicles stay in the dc a couple of weeks (take 2 weeks)\n",
    "  # we can frame this as: All vehicles in the DCS arrive at time 0, and after 2 weeks all are released\n",
    "  annual_throughput = round(vehicle_capacity*6, 0)\n",
    "\n",
    "  if capacity:\n",
    "    return list(vehicle_capacity)\n",
    "  else:\n",
    "    return (list(annual_throughput))\n",
    "  \n",
    "\n",
    "# Function -------------------------------------------------------------\n",
    "def calculate_hold_costs():\n",
    "    # We will assume the holding costs are the total number of vehicles in the warehouse divided\n",
    "    # by the total costs of the warehouse.\n",
    "    # This will be multiplied by a cost factor to account for large costs with lower capacities.\n",
    "    dc_cost = calculate_dc_cost()\n",
    "    total_vehicles = calculate_dc_shipment_capacity(True)\n",
    "    dc_type = dcs[[\"Facility Type\"]].to_numpy()\n",
    "\n",
    "    holding_costs = []\n",
    "\n",
    "    for i in range(0, len(dcs.index)):\n",
    "\n",
    "        if dc_type[i,] == 1:\n",
    "            holding = round(total_vehicles[i]/dc_cost[i]*10000, 2)\n",
    "        else:\n",
    "            holding = round(total_vehicles[i]/dc_cost[i]*50000, 2)\n",
    "\n",
    "        holding_costs.append(holding)\n",
    "\n",
    "    return holding_costs"
   ]
  },
  {
   "cell_type": "code",
   "execution_count": 8,
   "metadata": {},
   "outputs": [
    {
     "data": {
      "text/plain": [
       "[16391.0, 9881.0, 195187.0, 55542.0, 24219.0, 30114.0, 12495.0]"
      ]
     },
     "execution_count": 8,
     "metadata": {},
     "output_type": "execute_result"
    }
   ],
   "source": [
    "calculate_dc_shipment_capacity()"
   ]
  },
  {
   "cell_type": "code",
   "execution_count": 9,
   "metadata": {},
   "outputs": [
    {
     "data": {
      "text/plain": [
       "[8702729.13,\n",
       " 7193265.63,\n",
       " 593672649.84,\n",
       " 159487904.66,\n",
       " 12243908.3,\n",
       " 14223908.57,\n",
       " 6552127.22]"
      ]
     },
     "execution_count": 9,
     "metadata": {},
     "output_type": "execute_result"
    }
   ],
   "source": [
    "calculate_dc_cost()"
   ]
  },
  {
   "cell_type": "code",
   "execution_count": 10,
   "metadata": {},
   "outputs": [
    {
     "data": {
      "text/plain": [
       "[3.14, 2.29, 2.74, 2.9, 3.3, 3.53, 3.18]"
      ]
     },
     "execution_count": 10,
     "metadata": {},
     "output_type": "execute_result"
    }
   ],
   "source": [
    "calculate_hold_costs()"
   ]
  },
  {
   "cell_type": "markdown",
   "metadata": {},
   "source": [
    "**Determining the Cost of Transportation**"
   ]
  },
  {
   "cell_type": "code",
   "execution_count": 11,
   "metadata": {},
   "outputs": [],
   "source": [
    "## THE FUNCTION OF SHIPPING TRUCKS CAN BE APPROXIMATED BY A PIECEWISE FUNCTION\n",
    "# https://www.desmos.com/calculator/ipxbog2uyr\n",
    "# constructed from the data here: https://www.marketwatch.com/guides/car-shipping/truck-shipping/#:~:text=According%20to%20quotes%20we%20received,when%20using%20an%20enclosed%20carrier.\n",
    "\n",
    "# Function -------------------------------------------------------------\n",
    "def fixed_cost_shipment(): \n",
    "  # This is: T_1\n",
    "  # cost to drive 0 miles\n",
    "  return 186 \n",
    "\n",
    "\n",
    "# Function -------------------------------------------------------------\n",
    "def calculate_variable_cost_shipment(mileage): \n",
    "  # This is: T_2\n",
    "  # if mileage < 1135:\n",
    "  #   return mileage * (551/535)\n",
    "  # return mileage * (0.43)\n",
    "  return (0.43)\n",
    "\n",
    "  # TODO: WE ARE ASSUMING FOR SIMPLICYT SAKE 0.43$/MILE AND ARE NOT CONSIDERING THE OTHER FUNCTION FOR MODELLING RIGHT NOW"
   ]
  },
  {
   "cell_type": "markdown",
   "metadata": {},
   "source": [
    "**DC Inventory Carrying Costs**"
   ]
  },
  {
   "cell_type": "markdown",
   "metadata": {},
   "source": [
    "**Time of Model Building**"
   ]
  },
  {
   "cell_type": "code",
   "execution_count": 12,
   "metadata": {},
   "outputs": [
    {
     "name": "stdout",
     "output_type": "stream",
     "text": [
      "Set parameter WLSAccessID\n",
      "Set parameter WLSSecret\n",
      "Set parameter LicenseID to value 868415\n",
      "Academic license - for non-commercial use only - registered to anita.yang@uwaterloo.ca\n"
     ]
    },
    {
     "data": {
      "text/plain": [
       "<gurobipy.Env, Parameter changes: WLSAccessID=(user-defined), WLSSecret=(user-defined), LicenseID=868415>"
      ]
     },
     "execution_count": 12,
     "metadata": {},
     "output_type": "execute_result"
    }
   ],
   "source": [
    "## The modelling?\n",
    "import gurobipy as gp\n",
    "from gurobipy import GRB\n",
    "\n",
    "# Create environment with WLS license\n",
    "e = gp.Env(empty=True)\n",
    "e.setParam('WLSACCESSID', '47fa1c45-5377-4f93-87d4-3da7da2b6955')\n",
    "e.setParam('WLSSECRET', '7dfbddcb-7333-4ec7-927d-b459cffd9565')\n",
    "e.setParam('LICENSEID', 868415)\n",
    "e.start()"
   ]
  },
  {
   "cell_type": "markdown",
   "metadata": {},
   "source": [
    "**Define Model Sets**"
   ]
  },
  {
   "cell_type": "code",
   "execution_count": 13,
   "metadata": {},
   "outputs": [],
   "source": [
    "# Get all distances, demands, and costs\n",
    "dcs_to_dealers = dc_to_dealer_distances(dcs, dealers)\n",
    "plants_to_dcs = plant_to_dc_distances(plants, dcs)\n",
    "dealer_demands = get_dealer_demands(2021) ## car demand for each dealership\n",
    "dc_annual_cost = calculate_dc_cost()\n",
    "holding_costs = calculate_hold_costs()"
   ]
  },
  {
   "cell_type": "markdown",
   "metadata": {},
   "source": [
    "**Define Parameters**"
   ]
  },
  {
   "cell_type": "code",
   "execution_count": 14,
   "metadata": {},
   "outputs": [],
   "source": [
    "# define sets\n",
    "# set S\n",
    "plants_set = [0]\n",
    "# set I\n",
    "dcs_set = list(dcs[\"ID\"])\n",
    "# set J\n",
    "dealers_set = list(dealers[\"ID\"])\n",
    "# we define 0 to 3, corresponding to Atlas, CrossSport, ID4 and Passat vehicles (set V)\n",
    "vehicle_set = [0,1,2,3]\n",
    "# set P\n",
    "facility_type_set = [0, 1]"
   ]
  },
  {
   "cell_type": "code",
   "execution_count": 15,
   "metadata": {},
   "outputs": [],
   "source": [
    "# Parameter prep - we change the dataframes to arrays of sorts, which we can use indexes and such in the formulation\n",
    "d_jv = dealer_demands.values\n",
    "m_ij = dcs_to_dealers.values\n",
    "c_si = plants_to_dcs\n",
    "# load factor is 1\n",
    "L_j = 1 \n",
    "T_1 = fixed_cost_shipment()\n",
    "T_2 = calculate_variable_cost_shipment(\"dummy_value\") # see code comments on why we do this as a temp hack for a preliminary model\n",
    "f_ip = dc_annual_cost\n",
    "C_i = calculate_dc_shipment_capacity()"
   ]
  },
  {
   "cell_type": "code",
   "execution_count": 16,
   "metadata": {},
   "outputs": [],
   "source": [
    "# Create Model\n",
    "m = gp.Model(env=e)\n",
    "\n",
    "# CREATE THE DECISION VARIABLES HERE\n",
    "x1_siv = m.addVars(plants_set, dcs_set, vehicle_set, vtype=GRB.INTEGER)\n",
    "x2_ijv = m.addVars(dcs_set, dealers_set, vehicle_set, vtype=GRB.INTEGER )\n",
    "y_ip = m.addVars(dcs_set, facility_type_set, vtype=GRB.BINARY)"
   ]
  },
  {
   "cell_type": "markdown",
   "metadata": {},
   "source": [
    "**Objective Function**"
   ]
  },
  {
   "cell_type": "code",
   "execution_count": 17,
   "metadata": {},
   "outputs": [],
   "source": [
    "\n",
    "obj1 = sum((x2_ijv[i, j, v]/L_j)*(T_1 + T_2*m_ij[i, j]) for v in vehicle_set for j in dealers_set for i in dcs_set)\n",
    "\n",
    "obj2 = sum(sum(x2_ijv[i, j, v] + x1_siv[s, i, v] for v in vehicle_set for j in dealers_set for s in plants_set) * c_si[i] for i in dcs_set)\n",
    "\n",
    "obj3 = sum(sum(x1_siv[s, i, v] for v in vehicle_set for s in plants_set) * holding_costs[i] for i in dcs_set)\n",
    "\n",
    "obj4 = sum(f_ip[i]*y_ip[i, p] for p in facility_type_set for i in dcs_set)\n",
    "\n",
    "m.setObjective(obj1 + obj2 + obj3 + obj4, gp.GRB.MINIMIZE)"
   ]
  },
  {
   "cell_type": "markdown",
   "metadata": {},
   "source": [
    "**Constraints**"
   ]
  },
  {
   "cell_type": "code",
   "execution_count": 18,
   "metadata": {},
   "outputs": [
    {
     "data": {
      "text/plain": [
       "{}"
      ]
     },
     "execution_count": 18,
     "metadata": {},
     "output_type": "execute_result"
    }
   ],
   "source": [
    "# Constraint 1: Demand at each market area for each vehicle type must be met\n",
    "m.addConstrs(sum(x2_ijv[i, j, v] for i in dcs_set) == d_jv[j, v] for v in vehicle_set for j in dealers_set)\n",
    "\n",
    "# Constraint 2: Vehicle flows between plants and DCs must be conserved\n",
    "m.addConstrs(sum(x1_siv[s, i, v] for s in plants_set) == sum(x2_ijv[i, j, v] for j in dealers_set) for i in dcs_set for v in vehicle_set)\n",
    "\n",
    "# Constraint 3 min: Total vehicle flow to each DC must satisfy the minimum capacity requirement\n",
    "m.addConstrs(\n",
    "    (C_i[i] * y_ip[i, 1] <= sum(x2_ijv[i, j, v] for v in vehicle_set for j in dealers_set) for i in dcs_set),\n",
    "    name=\"constraint_3_min\"\n",
    ")\n",
    "\n",
    "# Constraint 3 max: Total vehicle flow to each DC must satisfy the maximum capacity requirement\n",
    "m.addConstrs(\n",
    "    (sum(x2_ijv[i, j, v] for v in vehicle_set for j in dealers_set) <= C_i[i] * y_ip[i, 0] + sum(d_jv[j, v] for v in vehicle_set for j in dealers_set) * y_ip[i, 1] for i in dcs_set),\n",
    "    name=\"constraint_3_max\"\n",
    ")\n",
    "\n",
    "# # Constraint 4: Shipment quantities must be nonnegative\n",
    "m.addConstrs(x1_siv[s, i, v] >= 0 for s in plants_set for v in vehicle_set for i in dcs_set)\n",
    "m.addConstrs(x2_ijv[i, j, v] >= 0 for i in dcs_set for v in vehicle_set for j in dealers_set)\n",
    "\n",
    "# Constraint 6: The distribution centers must be selected so that all market areas can be reached within r days. \n",
    "#               Suppose a truck travels on average 300 miles a day. (Redundant constraint)\n",
    "r=60\n",
    "m.addConstrs((sum(x2_ijv[i, j, v] for v in vehicle_set) == 0 for i in dcs_set for j in dealers_set if m_ij[i][j] / 300 > r))"
   ]
  },
  {
   "cell_type": "markdown",
   "metadata": {},
   "source": [
    "**Optimize**"
   ]
  },
  {
   "cell_type": "code",
   "execution_count": 19,
   "metadata": {},
   "outputs": [
    {
     "name": "stdout",
     "output_type": "stream",
     "text": [
      "Gurobi Optimizer version 10.0.2 build v10.0.2rc0 (win64)\n",
      "\n",
      "CPU model: 11th Gen Intel(R) Core(TM) i7-11390H @ 3.40GHz, instruction set [SSE2|AVX|AVX2|AVX512]\n",
      "Thread count: 4 physical cores, 8 logical processors, using up to 8 threads\n",
      "\n",
      "Academic license - for non-commercial use only - registered to anita.yang@uwaterloo.ca\n",
      "Optimize a model with 20486 rows, 17906 columns and 89397 nonzeros\n",
      "Model fingerprint: 0x14ac9650\n",
      "Variable types: 0 continuous, 17906 integer (14 binary)\n",
      "Coefficient statistics:\n",
      "  Matrix range     [1e+00, 2e+05]\n",
      "  Objective range  [3e+02, 6e+08]\n",
      "  Bounds range     [1e+00, 1e+00]\n",
      "  RHS range        [1e+00, 9e+02]\n",
      "Found heuristic solution: objective 7.609342e+10\n",
      "Presolve removed 17923 rows and 43 columns\n",
      "Presolve time: 0.06s\n",
      "Presolved: 2563 rows, 17863 columns, 51019 nonzeros\n",
      "Variable types: 0 continuous, 17863 integer (90 binary)\n",
      "Found heuristic solution: objective 7.538026e+10\n",
      "\n",
      "Root relaxation: objective 7.158113e+09, 2551 iterations, 0.03 seconds (0.00 work units)\n",
      "\n",
      "    Nodes    |    Current Node    |     Objective Bounds      |     Work\n",
      " Expl Unexpl |  Obj  Depth IntInf | Incumbent    BestBd   Gap | It/Node Time\n",
      "\n",
      "*    0     0               0    7.158113e+09 7.1581e+09  0.00%     -    0s\n",
      "\n",
      "Explored 1 nodes (2551 simplex iterations) in 0.15 seconds (0.06 work units)\n",
      "Thread count was 8 (of 8 available processors)\n",
      "\n",
      "Solution count 3: 7.15811e+09 7.53803e+10 7.60934e+10 \n",
      "\n",
      "Optimal solution found (tolerance 1.00e-04)\n",
      "Best objective 7.158112902070e+09, best bound 7.158112902070e+09, gap 0.0000%\n"
     ]
    }
   ],
   "source": [
    "m.optimize()"
   ]
  },
  {
   "cell_type": "code",
   "execution_count": null,
   "metadata": {},
   "outputs": [],
   "source": [
    "x1_siv"
   ]
  },
  {
   "cell_type": "code",
   "execution_count": 20,
   "metadata": {},
   "outputs": [
    {
     "data": {
      "text/plain": [
       "{(0, 0): <gurobi.Var C17892 (value -0.0)>,\n",
       " (0, 1): <gurobi.Var C17893 (value -0.0)>,\n",
       " (1, 0): <gurobi.Var C17894 (value -0.0)>,\n",
       " (1, 1): <gurobi.Var C17895 (value -0.0)>,\n",
       " (2, 0): <gurobi.Var C17896 (value -0.0)>,\n",
       " (2, 1): <gurobi.Var C17897 (value 0.0)>,\n",
       " (3, 0): <gurobi.Var C17898 (value -0.0)>,\n",
       " (3, 1): <gurobi.Var C17899 (value -0.0)>,\n",
       " (4, 0): <gurobi.Var C17900 (value -0.0)>,\n",
       " (4, 1): <gurobi.Var C17901 (value 1.0)>,\n",
       " (5, 0): <gurobi.Var C17902 (value -0.0)>,\n",
       " (5, 1): <gurobi.Var C17903 (value -0.0)>,\n",
       " (6, 0): <gurobi.Var C17904 (value -0.0)>,\n",
       " (6, 1): <gurobi.Var C17905 (value -0.0)>}"
      ]
     },
     "execution_count": 20,
     "metadata": {},
     "output_type": "execute_result"
    }
   ],
   "source": [
    "y_ip"
   ]
  }
 ],
 "metadata": {
  "kernelspec": {
   "display_name": "Python 3 (ipykernel)",
   "language": "python",
   "name": "python3"
  },
  "language_info": {
   "codemirror_mode": {
    "name": "ipython",
    "version": 3
   },
   "file_extension": ".py",
   "mimetype": "text/x-python",
   "name": "python",
   "nbconvert_exporter": "python",
   "pygments_lexer": "ipython3",
   "version": "3.9.7"
  }
 },
 "nbformat": 4,
 "nbformat_minor": 2
}
