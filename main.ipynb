{
 "cells": [
  {
   "cell_type": "code",
   "execution_count": 2,
   "metadata": {
    "colab": {
     "base_uri": "https://localhost:8080/"
    },
    "executionInfo": {
     "elapsed": 23014,
     "status": "ok",
     "timestamp": 1690840615184,
     "user": {
      "displayName": "Anita Yang",
      "userId": "07401992262269866418"
     },
     "user_tz": 240
    },
    "id": "2Ohs0FZzVnbD",
    "outputId": "68d26966-be38-421e-f864-83e51a7d4f3b"
   },
   "outputs": [
    {
     "name": "stdout",
     "output_type": "stream",
     "text": [
      "Requirement already satisfied: pandas in c:\\users\\anita\\anaconda3\\lib\\site-packages (2.0.3)\n",
      "Requirement already satisfied: python-dateutil>=2.8.2 in c:\\users\\anita\\anaconda3\\lib\\site-packages (from pandas) (2.8.2)\n",
      "Requirement already satisfied: tzdata>=2022.1 in c:\\users\\anita\\anaconda3\\lib\\site-packages (from pandas) (2023.3)\n",
      "Requirement already satisfied: pytz>=2020.1 in c:\\users\\anita\\anaconda3\\lib\\site-packages (from pandas) (2022.7)\n",
      "Requirement already satisfied: numpy>=1.21.0 in c:\\users\\anita\\anaconda3\\lib\\site-packages (from pandas) (1.25.2)\n",
      "Requirement already satisfied: six>=1.5 in c:\\users\\anita\\anaconda3\\lib\\site-packages (from python-dateutil>=2.8.2->pandas) (1.16.0)\n",
      "Note: you may need to restart the kernel to use updated packages.\n",
      "Requirement already satisfied: geopy in c:\\users\\anita\\anaconda3\\lib\\site-packages (2.3.0)\n",
      "Requirement already satisfied: geographiclib<3,>=1.52 in c:\\users\\anita\\anaconda3\\lib\\site-packages (from geopy) (2.0)\n",
      "Note: you may need to restart the kernel to use updated packages.\n",
      "Requirement already satisfied: numpy in c:\\users\\anita\\anaconda3\\lib\\site-packages (1.25.2)\n",
      "Note: you may need to restart the kernel to use updated packages.\n",
      "Requirement already satisfied: gurobipy in c:\\users\\anita\\anaconda3\\lib\\site-packages (10.0.2)\n",
      "Note: you may need to restart the kernel to use updated packages.\n"
     ]
    }
   ],
   "source": [
    "\n",
    "%pip install pandas\n",
    "%pip install geopy\n",
    "%pip install numpy\n",
    "%pip install gurobipy\n",
    "\n",
    "\n"
   ]
  },
  {
   "cell_type": "code",
   "execution_count": 3,
   "metadata": {
    "executionInfo": {
     "elapsed": 41,
     "status": "ok",
     "timestamp": 1690840615185,
     "user": {
      "displayName": "Anita Yang",
      "userId": "07401992262269866418"
     },
     "user_tz": 240
    },
    "id": "wdIl5EQXWmPT"
   },
   "outputs": [],
   "source": [
    "import pandas as pd\n",
    "\n",
    "\n",
    "def load_total_demand():\n",
    "  yearly_sales = pd.read_csv('main_data/vw_yearly_sales.csv')\n",
    "  return yearly_sales\n",
    "\n",
    "\n",
    "def load_dcs():\n",
    "  # 2 samples\n",
    "  # dcs= pd.read_csv('small_list_of_dcs.csv', encoding= 'unicode_escape', names=['ID', \"Name\",\"City\",\"State\",\"Address Line 1\",\"Address Line 2\", \"Coordinates\", \"Area m3\", \"Facility Type\", \"StateConst\"])\n",
    "\n",
    "  # FULL DATASET\n",
    "  dcs = pd.read_csv('main_data/list_of_dcs.csv', encoding= 'unicode_escape', names=['ID', \"Name\",\"City\",\"State\",\"Address Line 1\",\"Address Line 2\", \"Coordinates\", \"Area m3\", \"Facility Type\", \"StateConst\"])\n",
    "  #stateconst is a constant used to account for the different prices for the cost of living and rent in various states\n",
    "\n",
    "  dcs['Area sqft'] = round(dcs['Area m3'] * 10.7639)\n",
    "  return dcs\n",
    "\n",
    "\n",
    "\n",
    "def load_dealers():\n",
    "  # https://www.vw.com/app/dccsearch/vw-us/en/Find%20a%20Volkswagen%20Dealer/+/38.353354499999995/-95.3817145/3/+/+/+/+\n",
    "\n",
    "  # 2 SAMPLES\n",
    "  # dealers= pd.read_csv('small_list_of_dealers.csv',names=['ID', \"Name\",\"Address Line 1\",\"Address Line 2\", \"Website\",\"Phone Number\", \"Coordinates\"])\n",
    "\n",
    "  # FULL DATASET\n",
    "  dealers= pd.read_csv('main_data/list_of_dealers.csv',names=['ID', \"Name\",\"Address Line 1\",\"Address Line 2\", \"Website\",\"Phone Number\", \"Coordinates\"])\n",
    "  return dealers\n",
    "\n",
    "\n",
    "def load_plants():\n",
    "  plants= pd.read_csv('main_data/list_of_vw_plants_and_products.csv', encoding= 'unicode_escape',names=['ID', \"City\",\"Country\", \"Model\",\"Coordinates\",\"Current/Former plant\"])\n",
    "\n",
    "  plants_usa = plants.loc[plants[\"Country\"]==\"USA\"]\n",
    "\n",
    "  return plants_usa\n",
    "\n",
    "def load_dealer_demands():\n",
    "\n",
    "  def single_sample():\n",
    "\n",
    "  # 4 samples\n",
    "    dealers= pd.read_csv('Preliminary_data/small_list_of_demand_data.csv',names=['ID',\"Name\",\"Rating\",\"Proportion\",\"na\"])\n",
    "    del dealers[dealers.columns[-1]]\n",
    "    return dealers\n",
    "\n",
    "  def full_data():\n",
    "  # FULL DATASET\n",
    "    dealers= pd.read_csv('main_data/list_of_demand_data.csv',names=['ID',\"Name\",\"Rating\",\"Proportion\",\"na\", \"na2\", \"na3\"])\n",
    "    del dealers[dealers.columns[-1]]\n",
    "    del dealers[dealers.columns[-1]]\n",
    "    del dealers[dealers.columns[-1]]\n",
    "    return dealers\n",
    "\n",
    "  dealers = full_data() # either call single_sample or full_data\n",
    "\n",
    "  return dealers\n"
   ]
  },
  {
   "cell_type": "code",
   "execution_count": 4,
   "metadata": {
    "colab": {
     "base_uri": "https://localhost:8080/",
     "height": 423
    },
    "executionInfo": {
     "elapsed": 39,
     "status": "ok",
     "timestamp": 1690840615185,
     "user": {
      "displayName": "Anita Yang",
      "userId": "07401992262269866418"
     },
     "user_tz": 240
    },
    "id": "F-ES9RxaAXkO",
    "outputId": "f6c4134d-eac5-4f8e-e06b-2fc5ba7a175d"
   },
   "outputs": [
    {
     "ename": "FileNotFoundError",
     "evalue": "[Errno 2] No such file or directory: 'data/list_of_demand_data.csv'",
     "output_type": "error",
     "traceback": [
      "\u001b[1;31m---------------------------------------------------------------------------\u001b[0m",
      "\u001b[1;31mFileNotFoundError\u001b[0m                         Traceback (most recent call last)",
      "Cell \u001b[1;32mIn[4], line 1\u001b[0m\n\u001b[1;32m----> 1\u001b[0m \u001b[43mload_dealer_demands\u001b[49m\u001b[43m(\u001b[49m\u001b[43m)\u001b[49m\n",
      "Cell \u001b[1;32mIn[3], line 57\u001b[0m, in \u001b[0;36mload_dealer_demands\u001b[1;34m()\u001b[0m\n\u001b[0;32m     54\u001b[0m   \u001b[38;5;28;01mdel\u001b[39;00m dealers[dealers\u001b[38;5;241m.\u001b[39mcolumns[\u001b[38;5;241m-\u001b[39m\u001b[38;5;241m1\u001b[39m]]\n\u001b[0;32m     55\u001b[0m   \u001b[38;5;28;01mreturn\u001b[39;00m dealers\n\u001b[1;32m---> 57\u001b[0m dealers \u001b[38;5;241m=\u001b[39m \u001b[43mfull_data\u001b[49m\u001b[43m(\u001b[49m\u001b[43m)\u001b[49m \u001b[38;5;66;03m# either call single_sample or full_data\u001b[39;00m\n\u001b[0;32m     59\u001b[0m \u001b[38;5;28;01mreturn\u001b[39;00m dealers\n",
      "Cell \u001b[1;32mIn[3], line 51\u001b[0m, in \u001b[0;36mload_dealer_demands.<locals>.full_data\u001b[1;34m()\u001b[0m\n\u001b[0;32m     49\u001b[0m \u001b[38;5;28;01mdef\u001b[39;00m \u001b[38;5;21mfull_data\u001b[39m():\n\u001b[0;32m     50\u001b[0m \u001b[38;5;66;03m# FULL DATASET\u001b[39;00m\n\u001b[1;32m---> 51\u001b[0m   dealers\u001b[38;5;241m=\u001b[39m \u001b[43mpd\u001b[49m\u001b[38;5;241;43m.\u001b[39;49m\u001b[43mread_csv\u001b[49m\u001b[43m(\u001b[49m\u001b[38;5;124;43m'\u001b[39;49m\u001b[38;5;124;43mdata/list_of_demand_data.csv\u001b[39;49m\u001b[38;5;124;43m'\u001b[39;49m\u001b[43m,\u001b[49m\u001b[43mnames\u001b[49m\u001b[38;5;241;43m=\u001b[39;49m\u001b[43m[\u001b[49m\u001b[38;5;124;43m'\u001b[39;49m\u001b[38;5;124;43mID\u001b[39;49m\u001b[38;5;124;43m'\u001b[39;49m\u001b[43m,\u001b[49m\u001b[38;5;124;43m\"\u001b[39;49m\u001b[38;5;124;43mName\u001b[39;49m\u001b[38;5;124;43m\"\u001b[39;49m\u001b[43m,\u001b[49m\u001b[38;5;124;43m\"\u001b[39;49m\u001b[38;5;124;43mRating\u001b[39;49m\u001b[38;5;124;43m\"\u001b[39;49m\u001b[43m,\u001b[49m\u001b[38;5;124;43m\"\u001b[39;49m\u001b[38;5;124;43mProportion\u001b[39;49m\u001b[38;5;124;43m\"\u001b[39;49m\u001b[43m,\u001b[49m\u001b[38;5;124;43m\"\u001b[39;49m\u001b[38;5;124;43mna\u001b[39;49m\u001b[38;5;124;43m\"\u001b[39;49m\u001b[43m,\u001b[49m\u001b[43m \u001b[49m\u001b[38;5;124;43m\"\u001b[39;49m\u001b[38;5;124;43mna2\u001b[39;49m\u001b[38;5;124;43m\"\u001b[39;49m\u001b[43m,\u001b[49m\u001b[43m \u001b[49m\u001b[38;5;124;43m\"\u001b[39;49m\u001b[38;5;124;43mna3\u001b[39;49m\u001b[38;5;124;43m\"\u001b[39;49m\u001b[43m]\u001b[49m\u001b[43m)\u001b[49m\n\u001b[0;32m     52\u001b[0m   \u001b[38;5;28;01mdel\u001b[39;00m dealers[dealers\u001b[38;5;241m.\u001b[39mcolumns[\u001b[38;5;241m-\u001b[39m\u001b[38;5;241m1\u001b[39m]]\n\u001b[0;32m     53\u001b[0m   \u001b[38;5;28;01mdel\u001b[39;00m dealers[dealers\u001b[38;5;241m.\u001b[39mcolumns[\u001b[38;5;241m-\u001b[39m\u001b[38;5;241m1\u001b[39m]]\n",
      "File \u001b[1;32m~\\anaconda3\\lib\\site-packages\\pandas\\io\\parsers\\readers.py:912\u001b[0m, in \u001b[0;36mread_csv\u001b[1;34m(filepath_or_buffer, sep, delimiter, header, names, index_col, usecols, dtype, engine, converters, true_values, false_values, skipinitialspace, skiprows, skipfooter, nrows, na_values, keep_default_na, na_filter, verbose, skip_blank_lines, parse_dates, infer_datetime_format, keep_date_col, date_parser, date_format, dayfirst, cache_dates, iterator, chunksize, compression, thousands, decimal, lineterminator, quotechar, quoting, doublequote, escapechar, comment, encoding, encoding_errors, dialect, on_bad_lines, delim_whitespace, low_memory, memory_map, float_precision, storage_options, dtype_backend)\u001b[0m\n\u001b[0;32m    899\u001b[0m kwds_defaults \u001b[38;5;241m=\u001b[39m _refine_defaults_read(\n\u001b[0;32m    900\u001b[0m     dialect,\n\u001b[0;32m    901\u001b[0m     delimiter,\n\u001b[1;32m   (...)\u001b[0m\n\u001b[0;32m    908\u001b[0m     dtype_backend\u001b[38;5;241m=\u001b[39mdtype_backend,\n\u001b[0;32m    909\u001b[0m )\n\u001b[0;32m    910\u001b[0m kwds\u001b[38;5;241m.\u001b[39mupdate(kwds_defaults)\n\u001b[1;32m--> 912\u001b[0m \u001b[38;5;28;01mreturn\u001b[39;00m \u001b[43m_read\u001b[49m\u001b[43m(\u001b[49m\u001b[43mfilepath_or_buffer\u001b[49m\u001b[43m,\u001b[49m\u001b[43m \u001b[49m\u001b[43mkwds\u001b[49m\u001b[43m)\u001b[49m\n",
      "File \u001b[1;32m~\\anaconda3\\lib\\site-packages\\pandas\\io\\parsers\\readers.py:577\u001b[0m, in \u001b[0;36m_read\u001b[1;34m(filepath_or_buffer, kwds)\u001b[0m\n\u001b[0;32m    574\u001b[0m _validate_names(kwds\u001b[38;5;241m.\u001b[39mget(\u001b[38;5;124m\"\u001b[39m\u001b[38;5;124mnames\u001b[39m\u001b[38;5;124m\"\u001b[39m, \u001b[38;5;28;01mNone\u001b[39;00m))\n\u001b[0;32m    576\u001b[0m \u001b[38;5;66;03m# Create the parser.\u001b[39;00m\n\u001b[1;32m--> 577\u001b[0m parser \u001b[38;5;241m=\u001b[39m TextFileReader(filepath_or_buffer, \u001b[38;5;241m*\u001b[39m\u001b[38;5;241m*\u001b[39mkwds)\n\u001b[0;32m    579\u001b[0m \u001b[38;5;28;01mif\u001b[39;00m chunksize \u001b[38;5;129;01mor\u001b[39;00m iterator:\n\u001b[0;32m    580\u001b[0m     \u001b[38;5;28;01mreturn\u001b[39;00m parser\n",
      "File \u001b[1;32m~\\anaconda3\\lib\\site-packages\\pandas\\io\\parsers\\readers.py:1407\u001b[0m, in \u001b[0;36mTextFileReader.__init__\u001b[1;34m(self, f, engine, **kwds)\u001b[0m\n\u001b[0;32m   1404\u001b[0m     \u001b[38;5;28mself\u001b[39m\u001b[38;5;241m.\u001b[39moptions[\u001b[38;5;124m\"\u001b[39m\u001b[38;5;124mhas_index_names\u001b[39m\u001b[38;5;124m\"\u001b[39m] \u001b[38;5;241m=\u001b[39m kwds[\u001b[38;5;124m\"\u001b[39m\u001b[38;5;124mhas_index_names\u001b[39m\u001b[38;5;124m\"\u001b[39m]\n\u001b[0;32m   1406\u001b[0m \u001b[38;5;28mself\u001b[39m\u001b[38;5;241m.\u001b[39mhandles: IOHandles \u001b[38;5;241m|\u001b[39m \u001b[38;5;28;01mNone\u001b[39;00m \u001b[38;5;241m=\u001b[39m \u001b[38;5;28;01mNone\u001b[39;00m\n\u001b[1;32m-> 1407\u001b[0m \u001b[38;5;28mself\u001b[39m\u001b[38;5;241m.\u001b[39m_engine \u001b[38;5;241m=\u001b[39m \u001b[38;5;28;43mself\u001b[39;49m\u001b[38;5;241;43m.\u001b[39;49m\u001b[43m_make_engine\u001b[49m\u001b[43m(\u001b[49m\u001b[43mf\u001b[49m\u001b[43m,\u001b[49m\u001b[43m \u001b[49m\u001b[38;5;28;43mself\u001b[39;49m\u001b[38;5;241;43m.\u001b[39;49m\u001b[43mengine\u001b[49m\u001b[43m)\u001b[49m\n",
      "File \u001b[1;32m~\\anaconda3\\lib\\site-packages\\pandas\\io\\parsers\\readers.py:1661\u001b[0m, in \u001b[0;36mTextFileReader._make_engine\u001b[1;34m(self, f, engine)\u001b[0m\n\u001b[0;32m   1659\u001b[0m     \u001b[38;5;28;01mif\u001b[39;00m \u001b[38;5;124m\"\u001b[39m\u001b[38;5;124mb\u001b[39m\u001b[38;5;124m\"\u001b[39m \u001b[38;5;129;01mnot\u001b[39;00m \u001b[38;5;129;01min\u001b[39;00m mode:\n\u001b[0;32m   1660\u001b[0m         mode \u001b[38;5;241m+\u001b[39m\u001b[38;5;241m=\u001b[39m \u001b[38;5;124m\"\u001b[39m\u001b[38;5;124mb\u001b[39m\u001b[38;5;124m\"\u001b[39m\n\u001b[1;32m-> 1661\u001b[0m \u001b[38;5;28mself\u001b[39m\u001b[38;5;241m.\u001b[39mhandles \u001b[38;5;241m=\u001b[39m \u001b[43mget_handle\u001b[49m\u001b[43m(\u001b[49m\n\u001b[0;32m   1662\u001b[0m \u001b[43m    \u001b[49m\u001b[43mf\u001b[49m\u001b[43m,\u001b[49m\n\u001b[0;32m   1663\u001b[0m \u001b[43m    \u001b[49m\u001b[43mmode\u001b[49m\u001b[43m,\u001b[49m\n\u001b[0;32m   1664\u001b[0m \u001b[43m    \u001b[49m\u001b[43mencoding\u001b[49m\u001b[38;5;241;43m=\u001b[39;49m\u001b[38;5;28;43mself\u001b[39;49m\u001b[38;5;241;43m.\u001b[39;49m\u001b[43moptions\u001b[49m\u001b[38;5;241;43m.\u001b[39;49m\u001b[43mget\u001b[49m\u001b[43m(\u001b[49m\u001b[38;5;124;43m\"\u001b[39;49m\u001b[38;5;124;43mencoding\u001b[39;49m\u001b[38;5;124;43m\"\u001b[39;49m\u001b[43m,\u001b[49m\u001b[43m \u001b[49m\u001b[38;5;28;43;01mNone\u001b[39;49;00m\u001b[43m)\u001b[49m\u001b[43m,\u001b[49m\n\u001b[0;32m   1665\u001b[0m \u001b[43m    \u001b[49m\u001b[43mcompression\u001b[49m\u001b[38;5;241;43m=\u001b[39;49m\u001b[38;5;28;43mself\u001b[39;49m\u001b[38;5;241;43m.\u001b[39;49m\u001b[43moptions\u001b[49m\u001b[38;5;241;43m.\u001b[39;49m\u001b[43mget\u001b[49m\u001b[43m(\u001b[49m\u001b[38;5;124;43m\"\u001b[39;49m\u001b[38;5;124;43mcompression\u001b[39;49m\u001b[38;5;124;43m\"\u001b[39;49m\u001b[43m,\u001b[49m\u001b[43m \u001b[49m\u001b[38;5;28;43;01mNone\u001b[39;49;00m\u001b[43m)\u001b[49m\u001b[43m,\u001b[49m\n\u001b[0;32m   1666\u001b[0m \u001b[43m    \u001b[49m\u001b[43mmemory_map\u001b[49m\u001b[38;5;241;43m=\u001b[39;49m\u001b[38;5;28;43mself\u001b[39;49m\u001b[38;5;241;43m.\u001b[39;49m\u001b[43moptions\u001b[49m\u001b[38;5;241;43m.\u001b[39;49m\u001b[43mget\u001b[49m\u001b[43m(\u001b[49m\u001b[38;5;124;43m\"\u001b[39;49m\u001b[38;5;124;43mmemory_map\u001b[39;49m\u001b[38;5;124;43m\"\u001b[39;49m\u001b[43m,\u001b[49m\u001b[43m \u001b[49m\u001b[38;5;28;43;01mFalse\u001b[39;49;00m\u001b[43m)\u001b[49m\u001b[43m,\u001b[49m\n\u001b[0;32m   1667\u001b[0m \u001b[43m    \u001b[49m\u001b[43mis_text\u001b[49m\u001b[38;5;241;43m=\u001b[39;49m\u001b[43mis_text\u001b[49m\u001b[43m,\u001b[49m\n\u001b[0;32m   1668\u001b[0m \u001b[43m    \u001b[49m\u001b[43merrors\u001b[49m\u001b[38;5;241;43m=\u001b[39;49m\u001b[38;5;28;43mself\u001b[39;49m\u001b[38;5;241;43m.\u001b[39;49m\u001b[43moptions\u001b[49m\u001b[38;5;241;43m.\u001b[39;49m\u001b[43mget\u001b[49m\u001b[43m(\u001b[49m\u001b[38;5;124;43m\"\u001b[39;49m\u001b[38;5;124;43mencoding_errors\u001b[39;49m\u001b[38;5;124;43m\"\u001b[39;49m\u001b[43m,\u001b[49m\u001b[43m \u001b[49m\u001b[38;5;124;43m\"\u001b[39;49m\u001b[38;5;124;43mstrict\u001b[39;49m\u001b[38;5;124;43m\"\u001b[39;49m\u001b[43m)\u001b[49m\u001b[43m,\u001b[49m\n\u001b[0;32m   1669\u001b[0m \u001b[43m    \u001b[49m\u001b[43mstorage_options\u001b[49m\u001b[38;5;241;43m=\u001b[39;49m\u001b[38;5;28;43mself\u001b[39;49m\u001b[38;5;241;43m.\u001b[39;49m\u001b[43moptions\u001b[49m\u001b[38;5;241;43m.\u001b[39;49m\u001b[43mget\u001b[49m\u001b[43m(\u001b[49m\u001b[38;5;124;43m\"\u001b[39;49m\u001b[38;5;124;43mstorage_options\u001b[39;49m\u001b[38;5;124;43m\"\u001b[39;49m\u001b[43m,\u001b[49m\u001b[43m \u001b[49m\u001b[38;5;28;43;01mNone\u001b[39;49;00m\u001b[43m)\u001b[49m\u001b[43m,\u001b[49m\n\u001b[0;32m   1670\u001b[0m \u001b[43m\u001b[49m\u001b[43m)\u001b[49m\n\u001b[0;32m   1671\u001b[0m \u001b[38;5;28;01massert\u001b[39;00m \u001b[38;5;28mself\u001b[39m\u001b[38;5;241m.\u001b[39mhandles \u001b[38;5;129;01mis\u001b[39;00m \u001b[38;5;129;01mnot\u001b[39;00m \u001b[38;5;28;01mNone\u001b[39;00m\n\u001b[0;32m   1672\u001b[0m f \u001b[38;5;241m=\u001b[39m \u001b[38;5;28mself\u001b[39m\u001b[38;5;241m.\u001b[39mhandles\u001b[38;5;241m.\u001b[39mhandle\n",
      "File \u001b[1;32m~\\anaconda3\\lib\\site-packages\\pandas\\io\\common.py:859\u001b[0m, in \u001b[0;36mget_handle\u001b[1;34m(path_or_buf, mode, encoding, compression, memory_map, is_text, errors, storage_options)\u001b[0m\n\u001b[0;32m    854\u001b[0m \u001b[38;5;28;01melif\u001b[39;00m \u001b[38;5;28misinstance\u001b[39m(handle, \u001b[38;5;28mstr\u001b[39m):\n\u001b[0;32m    855\u001b[0m     \u001b[38;5;66;03m# Check whether the filename is to be opened in binary mode.\u001b[39;00m\n\u001b[0;32m    856\u001b[0m     \u001b[38;5;66;03m# Binary mode does not support 'encoding' and 'newline'.\u001b[39;00m\n\u001b[0;32m    857\u001b[0m     \u001b[38;5;28;01mif\u001b[39;00m ioargs\u001b[38;5;241m.\u001b[39mencoding \u001b[38;5;129;01mand\u001b[39;00m \u001b[38;5;124m\"\u001b[39m\u001b[38;5;124mb\u001b[39m\u001b[38;5;124m\"\u001b[39m \u001b[38;5;129;01mnot\u001b[39;00m \u001b[38;5;129;01min\u001b[39;00m ioargs\u001b[38;5;241m.\u001b[39mmode:\n\u001b[0;32m    858\u001b[0m         \u001b[38;5;66;03m# Encoding\u001b[39;00m\n\u001b[1;32m--> 859\u001b[0m         handle \u001b[38;5;241m=\u001b[39m \u001b[38;5;28;43mopen\u001b[39;49m\u001b[43m(\u001b[49m\n\u001b[0;32m    860\u001b[0m \u001b[43m            \u001b[49m\u001b[43mhandle\u001b[49m\u001b[43m,\u001b[49m\n\u001b[0;32m    861\u001b[0m \u001b[43m            \u001b[49m\u001b[43mioargs\u001b[49m\u001b[38;5;241;43m.\u001b[39;49m\u001b[43mmode\u001b[49m\u001b[43m,\u001b[49m\n\u001b[0;32m    862\u001b[0m \u001b[43m            \u001b[49m\u001b[43mencoding\u001b[49m\u001b[38;5;241;43m=\u001b[39;49m\u001b[43mioargs\u001b[49m\u001b[38;5;241;43m.\u001b[39;49m\u001b[43mencoding\u001b[49m\u001b[43m,\u001b[49m\n\u001b[0;32m    863\u001b[0m \u001b[43m            \u001b[49m\u001b[43merrors\u001b[49m\u001b[38;5;241;43m=\u001b[39;49m\u001b[43merrors\u001b[49m\u001b[43m,\u001b[49m\n\u001b[0;32m    864\u001b[0m \u001b[43m            \u001b[49m\u001b[43mnewline\u001b[49m\u001b[38;5;241;43m=\u001b[39;49m\u001b[38;5;124;43m\"\u001b[39;49m\u001b[38;5;124;43m\"\u001b[39;49m\u001b[43m,\u001b[49m\n\u001b[0;32m    865\u001b[0m \u001b[43m        \u001b[49m\u001b[43m)\u001b[49m\n\u001b[0;32m    866\u001b[0m     \u001b[38;5;28;01melse\u001b[39;00m:\n\u001b[0;32m    867\u001b[0m         \u001b[38;5;66;03m# Binary mode\u001b[39;00m\n\u001b[0;32m    868\u001b[0m         handle \u001b[38;5;241m=\u001b[39m \u001b[38;5;28mopen\u001b[39m(handle, ioargs\u001b[38;5;241m.\u001b[39mmode)\n",
      "\u001b[1;31mFileNotFoundError\u001b[0m: [Errno 2] No such file or directory: 'data/list_of_demand_data.csv'"
     ]
    }
   ],
   "source": [
    "\n",
    "load_dealer_demands() # used google ratings as a indicator of demand/traffic\n"
   ]
  },
  {
   "cell_type": "code",
   "execution_count": null,
   "metadata": {
    "colab": {
     "base_uri": "https://localhost:8080/",
     "height": 519
    },
    "executionInfo": {
     "elapsed": 36,
     "status": "ok",
     "timestamp": 1690840615185,
     "user": {
      "displayName": "Anita Yang",
      "userId": "07401992262269866418"
     },
     "user_tz": 240
    },
    "id": "a7YdjC0NnZwH",
    "outputId": "681b3815-6611-4067-8df1-62ec4a543180"
   },
   "outputs": [],
   "source": [
    "load_total_demand()"
   ]
  },
  {
   "cell_type": "code",
   "execution_count": null,
   "metadata": {
    "colab": {
     "base_uri": "https://localhost:8080/",
     "height": 503
    },
    "executionInfo": {
     "elapsed": 34,
     "status": "ok",
     "timestamp": 1690840615186,
     "user": {
      "displayName": "Anita Yang",
      "userId": "07401992262269866418"
     },
     "user_tz": 240
    },
    "id": "l-iCeuAPnZ-v",
    "outputId": "535e0e07-31c9-445d-fa33-10c4dcfec033"
   },
   "outputs": [],
   "source": [
    "load_dcs()"
   ]
  },
  {
   "cell_type": "code",
   "execution_count": null,
   "metadata": {
    "colab": {
     "base_uri": "https://localhost:8080/",
     "height": 658
    },
    "executionInfo": {
     "elapsed": 180,
     "status": "ok",
     "timestamp": 1690840615337,
     "user": {
      "displayName": "Anita Yang",
      "userId": "07401992262269866418"
     },
     "user_tz": 240
    },
    "id": "aFz292alnaGX",
    "outputId": "240d1775-aa58-4ca1-ceff-8f24b2d5a1b2"
   },
   "outputs": [],
   "source": [
    "load_dealers()"
   ]
  },
  {
   "cell_type": "code",
   "execution_count": null,
   "metadata": {
    "colab": {
     "base_uri": "https://localhost:8080/",
     "height": 175
    },
    "executionInfo": {
     "elapsed": 5,
     "status": "ok",
     "timestamp": 1690840615337,
     "user": {
      "displayName": "Anita Yang",
      "userId": "07401992262269866418"
     },
     "user_tz": 240
    },
    "id": "DfqAkRtiBUU7",
    "outputId": "9be3cce4-61df-450d-8ef8-4ceef3259329"
   },
   "outputs": [],
   "source": [
    "load_plants()"
   ]
  },
  {
   "cell_type": "code",
   "execution_count": null,
   "metadata": {
    "colab": {
     "base_uri": "https://localhost:8080/"
    },
    "executionInfo": {
     "elapsed": 2554,
     "status": "ok",
     "timestamp": 1690840617887,
     "user": {
      "displayName": "Anita Yang",
      "userId": "07401992262269866418"
     },
     "user_tz": 240
    },
    "id": "uabcfta6QMz1",
    "outputId": "7523cf00-3fc9-40f7-aa85-3b3be2051912"
   },
   "outputs": [],
   "source": [
    "### do location work\n",
    "from geopy.distance import geodesic\n",
    "import numpy\n",
    "\n",
    "# ALL DISTANCES ARE IN MILES!!!!\n",
    "# ALL AREAS ARE IN SQFT!!!\n",
    "def dc_to_dealer_distances(dcs, dealers): # using geodesic distance, may want to add 15% or something onto distance\n",
    "  distance_dc_to_dealer = numpy.zeros((len(dcs), len(dealers)))\n",
    "  for dc_id, dc in dcs.iterrows():\n",
    "    for dealer_id, dealer in dealers.iterrows():\n",
    "      point1 = dc[\"Coordinates\"].split(\",\")\n",
    "      point2 = dealer[\"Coordinates\"].split(\",\")\n",
    "      distance = geodesic(point1, point2).miles\n",
    "      dc_id = dc[\"ID\"]\n",
    "      dealer_id = dealer[\"ID\"]\n",
    "      # print (\"distance from dc \" + str(dc_id)+ \" to dealer \"+ str(dealer_id) + \" is \" + str(distance))\n",
    "      distance_dc_to_dealer[dc_id][dealer_id] = distance\n",
    "  distance_dc_to_dealer_df = pd.DataFrame(distance_dc_to_dealer)\n",
    "  return distance_dc_to_dealer_df\n",
    "\n",
    "\n",
    "def plant_to_dc_distances(plants, dcs):\n",
    "  # get coordinates of the 1 usa plant\n",
    "  plant_coordinates = plants['Coordinates'].iloc[0].split(\",\")\n",
    "  distance_plants_to_dcs = [] # since we only have 1 usa plant we can just make everything from there (very convenient)\n",
    "  for dcs_id, dc in dcs.iterrows():\n",
    "    point1 = plant_coordinates\n",
    "    point2 = dc[\"Coordinates\"].split(\",\")\n",
    "    distance = geodesic(point1, point2).miles\n",
    "    dc_id = dc[\"ID\"]\n",
    "    distance_plants_to_dcs.append(distance)\n",
    "  return distance_plants_to_dcs\n",
    "\n",
    "plants = load_plants()\n",
    "dcs = load_dcs()\n",
    "dealers = load_dealers()\n",
    "\n",
    "dcs_to_dealers = dc_to_dealer_distances(dcs, dealers)\n",
    "plants_to_dcs = plant_to_dc_distances(plants, dcs)\n",
    "\n",
    "\n",
    "print(plants_to_dcs)\n",
    "print(dcs_to_dealers)"
   ]
  },
  {
   "cell_type": "code",
   "execution_count": null,
   "metadata": {
    "colab": {
     "base_uri": "https://localhost:8080/"
    },
    "executionInfo": {
     "elapsed": 19,
     "status": "ok",
     "timestamp": 1690840617889,
     "user": {
      "displayName": "Anita Yang",
      "userId": "07401992262269866418"
     },
     "user_tz": 240
    },
    "id": "dmMl4HKqv_1X",
    "outputId": "aa06f4e2-7564-4e7d-f19f-bbdc3416d9cb"
   },
   "outputs": [],
   "source": [
    "plant_to_dc_distances(plants, dcs)"
   ]
  },
  {
   "cell_type": "code",
   "execution_count": null,
   "metadata": {
    "executionInfo": {
     "elapsed": 11,
     "status": "ok",
     "timestamp": 1690840617890,
     "user": {
      "displayName": "Anita Yang",
      "userId": "07401992262269866418"
     },
     "user_tz": 240
    },
    "id": "t0ye-PtjBhbu"
   },
   "outputs": [],
   "source": [
    "## Calculate demands\n",
    "def get_dealer_demands(year):\n",
    "  dealers = load_dealers()\n",
    "  dealer_demands = load_dealer_demands()\n",
    "  total_demands = load_total_demand() # demand for each specific car type\n",
    "\n",
    "\n",
    "  def get_demands(year):\n",
    "    year_demands = total_demands.loc[total_demands['year'] == year]\n",
    "    year_demands = year_demands[[\"Atlas\",\"Cross Sport\",\"ID4\",\"Passat\"]]\n",
    "    return year_demands\n",
    "\n",
    "  year_demands = get_demands(2021)\n",
    "  year_demands = year_demands.values.tolist()[0]\n",
    "\n",
    "  # print(year_demands)\n",
    "\n",
    "  proportion_sum = dealer_demands[\"Proportion\"].sum()\n",
    "\n",
    "  dealer_demands [[\"Ratio of sales\"]] = None\n",
    "  dealer_demands[\"Ratio of sales\"] = dealer_demands[\"Proportion\"]/proportion_sum\n",
    "\n",
    "  # print(dealer_demands)\n",
    "\n",
    "  # # with the sales proportion, get the general sales for each location\n",
    "\n",
    "  temp_ratio_col = pd.DataFrame(dealer_demands[\"Ratio of sales\"])\n",
    "\n",
    "  temp = []\n",
    "  for x in list(dealer_demands[\"Ratio of sales\"]):\n",
    "    temp1=[]\n",
    "    for y in list(year_demands):\n",
    "      temp1.append(round(x*y))\n",
    "    temp.append(temp1)\n",
    "  sales = pd.DataFrame(temp, columns=[\"Atlas\",\"Cross Sport\",\"ID4\",\"Passat\"])\n",
    "  return sales"
   ]
  },
  {
   "cell_type": "code",
   "execution_count": null,
   "metadata": {
    "colab": {
     "base_uri": "https://localhost:8080/",
     "height": 423
    },
    "executionInfo": {
     "elapsed": 152,
     "status": "ok",
     "timestamp": 1690840618032,
     "user": {
      "displayName": "Anita Yang",
      "userId": "07401992262269866418"
     },
     "user_tz": 240
    },
    "id": "_ZqeDtltKRRu",
    "outputId": "1ba0d18f-dd7a-4a6f-f865-7c9f70577f36"
   },
   "outputs": [],
   "source": [
    "sales = get_dealer_demands(2021)\n",
    "sales\n",
    "# the left side are the dealer ids"
   ]
  },
  {
   "cell_type": "code",
   "execution_count": null,
   "metadata": {
    "executionInfo": {
     "elapsed": 13,
     "status": "ok",
     "timestamp": 1690840618033,
     "user": {
      "displayName": "Anita Yang",
      "userId": "07401992262269866418"
     },
     "user_tz": 240
    },
    "id": "ha1CZa7A93cv"
   },
   "outputs": [],
   "source": [
    "## Insert something here with defining facilities\n",
    "\n",
    "\n",
    "def calculate_dc_cost():\n",
    "\n",
    "\n",
    "  def calculate_dc_cost_monthly(id, state, facility_type, areasqft):\n",
    "  # print (id, facility, state, areasqft)\n",
    "    cost = 1.5*areasqft #2$ baseline\n",
    "    insurance = 3850  # https://glcdistribution.com/customer-resources/tools/warehousing-insurance-calculator/ 1 million dollar standard\n",
    "\n",
    "    employee_salaries = (areasqft/2000)*20*(40*4) # https://www.payscale.com/research/CA/Job=Warehouse_Material_Handler/Hourly_Rate\n",
    "\n",
    "  # pay 1 dollar per sqft for utility\n",
    "    utilities = areasqft\n",
    "\n",
    "\n",
    "  # $600 – $950 per month to lease a $50,000 forklift.\n",
    "  # https://discord.com/channels/260272353118912522/1093655130076893284/1129635416409133076 1 forklift services 5000 sqft\n",
    "    forklift_cost =  areasqft/5000  *800\n",
    "\n",
    "\n",
    "    # https://discord.com/channels/260272353118912522/1093655130076893284/1129639090942398504\n",
    "    price_it_costs_to_build_warehouse_sqft = 100*areasqft\n",
    "    property_tax = 6/1000*price_it_costs_to_build_warehouse_sqft\n",
    "\n",
    "\n",
    "    security = 1000 + (5 * 8 * 28*20) # 1000 fixed cost monitoring + 20$/h * 40h/week * 28 people\n",
    "\n",
    "    if facility_type == 1:\n",
    "      ft = 1\n",
    "    else:\n",
    "      ft = 1.2\n",
    "\n",
    "    price = (cost + insurance + employee_salaries + utilities + forklift_cost + security + property_tax)* (state/64187)*ft\n",
    "    # 508 is the price of 100 big macs and state is the price of 100 big macs in that state\n",
    "    return price\n",
    "\n",
    "\n",
    "  prices = []\n",
    "\n",
    "  for i in range(len(dcs.index)):\n",
    "      moneys = calculate_dc_cost_monthly(float(dcs.loc[i,[\"ID\"]]), float(dcs.loc[i,[\"StateConst\"]]), float(dcs.loc[i,[\"Facility Type\"]]),float(dcs.loc[i,[\"Area sqft\"]] ))\n",
    "      prices.append(moneys*12)\n",
    "  return prices\n",
    "  # print(calculate_dc_cost())\n",
    "\n",
    "\n",
    "# C_i\n",
    "def calculate_dc_shipment_capacity():\n",
    "  dcs = load_dcs()\n",
    "  dcs = dcs[[\"Area sqft\",'Facility Type']]\n",
    "\n",
    "\n",
    "# The largest car to consider is the Cross Sport\n",
    "# It has dimensions: 4,966 mm L x 1,990 mm W x 1,723 mm H\n",
    "# we can round this up to: 17 ft length, 7 foot wide, 6 foot tall\n",
    "# add about 2 ft to everything as a buffer\n",
    "# new measurement is about 20 ft length, 10ft wide, 8 foot tall\n",
    "# so, we can predict that 2 car takes up 200/2, each car takes 100 sq foot\n",
    "\n",
    "# from https://discord.com/channels/260272353118912522/1093655130076893284/1131271495004459018,\n",
    "# we see that 60-80% of DCs are for storage. Let's assume 60%\n",
    "\n",
    "\n",
    "  vehicle_capacity = dcs[\"Area sqft\"]*0.5 /100\n",
    "\n",
    "\n",
    "# from https://discord.com/channels/260272353118912522/1093655130076893284/1131266537869820075\n",
    "# we see that most vehicles stay in the dc a couple of weeks (take 2 weeks)\n",
    "# we can frame this as: All vehicles in the DCS arrive at time 0, and after 2 weeks all are released\n",
    "\n",
    "  annual_throughput = round(vehicle_capacity) * (52/2)\n",
    "\n",
    "  # dcs[\"Annual Throughput\"] = annual_throughput\n",
    "\n",
    "  # print(annual_throughput)\n",
    "  return (list(annual_throughput))\n",
    "\n",
    "# WE NEED TO BE CAREFUL ABOUT TYPE 2 FACILITIES:\n",
    "\n",
    "# print(calculate_dc_cost())\n",
    "\n",
    "# print(calculate_dc_shipment_capacity())"
   ]
  },
  {
   "cell_type": "markdown",
   "metadata": {
    "id": "9yIcWTgTmsGf"
   },
   "source": [
    "# Important Verbiage"
   ]
  },
  {
   "cell_type": "markdown",
   "metadata": {
    "id": "doHwXn8yccn2"
   },
   "source": [
    "Has most of the answers:\n",
    "\n",
    "def generate_facility_cost\n",
    "\n",
    "---\n",
    "### Generally 2-3$ per square foot\n",
    "### https://www.warehousingandfulfillment.com/resources/fulfillment-cost-calculator/\n",
    "\n",
    "1. Rent or Mortgage:\n",
    "[A 50,000 square foot steel warehouse, in the words of one construction expert, will cost between 52,800 and 312,500 per month in addition to monthly rent, utilities, insurance, and other associated costs. A 100,000 increase in the monthly budget will be made up of the cost of a turnkey warehouse, which will also be included in the estimate.](https://www.hechtgroup.com/the-average-size-of-a-small-warehouse-is-1-000-5-000-square-feet/)\n",
    "\n",
    "\n",
    "2. Insurance:\n",
    "- a standard warehouse general liability is 1-2 million of coverage, which is about 100/month\n",
    "3. Salaries:\n",
    "```\n",
    "There is no definitive answer to how many employees per square foot warehouse as it depends on a variety of factors such as the type of products being stored, the level of automation in the warehouse, and the workflows. However, a good rule of thumb is to have one employee for every 1,000-1,500 square feet of warehouse space. This allows for efficient operations and ensures that there is enough staff to handle the volume of work.Every employee in a warehouse is allocated about 200-250 square feet of space. Distribution centers had a median square footage of 240,410 in 2016, 176,600 in 2017, and 305,000 in 2018. If a warehouse is properly designed, it will be more efficient and require less space per employee than if it is poorly designed. The number of warehouse employees varies greatly. Warehouses in general are less than 10,000 square feet in size. Eight-hour shifts pay between $14.80 and $19.90 per hour on average. Approximately 35% of the total warehouse space is estimated to be occupied by this type of warehouse.\n",
    "```\n",
    "`https://www.hechtgroup.com/how-many-employees-should-a-warehouse-have-per-square-foot/`\n",
    "\n",
    "4. Utilities:\n",
    "- [average utlity cost per square foot commercial property is about 1 dollar/sqft for electricity](https://www.iotacommunications.com/blog/average-utility-cost-per-square-foot-commercial-property/)\n",
    "5. Equipment:\n",
    "875$ lease a forklift\n",
    "\n",
    "6. Licensing and Permits:\n",
    "\n",
    "7. Maintenance and Repairs:\n",
    "\n",
    "8. Property Taxes:\n",
    "\n",
    "9. Security:\n",
    "\n",
    "10. Technology:\n",
    "\n",
    "\n"
   ]
  },
  {
   "cell_type": "markdown",
   "metadata": {
    "id": "AVYfrULDnDb-"
   },
   "source": [
    "# Back to Code"
   ]
  },
  {
   "cell_type": "code",
   "execution_count": null,
   "metadata": {
    "executionInfo": {
     "elapsed": 13,
     "status": "ok",
     "timestamp": 1690840618034,
     "user": {
      "displayName": "Anita Yang",
      "userId": "07401992262269866418"
     },
     "user_tz": 240
    },
    "id": "RGg9jwKnv_kE"
   },
   "outputs": [],
   "source": [
    "## Determining the cost of transportation\n",
    "\n",
    "\n",
    "## THE FUNCTION OF SHIPPING TRUCKS CAN BE APPROXIMATED BY A PIECEWISE FUNCTION\n",
    "# https://www.desmos.com/calculator/ipxbog2uyr\n",
    "# constructed from the data here: https://www.marketwatch.com/guides/car-shipping/truck-shipping/#:~:text=According%20to%20quotes%20we%20received,when%20using%20an%20enclosed%20carrier.\n",
    "\n",
    "def fixed_cost_shipment(): #T_1\n",
    "  return 186 # cost to drive 0 miles\n",
    "\n",
    "def calculate_variable_cost_shipment(mileage): #T_2\n",
    "  # if mileage < 1135:\n",
    "  #   return mileage * (551/535)\n",
    "  # return mileage * (0.43)\n",
    "  return (0.43)\n",
    "\n",
    "  # TODO: WE ARE ASSUMING FOR SIMPLICYT SAKE 0.43$/MILE AND ARE NOT CONSIDERING THE OTHER FUNCTION FOR MODELLING RIGHT NOW\n",
    "\n",
    "\n",
    "\n",
    "\n"
   ]
  },
  {
   "cell_type": "code",
   "execution_count": null,
   "metadata": {
    "colab": {
     "base_uri": "https://localhost:8080/"
    },
    "executionInfo": {
     "elapsed": 4112,
     "status": "ok",
     "timestamp": 1690840622133,
     "user": {
      "displayName": "Anita Yang",
      "userId": "07401992262269866418"
     },
     "user_tz": 240
    },
    "id": "Co4M99Xfm39J",
    "outputId": "51cd35c1-97f5-4c0b-c9c2-2d7fb6e9a843"
   },
   "outputs": [],
   "source": [
    "## The modelling?\n",
    "import gurobipy as gp\n",
    "from gurobipy import GRB\n",
    "\n",
    "\n",
    "# Create environment with WLS license\n",
    "e = gp.Env(empty=True)\n",
    "e.setParam('WLSACCESSID', '47fa1c45-5377-4f93-87d4-3da7da2b6955')\n",
    "e.setParam('WLSSECRET', '7dfbddcb-7333-4ec7-927d-b459cffd9565')\n",
    "e.setParam('LICENSEID', 868415)\n",
    "e.start()\n",
    "\n",
    "\n",
    "##LOAD DATA\n",
    "\n",
    "# plants = load_plants()\n",
    "# dcs = load_dcs()\n",
    "# dealers = load_dealers()\n",
    "\n",
    "# dcs_to_dealers = dc_to_dealer_distances(dcs, dealers)\n",
    "# plants_to_dcs = plant_to_dc_distances(plants, dcs)\n",
    "# dealer_demands = get_dealer_demands(2021)\n",
    "# dc_annual_cost = calculate_dc_cost()\n",
    "\n",
    "\n",
    "\n",
    "\n",
    "\n",
    "plants = load_plants()\n",
    "dcs = load_dcs()\n",
    "dealers = load_dealers()\n",
    "\n",
    "dcs_to_dealers = dc_to_dealer_distances(dcs, dealers)\n",
    "plants_to_dcs = plant_to_dc_distances(plants, dcs)\n",
    "dealer_demands = get_dealer_demands(2021) ## car demand for each dealership\n",
    "dc_annual_cost = calculate_dc_cost()\n",
    "\n",
    "\n",
    "\n",
    "# define sets\n",
    "plants_set = [0] # set S\n",
    "dcs_set = list(dcs[\"ID\"]) # set I\n",
    "dealers_set = list(dealers[\"ID\"]) # set J\n",
    "vehicle_set = [0,1,2,3] # we define 0 to 3, corresponding to Atlas, CrossSport, ID4 and Passat vehicles (set V)\n",
    "facility_type_set = [0, 1] # set P"
   ]
  },
  {
   "cell_type": "code",
   "execution_count": null,
   "metadata": {
    "colab": {
     "base_uri": "https://localhost:8080/"
    },
    "executionInfo": {
     "elapsed": 21,
     "status": "ok",
     "timestamp": 1690840622134,
     "user": {
      "displayName": "Anita Yang",
      "userId": "07401992262269866418"
     },
     "user_tz": 240
    },
    "id": "4EL8nFf56mWX",
    "outputId": "b36e2eb8-7ce0-4de6-ab42-1540c8068515"
   },
   "outputs": [],
   "source": [
    "dcs_set"
   ]
  },
  {
   "cell_type": "code",
   "execution_count": null,
   "metadata": {
    "executionInfo": {
     "elapsed": 17,
     "status": "ok",
     "timestamp": 1690840622136,
     "user": {
      "displayName": "Anita Yang",
      "userId": "07401992262269866418"
     },
     "user_tz": 240
    },
    "id": "01W4QsCQiIOU"
   },
   "outputs": [],
   "source": [
    "# Parameter prep - we change the dataframes to arrays of sorts, which we can use indexes and such in the formulation\n",
    "\n",
    "d_jv = dealer_demands.values\n",
    "# d_jv[1][0]\n",
    "\n",
    "m_ij = dcs_to_dealers.values\n",
    "\n",
    "# dc 1 to dealer 2 should be 1475.6\n",
    "# m_ij[1][2]\n",
    "\n",
    "c_si = plants_to_dcs\n",
    "\n",
    "L_j = 1 # load factor is 1\n",
    "\n",
    "T_1 = fixed_cost_shipment()\n",
    "\n",
    "T_2 = calculate_variable_cost_shipment(\"dummy_value\") # see code comments on why we do this as a temp hack for a preliminary model\n",
    "\n",
    "f_ip = dc_annual_cost\n",
    "\n",
    "C_i = calculate_dc_shipment_capacity()"
   ]
  },
  {
   "cell_type": "code",
   "execution_count": null,
   "metadata": {
    "colab": {
     "base_uri": "https://localhost:8080/"
    },
    "executionInfo": {
     "elapsed": 677,
     "status": "ok",
     "timestamp": 1690840622797,
     "user": {
      "displayName": "Anita Yang",
      "userId": "07401992262269866418"
     },
     "user_tz": 240
    },
    "id": "S6aj5ksVqghN",
    "outputId": "0a08d421-4cbd-49c0-b16d-7b0c11d46de3"
   },
   "outputs": [],
   "source": [
    "d_jv"
   ]
  },
  {
   "cell_type": "code",
   "execution_count": null,
   "metadata": {
    "colab": {
     "base_uri": "https://localhost:8080/"
    },
    "executionInfo": {
     "elapsed": 20,
     "status": "ok",
     "timestamp": 1690840622798,
     "user": {
      "displayName": "Anita Yang",
      "userId": "07401992262269866418"
     },
     "user_tz": 240
    },
    "id": "enUp3UXLqiOd",
    "outputId": "29f9afb6-2c8f-448d-9ad6-cdec1852fb57"
   },
   "outputs": [],
   "source": [
    "m_ij"
   ]
  },
  {
   "cell_type": "code",
   "execution_count": null,
   "metadata": {
    "colab": {
     "base_uri": "https://localhost:8080/"
    },
    "executionInfo": {
     "elapsed": 18,
     "status": "ok",
     "timestamp": 1690840622798,
     "user": {
      "displayName": "Anita Yang",
      "userId": "07401992262269866418"
     },
     "user_tz": 240
    },
    "id": "g82o6YFrqi5e",
    "outputId": "5761e580-5555-4c54-c56c-9edc80d4490c"
   },
   "outputs": [],
   "source": [
    "c_si"
   ]
  },
  {
   "cell_type": "code",
   "execution_count": null,
   "metadata": {
    "colab": {
     "base_uri": "https://localhost:8080/"
    },
    "executionInfo": {
     "elapsed": 14,
     "status": "ok",
     "timestamp": 1690840622798,
     "user": {
      "displayName": "Anita Yang",
      "userId": "07401992262269866418"
     },
     "user_tz": 240
    },
    "id": "_WBU0N6Sqk1G",
    "outputId": "bdc1fddb-b242-4e32-bc19-8c2e674ddd22"
   },
   "outputs": [],
   "source": [
    "L_j"
   ]
  },
  {
   "cell_type": "code",
   "execution_count": null,
   "metadata": {
    "colab": {
     "base_uri": "https://localhost:8080/"
    },
    "executionInfo": {
     "elapsed": 13,
     "status": "ok",
     "timestamp": 1690840622799,
     "user": {
      "displayName": "Anita Yang",
      "userId": "07401992262269866418"
     },
     "user_tz": 240
    },
    "id": "nOzXpf_Xqmqe",
    "outputId": "0415b349-0f3e-4d3a-9eed-39f8a167ed8e"
   },
   "outputs": [],
   "source": [
    "T_1"
   ]
  },
  {
   "cell_type": "code",
   "execution_count": null,
   "metadata": {
    "colab": {
     "base_uri": "https://localhost:8080/"
    },
    "executionInfo": {
     "elapsed": 11,
     "status": "ok",
     "timestamp": 1690840622799,
     "user": {
      "displayName": "Anita Yang",
      "userId": "07401992262269866418"
     },
     "user_tz": 240
    },
    "id": "UR3WtevZqnrm",
    "outputId": "26060973-4a6a-4a0e-a13a-d52a687c8879"
   },
   "outputs": [],
   "source": [
    "T_2"
   ]
  },
  {
   "cell_type": "code",
   "execution_count": null,
   "metadata": {
    "colab": {
     "base_uri": "https://localhost:8080/"
    },
    "executionInfo": {
     "elapsed": 9,
     "status": "ok",
     "timestamp": 1690840622799,
     "user": {
      "displayName": "Anita Yang",
      "userId": "07401992262269866418"
     },
     "user_tz": 240
    },
    "id": "50yIjuV_qow-",
    "outputId": "4a95de56-a84b-47c9-c426-60c32c0e6a0a"
   },
   "outputs": [],
   "source": [
    "f_ip"
   ]
  },
  {
   "cell_type": "code",
   "execution_count": null,
   "metadata": {
    "colab": {
     "base_uri": "https://localhost:8080/"
    },
    "executionInfo": {
     "elapsed": 317,
     "status": "ok",
     "timestamp": 1690840623109,
     "user": {
      "displayName": "Anita Yang",
      "userId": "07401992262269866418"
     },
     "user_tz": 240
    },
    "id": "TEdXtTmsqlv-",
    "outputId": "06c908b8-8771-4580-9212-6b39085571f3"
   },
   "outputs": [],
   "source": [
    "C_i"
   ]
  },
  {
   "cell_type": "code",
   "execution_count": null,
   "metadata": {
    "executionInfo": {
     "elapsed": 5,
     "status": "ok",
     "timestamp": 1690840623314,
     "user": {
      "displayName": "Anita Yang",
      "userId": "07401992262269866418"
     },
     "user_tz": 240
    },
    "id": "xfCE2qnViG6s"
   },
   "outputs": [],
   "source": [
    "m = gp.Model(env=e)\n",
    "\n",
    "# CREATE THE DECISION VARIABLES HERE\n",
    "# : Annual shipment of type v∈V vehicles from source s∈S to DC location i∈I\n",
    "x1_siv = m.addVars(plants_set, dcs_set, vehicle_set, vtype=GRB.INTEGER) #\n",
    "x2_ijv = m.addVars(dcs_set, dealers_set, vehicle_set, vtype=GRB.INTEGER )\n",
    "y_ip = m.addVars(dcs_set, facility_type_set, vtype=GRB.BINARY)"
   ]
  },
  {
   "cell_type": "code",
   "execution_count": null,
   "metadata": {
    "colab": {
     "base_uri": "https://localhost:8080/"
    },
    "executionInfo": {
     "elapsed": 6,
     "status": "ok",
     "timestamp": 1690840623315,
     "user": {
      "displayName": "Anita Yang",
      "userId": "07401992262269866418"
     },
     "user_tz": 240
    },
    "id": "8dzc4BtqrrMt",
    "outputId": "04f3e25c-c234-4415-bb50-4aea4a4fb0f1"
   },
   "outputs": [],
   "source": [
    "x1_siv"
   ]
  },
  {
   "cell_type": "code",
   "execution_count": null,
   "metadata": {
    "colab": {
     "base_uri": "https://localhost:8080/"
    },
    "executionInfo": {
     "elapsed": 240,
     "status": "ok",
     "timestamp": 1690840623551,
     "user": {
      "displayName": "Anita Yang",
      "userId": "07401992262269866418"
     },
     "user_tz": 240
    },
    "id": "w2Sv7vNcrvkd",
    "outputId": "42a80cab-cf98-41cc-d34f-9c302871deb7"
   },
   "outputs": [],
   "source": [
    "x2_ijv"
   ]
  },
  {
   "cell_type": "code",
   "execution_count": null,
   "metadata": {
    "colab": {
     "base_uri": "https://localhost:8080/"
    },
    "executionInfo": {
     "elapsed": 3,
     "status": "ok",
     "timestamp": 1690840623551,
     "user": {
      "displayName": "Anita Yang",
      "userId": "07401992262269866418"
     },
     "user_tz": 240
    },
    "id": "DV4tYzpty4H6",
    "outputId": "bcb6d20c-594d-41e0-8ddc-098a232b26cf"
   },
   "outputs": [],
   "source": [
    "y_ip"
   ]
  },
  {
   "cell_type": "code",
   "execution_count": null,
   "metadata": {
    "executionInfo": {
     "elapsed": 1055,
     "status": "ok",
     "timestamp": 1690840624605,
     "user": {
      "displayName": "Anita Yang",
      "userId": "07401992262269866418"
     },
     "user_tz": 240
    },
    "id": "lV5HqbOm6tWn"
   },
   "outputs": [],
   "source": [
    "# TODO: FIX THIS\n",
    "#  m.setObjective(, gp.GRB.MINIMIZE)\n",
    "\n",
    "# obj2_sub1 = sum(x2_ijv[i, j, v] + x1_siv[s, i, v] for v in vehicle_set for j in dealers_set for s in plants_set for i in dcs_set)\n",
    "# obj2 = sum(obj2_sub1 * c_si[i] for s in plants_set for i in dcs_set)\n",
    "\n",
    "# Need to verify them all with Affleck\n",
    "obj1 = sum((x2_ijv[i, j, v]/L_j)*(T_1 + T_1*m_ij[i, j]) for v in vehicle_set for j in dealers_set for i in dcs_set)\n",
    "\n",
    "# Since we only have one plant, c_si should only take in i as an index. We are good.\n",
    "obj2 = sum(sum(x2_ijv[i, j, v] + x1_siv[s, i, v] for v in vehicle_set for j in dealers_set for s in plants_set) * c_si[i] for i in dcs_set)\n",
    "\n",
    "obj3 = sum(x1_siv[s, i, v] for v in vehicle_set for s in plants_set for i in dcs_set)\n",
    "\n",
    "# This works for a small example, but not for a larger example\n",
    "# Can we just do one type of facility?\n",
    "obj4 = sum(f_ip[i]*y_ip[i, p] for p in facility_type_set for i in dcs_set)\n",
    "\n",
    "m.setObjective(obj1 + obj2 + obj3 + obj4, gp.GRB.MINIMIZE)\n",
    "#m.update()\n",
    "#m.display()"
   ]
  },
  {
   "cell_type": "code",
   "execution_count": null,
   "metadata": {
    "colab": {
     "base_uri": "https://localhost:8080/"
    },
    "executionInfo": {
     "elapsed": 1250,
     "status": "ok",
     "timestamp": 1690840625848,
     "user": {
      "displayName": "Anita Yang",
      "userId": "07401992262269866418"
     },
     "user_tz": 240
    },
    "id": "_1NtQ7dI9qwv",
    "outputId": "a7cbeea8-c5b3-4bdf-cd41-9c7c638ba7b6"
   },
   "outputs": [],
   "source": [
    "# Constraints:\n",
    "\n",
    "# Constraint 1: Demand at each market area for each vehicle type must be met\n",
    "m.addConstrs(sum(x2_ijv[i, j, v] for i in dcs_set) == d_jv[j, v] for v in vehicle_set for j in dealers_set)\n",
    "\n",
    "# Constraint 2: Vehicle flows between plants and DCs must be conserved\n",
    "# Ask Affleck about summing over i twice\n",
    "\n",
    "m.addConstrs(sum(x1_siv[s, i, v] for s in plants_set) == sum(x2_ijv[i, j, v] for j in dealers_set) for i in dcs_set for v in vehicle_set)\n",
    "\n",
    "# Constraint 3: Total vehicle flow to each DC must satisfy the minimum capacity requirement\n",
    "m.addConstrs(\n",
    "    (C_i[i] * y_ip[i, 1] <= sum(x2_ijv[i, j, v] for v in vehicle_set for j in dealers_set) for i in dcs_set),\n",
    "    name=\"constraint_3_min\"\n",
    ")\n",
    "\n",
    "# Constraint 3: Total vehicle flow to each DC must satisfy the maximum capacity requirement\n",
    "m.addConstrs(\n",
    "    (sum(x2_ijv[i, j, v] for v in vehicle_set for j in dealers_set) <= C_i[i] * y_ip[i, 0] + sum(d_jv[j, v] for v in vehicle_set for j in dealers_set) * y_ip[i, 1] for i in dcs_set),\n",
    "    name=\"constraint_3_max\"\n",
    ")\n",
    "\n",
    "# # Constraint 4: Shipment quantities must be nonnegative\n",
    "m.addConstrs(x1_siv[s, i, v] >= 0 for s in plants_set for v in vehicle_set for i in dcs_set)\n",
    "m.addConstrs(x2_ijv[i, j, v] >= 0 for i in dcs_set for v in vehicle_set for j in dealers_set)\n",
    "\n",
    "# Constraint 6: Ask Affleck\n",
    "r=60\n",
    "\n",
    "m.addConstrs((sum(x2_ijv[i, j, v] for v in vehicle_set) == 0 for i in dcs_set for j in dealers_set if m_ij[i][j] / 300 > r)\n",
    ")\n"
   ]
  },
  {
   "cell_type": "code",
   "execution_count": null,
   "metadata": {
    "colab": {
     "base_uri": "https://localhost:8080/"
    },
    "executionInfo": {
     "elapsed": 447,
     "status": "ok",
     "timestamp": 1690840626282,
     "user": {
      "displayName": "Anita Yang",
      "userId": "07401992262269866418"
     },
     "user_tz": 240
    },
    "id": "cq9ZIapQCOAq",
    "outputId": "1faceb7b-7f24-4f2d-cd72-db80ccac3df6"
   },
   "outputs": [],
   "source": [
    "m.optimize()\n",
    "# m.write(\"out.sol\")"
   ]
  },
  {
   "cell_type": "code",
   "execution_count": null,
   "metadata": {
    "executionInfo": {
     "elapsed": 18,
     "status": "ok",
     "timestamp": 1690840626283,
     "user": {
      "displayName": "Anita Yang",
      "userId": "07401992262269866418"
     },
     "user_tz": 240
    },
    "id": "2KIxLYIhxWXl"
   },
   "outputs": [],
   "source": [
    "# m.display()"
   ]
  },
  {
   "cell_type": "code",
   "execution_count": null,
   "metadata": {
    "colab": {
     "base_uri": "https://localhost:8080/"
    },
    "executionInfo": {
     "elapsed": 17,
     "status": "ok",
     "timestamp": 1690840626284,
     "user": {
      "displayName": "Anita Yang",
      "userId": "07401992262269866418"
     },
     "user_tz": 240
    },
    "id": "fzRd3wZFeo-c",
    "outputId": "8554fab0-15d4-4801-99ee-40a2763b33a9"
   },
   "outputs": [],
   "source": [
    "\n",
    "# PRINT VALUES OF THE DV HERE:\n",
    "\n",
    "\n",
    "x1_siv\n"
   ]
  },
  {
   "cell_type": "code",
   "execution_count": null,
   "metadata": {
    "colab": {
     "base_uri": "https://localhost:8080/"
    },
    "executionInfo": {
     "elapsed": 134,
     "status": "ok",
     "timestamp": 1690840626410,
     "user": {
      "displayName": "Anita Yang",
      "userId": "07401992262269866418"
     },
     "user_tz": 240
    },
    "id": "vuNmXxGT2hWm",
    "outputId": "174413a1-a119-4764-afce-48d7db3ae6f8"
   },
   "outputs": [],
   "source": [
    "x2_ijv"
   ]
  },
  {
   "cell_type": "code",
   "execution_count": null,
   "metadata": {
    "colab": {
     "base_uri": "https://localhost:8080/"
    },
    "executionInfo": {
     "elapsed": 10,
     "status": "ok",
     "timestamp": 1690840626536,
     "user": {
      "displayName": "Anita Yang",
      "userId": "07401992262269866418"
     },
     "user_tz": 240
    },
    "id": "HuX6wWQe2hft",
    "outputId": "aabf6702-04be-4a7f-c2a9-af8dea210c8c"
   },
   "outputs": [],
   "source": [
    "y_ip"
   ]
  },
  {
   "cell_type": "code",
   "execution_count": null,
   "metadata": {
    "executionInfo": {
     "elapsed": 8,
     "status": "ok",
     "timestamp": 1690840626538,
     "user": {
      "displayName": "Anita Yang",
      "userId": "07401992262269866418"
     },
     "user_tz": 240
    },
    "id": "mFUKkBcrlWR-"
   },
   "outputs": [],
   "source": [
    "# Also, if there is no DC installed at a location, there is no shipment to that location"
   ]
  },
  {
   "cell_type": "code",
   "execution_count": null,
   "metadata": {
    "executionInfo": {
     "elapsed": 168,
     "status": "ok",
     "timestamp": 1690840626699,
     "user": {
      "displayName": "Anita Yang",
      "userId": "07401992262269866418"
     },
     "user_tz": 240
    },
    "id": "nhVgj6XElV82"
   },
   "outputs": [],
   "source": [
    "# The distribution centers must be selected so that all market areas can be reached within r days. Suppose a truck travels on average 300 miles a day."
   ]
  },
  {
   "cell_type": "code",
   "execution_count": null,
   "metadata": {},
   "outputs": [],
   "source": []
  }
 ],
 "metadata": {
  "colab": {
   "collapsed_sections": [
    "9yIcWTgTmsGf"
   ],
   "provenance": []
  },
  "kernelspec": {
   "display_name": "Python 3 (ipykernel)",
   "language": "python",
   "name": "python3"
  },
  "language_info": {
   "codemirror_mode": {
    "name": "ipython",
    "version": 3
   },
   "file_extension": ".py",
   "mimetype": "text/x-python",
   "name": "python",
   "nbconvert_exporter": "python",
   "pygments_lexer": "ipython3",
   "version": "3.10.9"
  }
 },
 "nbformat": 4,
 "nbformat_minor": 1
}
