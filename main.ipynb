{
  "cells": [
    {
      "cell_type": "code",
      "execution_count": 7,
      "metadata": {
        "colab": {
          "base_uri": "https://localhost:8080/"
        },
        "id": "2Ohs0FZzVnbD",
        "outputId": "9511677c-e744-4d04-f22f-86236ae4dabf"
      },
      "outputs": [
        {
          "name": "stdout",
          "output_type": "stream",
          "text": [
            "Python 3.9.7\n",
            "Requirement already satisfied: pip in /Users/nayeema/opt/anaconda3/lib/python3.9/site-packages (21.2.4)\n",
            "Collecting pip\n",
            "  Downloading pip-23.2.1-py3-none-any.whl (2.1 MB)\n",
            "\u001b[K     |████████████████████████████████| 2.1 MB 4.1 MB/s eta 0:00:01\n",
            "\u001b[?25hInstalling collected packages: pip\n",
            "  Attempting uninstall: pip\n",
            "    Found existing installation: pip 21.2.4\n",
            "    Uninstalling pip-21.2.4:\n",
            "      Successfully uninstalled pip-21.2.4\n",
            "Successfully installed pip-23.2.1\n",
            "Requirement already satisfied: pandas in /Users/nayeema/opt/anaconda3/lib/python3.9/site-packages (1.3.4)\n",
            "Requirement already satisfied: python-dateutil>=2.7.3 in /Users/nayeema/opt/anaconda3/lib/python3.9/site-packages (from pandas) (2.8.2)\n",
            "Requirement already satisfied: pytz>=2017.3 in /Users/nayeema/opt/anaconda3/lib/python3.9/site-packages (from pandas) (2021.3)\n",
            "Requirement already satisfied: numpy>=1.17.3 in /Users/nayeema/opt/anaconda3/lib/python3.9/site-packages (from pandas) (1.20.3)\n",
            "Requirement already satisfied: six>=1.5 in /Users/nayeema/opt/anaconda3/lib/python3.9/site-packages (from python-dateutil>=2.7.3->pandas) (1.16.0)\n",
            "\u001b[33mDEPRECATION: pyodbc 4.0.0-unsupported has a non-standard version number. pip 23.3 will enforce this behaviour change. A possible replacement is to upgrade to a newer version of pyodbc or contact the author to suggest that they release a version with a conforming version number. Discussion can be found at https://github.com/pypa/pip/issues/12063\u001b[0m\u001b[33m\n",
            "\u001b[0mRequirement already satisfied: geopy in /Users/nayeema/opt/anaconda3/lib/python3.9/site-packages (2.3.0)\n",
            "Requirement already satisfied: geographiclib<3,>=1.52 in /Users/nayeema/opt/anaconda3/lib/python3.9/site-packages (from geopy) (2.0)\n",
            "\u001b[33mDEPRECATION: pyodbc 4.0.0-unsupported has a non-standard version number. pip 23.3 will enforce this behaviour change. A possible replacement is to upgrade to a newer version of pyodbc or contact the author to suggest that they release a version with a conforming version number. Discussion can be found at https://github.com/pypa/pip/issues/12063\u001b[0m\u001b[33m\n",
            "\u001b[0mRequirement already satisfied: numpy in /Users/nayeema/opt/anaconda3/lib/python3.9/site-packages (1.20.3)\n",
            "\u001b[33mDEPRECATION: pyodbc 4.0.0-unsupported has a non-standard version number. pip 23.3 will enforce this behaviour change. A possible replacement is to upgrade to a newer version of pyodbc or contact the author to suggest that they release a version with a conforming version number. Discussion can be found at https://github.com/pypa/pip/issues/12063\u001b[0m\u001b[33m\n",
            "\u001b[0mRequirement already satisfied: gurobipy in /Users/nayeema/opt/anaconda3/lib/python3.9/site-packages (10.0.2)\n",
            "\u001b[33mDEPRECATION: pyodbc 4.0.0-unsupported has a non-standard version number. pip 23.3 will enforce this behaviour change. A possible replacement is to upgrade to a newer version of pyodbc or contact the author to suggest that they release a version with a conforming version number. Discussion can be found at https://github.com/pypa/pip/issues/12063\u001b[0m\u001b[33m\n",
            "\u001b[0m"
          ]
        }
      ],
      "source": [
        "!python --version\n",
        "!pip install --upgrade pip\n",
        "!pip install pandas\n",
        "!pip install geopy\n",
        "!pip install numpy\n",
        "!pip install gurobipy"
      ]
    },
    {
      "cell_type": "code",
      "execution_count": 12,
      "metadata": {
        "id": "wdIl5EQXWmPT"
      },
      "outputs": [],
      "source": [
        "import pandas as pd\n",
        "\n",
        "\n",
        "def load_total_demand():\n",
        "  yearly_sales = pd.read_csv('data/vw_yearly_sales.csv')\n",
        "  return yearly_sales\n",
        "\n",
        "\n",
        "def load_dcs():\n",
        "  # 2 samples\n",
        "  dcs= pd.read_csv('data/small_list_of_dcs.csv', encoding= 'unicode_escape', names=['ID', \"Name\",\"City\",\"State\",\"Address Line 1\",\"Address Line 2\", \"Coordinates\", \"Area m3\", \"Facility Type\", \"StateConst\"])\n",
        "\n",
        "  # FULL DATASET\n",
        "  # dcs = pd.read_csv('list_of_dcs.csv', encoding= 'unicode_escape', names=['ID', \"Name\",\"City\",\"State\",\"Address Line 1\",\"Address Line 2\", \"Coordinates\", \"Area m3\", \"Facility Type\", \"StateConst\"])\n",
        "  #stateconst is a constant used to account for the different prices for the cost of living and rent in various states\n",
        "\n",
        "  dcs['Area sqft'] = round(dcs['Area m3'] * 10.7639)\n",
        "  return dcs\n",
        "\n",
        "\n",
        "\n",
        "def load_dealers():\n",
        "  # https://www.vw.com/app/dccsearch/vw-us/en/Find%20a%20Volkswagen%20Dealer/+/38.353354499999995/-95.3817145/3/+/+/+/+\n",
        "\n",
        "  # 2 SAMPLES\n",
        "  dealers= pd.read_csv('data/small_list_of_dealers.csv',names=['ID', \"Name\",\"Address Line 1\",\"Address Line 2\", \"Website\",\"Phone Number\", \"Coordinates\"])\n",
        "\n",
        "  # FULL DATASET\n",
        "  # dealers= pd.read_csv('list_of_dealers.csv',names=['ID', \"Name\",\"Address Line 1\",\"Address Line 2\", \"Website\",\"Phone Number\", \"Coordinates\"])\n",
        "  return dealers\n",
        "\n",
        "\n",
        "def load_plants():\n",
        "  plants= pd.read_csv('data/list_of_vw_plants_and_products.csv', encoding= 'unicode_escape',names=['ID', \"City\",\"Country\", \"Model\",\"Coordinates\",\"Current/Former plant\"])\n",
        "\n",
        "  plants_usa = plants.loc[plants[\"Country\"]==\"USA\"]\n",
        "\n",
        "  return plants_usa\n",
        "\n",
        "def load_dealer_demands():\n",
        "\n",
        "  def single_sample():\n",
        "\n",
        "  # 4 samples\n",
        "    dealers= pd.read_csv('data/small_list_of_demand_data.csv',names=['ID',\"Name\",\"Rating\",\"Proportion\",\"na\"])\n",
        "    del dealers[dealers.columns[-1]]\n",
        "    return dealers\n",
        "\n",
        "  def full_data():\n",
        "  # FULL DATASET\n",
        "    dealers= pd.read_csv('data/list_of_demand_data.csv',names=['ID',\"Name\",\"Rating\",\"Proportion\",\"na\", \"na2\", \"na3\"])\n",
        "    del dealers[dealers.columns[-1]]\n",
        "    del dealers[dealers.columns[-1]]\n",
        "    del dealers[dealers.columns[-1]]\n",
        "    return dealers\n",
        "\n",
        "  dealers = single_sample() # either call single_sample or full_data\n",
        "\n",
        "  return dealers\n"
      ]
    },
    {
      "cell_type": "code",
      "execution_count": 13,
      "metadata": {
        "colab": {
          "base_uri": "https://localhost:8080/",
          "height": 175
        },
        "id": "F-ES9RxaAXkO",
        "outputId": "9fd51762-34d9-46d5-c7c6-ef29c0849b05"
      },
      "outputs": [
        {
          "ename": "FileNotFoundError",
          "evalue": "[Errno 2] No such file or directory: 'small_list_of_demand_data.csv'",
          "output_type": "error",
          "traceback": [
            "\u001b[0;31m---------------------------------------------------------------------------\u001b[0m",
            "\u001b[0;31mFileNotFoundError\u001b[0m                         Traceback (most recent call last)",
            "Cell \u001b[0;32mIn[13], line 1\u001b[0m\n\u001b[0;32m----> 1\u001b[0m load_dealer_demands() \u001b[39m# used google ratings as a indicator of demand/traffic\u001b[39;00m\n",
            "Cell \u001b[0;32mIn[12], line 57\u001b[0m, in \u001b[0;36mload_dealer_demands\u001b[0;34m()\u001b[0m\n\u001b[1;32m     54\u001b[0m   \u001b[39mdel\u001b[39;00m dealers[dealers\u001b[39m.\u001b[39mcolumns[\u001b[39m-\u001b[39m\u001b[39m1\u001b[39m]]\n\u001b[1;32m     55\u001b[0m   \u001b[39mreturn\u001b[39;00m dealers\n\u001b[0;32m---> 57\u001b[0m dealers \u001b[39m=\u001b[39m single_sample() \u001b[39m# either call single_sample or full_data\u001b[39;00m\n\u001b[1;32m     59\u001b[0m \u001b[39mreturn\u001b[39;00m dealers\n",
            "Cell \u001b[0;32mIn[12], line 45\u001b[0m, in \u001b[0;36mload_dealer_demands.<locals>.single_sample\u001b[0;34m()\u001b[0m\n\u001b[1;32m     42\u001b[0m \u001b[39mdef\u001b[39;00m \u001b[39msingle_sample\u001b[39m():\n\u001b[1;32m     43\u001b[0m \n\u001b[1;32m     44\u001b[0m \u001b[39m# 4 samples\u001b[39;00m\n\u001b[0;32m---> 45\u001b[0m   dealers\u001b[39m=\u001b[39m pd\u001b[39m.\u001b[39;49mread_csv(\u001b[39m'\u001b[39;49m\u001b[39msmall_list_of_demand_data.csv\u001b[39;49m\u001b[39m'\u001b[39;49m,names\u001b[39m=\u001b[39;49m[\u001b[39m'\u001b[39;49m\u001b[39mID\u001b[39;49m\u001b[39m'\u001b[39;49m,\u001b[39m\"\u001b[39;49m\u001b[39mName\u001b[39;49m\u001b[39m\"\u001b[39;49m,\u001b[39m\"\u001b[39;49m\u001b[39mRating\u001b[39;49m\u001b[39m\"\u001b[39;49m,\u001b[39m\"\u001b[39;49m\u001b[39mProportion\u001b[39;49m\u001b[39m\"\u001b[39;49m,\u001b[39m\"\u001b[39;49m\u001b[39mna\u001b[39;49m\u001b[39m\"\u001b[39;49m])\n\u001b[1;32m     46\u001b[0m   \u001b[39mdel\u001b[39;00m dealers[dealers\u001b[39m.\u001b[39mcolumns[\u001b[39m-\u001b[39m\u001b[39m1\u001b[39m]]\n\u001b[1;32m     47\u001b[0m   \u001b[39mreturn\u001b[39;00m dealers\n",
            "File \u001b[0;32m/Library/Frameworks/Python.framework/Versions/3.10/lib/python3.10/site-packages/pandas/io/parsers/readers.py:912\u001b[0m, in \u001b[0;36mread_csv\u001b[0;34m(filepath_or_buffer, sep, delimiter, header, names, index_col, usecols, dtype, engine, converters, true_values, false_values, skipinitialspace, skiprows, skipfooter, nrows, na_values, keep_default_na, na_filter, verbose, skip_blank_lines, parse_dates, infer_datetime_format, keep_date_col, date_parser, date_format, dayfirst, cache_dates, iterator, chunksize, compression, thousands, decimal, lineterminator, quotechar, quoting, doublequote, escapechar, comment, encoding, encoding_errors, dialect, on_bad_lines, delim_whitespace, low_memory, memory_map, float_precision, storage_options, dtype_backend)\u001b[0m\n\u001b[1;32m    899\u001b[0m kwds_defaults \u001b[39m=\u001b[39m _refine_defaults_read(\n\u001b[1;32m    900\u001b[0m     dialect,\n\u001b[1;32m    901\u001b[0m     delimiter,\n\u001b[0;32m   (...)\u001b[0m\n\u001b[1;32m    908\u001b[0m     dtype_backend\u001b[39m=\u001b[39mdtype_backend,\n\u001b[1;32m    909\u001b[0m )\n\u001b[1;32m    910\u001b[0m kwds\u001b[39m.\u001b[39mupdate(kwds_defaults)\n\u001b[0;32m--> 912\u001b[0m \u001b[39mreturn\u001b[39;00m _read(filepath_or_buffer, kwds)\n",
            "File \u001b[0;32m/Library/Frameworks/Python.framework/Versions/3.10/lib/python3.10/site-packages/pandas/io/parsers/readers.py:577\u001b[0m, in \u001b[0;36m_read\u001b[0;34m(filepath_or_buffer, kwds)\u001b[0m\n\u001b[1;32m    574\u001b[0m _validate_names(kwds\u001b[39m.\u001b[39mget(\u001b[39m\"\u001b[39m\u001b[39mnames\u001b[39m\u001b[39m\"\u001b[39m, \u001b[39mNone\u001b[39;00m))\n\u001b[1;32m    576\u001b[0m \u001b[39m# Create the parser.\u001b[39;00m\n\u001b[0;32m--> 577\u001b[0m parser \u001b[39m=\u001b[39m TextFileReader(filepath_or_buffer, \u001b[39m*\u001b[39;49m\u001b[39m*\u001b[39;49mkwds)\n\u001b[1;32m    579\u001b[0m \u001b[39mif\u001b[39;00m chunksize \u001b[39mor\u001b[39;00m iterator:\n\u001b[1;32m    580\u001b[0m     \u001b[39mreturn\u001b[39;00m parser\n",
            "File \u001b[0;32m/Library/Frameworks/Python.framework/Versions/3.10/lib/python3.10/site-packages/pandas/io/parsers/readers.py:1407\u001b[0m, in \u001b[0;36mTextFileReader.__init__\u001b[0;34m(self, f, engine, **kwds)\u001b[0m\n\u001b[1;32m   1404\u001b[0m     \u001b[39mself\u001b[39m\u001b[39m.\u001b[39moptions[\u001b[39m\"\u001b[39m\u001b[39mhas_index_names\u001b[39m\u001b[39m\"\u001b[39m] \u001b[39m=\u001b[39m kwds[\u001b[39m\"\u001b[39m\u001b[39mhas_index_names\u001b[39m\u001b[39m\"\u001b[39m]\n\u001b[1;32m   1406\u001b[0m \u001b[39mself\u001b[39m\u001b[39m.\u001b[39mhandles: IOHandles \u001b[39m|\u001b[39m \u001b[39mNone\u001b[39;00m \u001b[39m=\u001b[39m \u001b[39mNone\u001b[39;00m\n\u001b[0;32m-> 1407\u001b[0m \u001b[39mself\u001b[39m\u001b[39m.\u001b[39m_engine \u001b[39m=\u001b[39m \u001b[39mself\u001b[39;49m\u001b[39m.\u001b[39;49m_make_engine(f, \u001b[39mself\u001b[39;49m\u001b[39m.\u001b[39;49mengine)\n",
            "File \u001b[0;32m/Library/Frameworks/Python.framework/Versions/3.10/lib/python3.10/site-packages/pandas/io/parsers/readers.py:1661\u001b[0m, in \u001b[0;36mTextFileReader._make_engine\u001b[0;34m(self, f, engine)\u001b[0m\n\u001b[1;32m   1659\u001b[0m     \u001b[39mif\u001b[39;00m \u001b[39m\"\u001b[39m\u001b[39mb\u001b[39m\u001b[39m\"\u001b[39m \u001b[39mnot\u001b[39;00m \u001b[39min\u001b[39;00m mode:\n\u001b[1;32m   1660\u001b[0m         mode \u001b[39m+\u001b[39m\u001b[39m=\u001b[39m \u001b[39m\"\u001b[39m\u001b[39mb\u001b[39m\u001b[39m\"\u001b[39m\n\u001b[0;32m-> 1661\u001b[0m \u001b[39mself\u001b[39m\u001b[39m.\u001b[39mhandles \u001b[39m=\u001b[39m get_handle(\n\u001b[1;32m   1662\u001b[0m     f,\n\u001b[1;32m   1663\u001b[0m     mode,\n\u001b[1;32m   1664\u001b[0m     encoding\u001b[39m=\u001b[39;49m\u001b[39mself\u001b[39;49m\u001b[39m.\u001b[39;49moptions\u001b[39m.\u001b[39;49mget(\u001b[39m\"\u001b[39;49m\u001b[39mencoding\u001b[39;49m\u001b[39m\"\u001b[39;49m, \u001b[39mNone\u001b[39;49;00m),\n\u001b[1;32m   1665\u001b[0m     compression\u001b[39m=\u001b[39;49m\u001b[39mself\u001b[39;49m\u001b[39m.\u001b[39;49moptions\u001b[39m.\u001b[39;49mget(\u001b[39m\"\u001b[39;49m\u001b[39mcompression\u001b[39;49m\u001b[39m\"\u001b[39;49m, \u001b[39mNone\u001b[39;49;00m),\n\u001b[1;32m   1666\u001b[0m     memory_map\u001b[39m=\u001b[39;49m\u001b[39mself\u001b[39;49m\u001b[39m.\u001b[39;49moptions\u001b[39m.\u001b[39;49mget(\u001b[39m\"\u001b[39;49m\u001b[39mmemory_map\u001b[39;49m\u001b[39m\"\u001b[39;49m, \u001b[39mFalse\u001b[39;49;00m),\n\u001b[1;32m   1667\u001b[0m     is_text\u001b[39m=\u001b[39;49mis_text,\n\u001b[1;32m   1668\u001b[0m     errors\u001b[39m=\u001b[39;49m\u001b[39mself\u001b[39;49m\u001b[39m.\u001b[39;49moptions\u001b[39m.\u001b[39;49mget(\u001b[39m\"\u001b[39;49m\u001b[39mencoding_errors\u001b[39;49m\u001b[39m\"\u001b[39;49m, \u001b[39m\"\u001b[39;49m\u001b[39mstrict\u001b[39;49m\u001b[39m\"\u001b[39;49m),\n\u001b[1;32m   1669\u001b[0m     storage_options\u001b[39m=\u001b[39;49m\u001b[39mself\u001b[39;49m\u001b[39m.\u001b[39;49moptions\u001b[39m.\u001b[39;49mget(\u001b[39m\"\u001b[39;49m\u001b[39mstorage_options\u001b[39;49m\u001b[39m\"\u001b[39;49m, \u001b[39mNone\u001b[39;49;00m),\n\u001b[1;32m   1670\u001b[0m )\n\u001b[1;32m   1671\u001b[0m \u001b[39massert\u001b[39;00m \u001b[39mself\u001b[39m\u001b[39m.\u001b[39mhandles \u001b[39mis\u001b[39;00m \u001b[39mnot\u001b[39;00m \u001b[39mNone\u001b[39;00m\n\u001b[1;32m   1672\u001b[0m f \u001b[39m=\u001b[39m \u001b[39mself\u001b[39m\u001b[39m.\u001b[39mhandles\u001b[39m.\u001b[39mhandle\n",
            "File \u001b[0;32m/Library/Frameworks/Python.framework/Versions/3.10/lib/python3.10/site-packages/pandas/io/common.py:859\u001b[0m, in \u001b[0;36mget_handle\u001b[0;34m(path_or_buf, mode, encoding, compression, memory_map, is_text, errors, storage_options)\u001b[0m\n\u001b[1;32m    854\u001b[0m \u001b[39melif\u001b[39;00m \u001b[39misinstance\u001b[39m(handle, \u001b[39mstr\u001b[39m):\n\u001b[1;32m    855\u001b[0m     \u001b[39m# Check whether the filename is to be opened in binary mode.\u001b[39;00m\n\u001b[1;32m    856\u001b[0m     \u001b[39m# Binary mode does not support 'encoding' and 'newline'.\u001b[39;00m\n\u001b[1;32m    857\u001b[0m     \u001b[39mif\u001b[39;00m ioargs\u001b[39m.\u001b[39mencoding \u001b[39mand\u001b[39;00m \u001b[39m\"\u001b[39m\u001b[39mb\u001b[39m\u001b[39m\"\u001b[39m \u001b[39mnot\u001b[39;00m \u001b[39min\u001b[39;00m ioargs\u001b[39m.\u001b[39mmode:\n\u001b[1;32m    858\u001b[0m         \u001b[39m# Encoding\u001b[39;00m\n\u001b[0;32m--> 859\u001b[0m         handle \u001b[39m=\u001b[39m \u001b[39mopen\u001b[39;49m(\n\u001b[1;32m    860\u001b[0m             handle,\n\u001b[1;32m    861\u001b[0m             ioargs\u001b[39m.\u001b[39;49mmode,\n\u001b[1;32m    862\u001b[0m             encoding\u001b[39m=\u001b[39;49mioargs\u001b[39m.\u001b[39;49mencoding,\n\u001b[1;32m    863\u001b[0m             errors\u001b[39m=\u001b[39;49merrors,\n\u001b[1;32m    864\u001b[0m             newline\u001b[39m=\u001b[39;49m\u001b[39m\"\u001b[39;49m\u001b[39m\"\u001b[39;49m,\n\u001b[1;32m    865\u001b[0m         )\n\u001b[1;32m    866\u001b[0m     \u001b[39melse\u001b[39;00m:\n\u001b[1;32m    867\u001b[0m         \u001b[39m# Binary mode\u001b[39;00m\n\u001b[1;32m    868\u001b[0m         handle \u001b[39m=\u001b[39m \u001b[39mopen\u001b[39m(handle, ioargs\u001b[39m.\u001b[39mmode)\n",
            "\u001b[0;31mFileNotFoundError\u001b[0m: [Errno 2] No such file or directory: 'small_list_of_demand_data.csv'"
          ]
        }
      ],
      "source": [
        "load_dealer_demands() # used google ratings as a indicator of demand/traffic"
      ]
    },
    {
      "cell_type": "code",
      "execution_count": 9,
      "metadata": {
        "colab": {
          "base_uri": "https://localhost:8080/",
          "height": 601
        },
        "id": "a7YdjC0NnZwH",
        "outputId": "80ee65b4-4bda-41e2-f572-2ba8f49f5364"
      },
      "outputs": [
        {
          "ename": "FileNotFoundError",
          "evalue": "[Errno 2] No such file or directory: 'vw_yearly_sales.csv'",
          "output_type": "error",
          "traceback": [
            "\u001b[0;31m---------------------------------------------------------------------------\u001b[0m",
            "\u001b[0;31mFileNotFoundError\u001b[0m                         Traceback (most recent call last)",
            "Cell \u001b[0;32mIn[9], line 1\u001b[0m\n\u001b[0;32m----> 1\u001b[0m load_total_demand()\n",
            "Cell \u001b[0;32mIn[8], line 5\u001b[0m, in \u001b[0;36mload_total_demand\u001b[0;34m()\u001b[0m\n\u001b[1;32m      4\u001b[0m \u001b[39mdef\u001b[39;00m \u001b[39mload_total_demand\u001b[39m():\n\u001b[0;32m----> 5\u001b[0m   yearly_sales \u001b[39m=\u001b[39m pd\u001b[39m.\u001b[39;49mread_csv(\u001b[39m'\u001b[39;49m\u001b[39mvw_yearly_sales.csv\u001b[39;49m\u001b[39m'\u001b[39;49m)\n\u001b[1;32m      6\u001b[0m   \u001b[39mreturn\u001b[39;00m yearly_sales\n",
            "File \u001b[0;32m/Library/Frameworks/Python.framework/Versions/3.10/lib/python3.10/site-packages/pandas/io/parsers/readers.py:912\u001b[0m, in \u001b[0;36mread_csv\u001b[0;34m(filepath_or_buffer, sep, delimiter, header, names, index_col, usecols, dtype, engine, converters, true_values, false_values, skipinitialspace, skiprows, skipfooter, nrows, na_values, keep_default_na, na_filter, verbose, skip_blank_lines, parse_dates, infer_datetime_format, keep_date_col, date_parser, date_format, dayfirst, cache_dates, iterator, chunksize, compression, thousands, decimal, lineterminator, quotechar, quoting, doublequote, escapechar, comment, encoding, encoding_errors, dialect, on_bad_lines, delim_whitespace, low_memory, memory_map, float_precision, storage_options, dtype_backend)\u001b[0m\n\u001b[1;32m    899\u001b[0m kwds_defaults \u001b[39m=\u001b[39m _refine_defaults_read(\n\u001b[1;32m    900\u001b[0m     dialect,\n\u001b[1;32m    901\u001b[0m     delimiter,\n\u001b[0;32m   (...)\u001b[0m\n\u001b[1;32m    908\u001b[0m     dtype_backend\u001b[39m=\u001b[39mdtype_backend,\n\u001b[1;32m    909\u001b[0m )\n\u001b[1;32m    910\u001b[0m kwds\u001b[39m.\u001b[39mupdate(kwds_defaults)\n\u001b[0;32m--> 912\u001b[0m \u001b[39mreturn\u001b[39;00m _read(filepath_or_buffer, kwds)\n",
            "File \u001b[0;32m/Library/Frameworks/Python.framework/Versions/3.10/lib/python3.10/site-packages/pandas/io/parsers/readers.py:577\u001b[0m, in \u001b[0;36m_read\u001b[0;34m(filepath_or_buffer, kwds)\u001b[0m\n\u001b[1;32m    574\u001b[0m _validate_names(kwds\u001b[39m.\u001b[39mget(\u001b[39m\"\u001b[39m\u001b[39mnames\u001b[39m\u001b[39m\"\u001b[39m, \u001b[39mNone\u001b[39;00m))\n\u001b[1;32m    576\u001b[0m \u001b[39m# Create the parser.\u001b[39;00m\n\u001b[0;32m--> 577\u001b[0m parser \u001b[39m=\u001b[39m TextFileReader(filepath_or_buffer, \u001b[39m*\u001b[39;49m\u001b[39m*\u001b[39;49mkwds)\n\u001b[1;32m    579\u001b[0m \u001b[39mif\u001b[39;00m chunksize \u001b[39mor\u001b[39;00m iterator:\n\u001b[1;32m    580\u001b[0m     \u001b[39mreturn\u001b[39;00m parser\n",
            "File \u001b[0;32m/Library/Frameworks/Python.framework/Versions/3.10/lib/python3.10/site-packages/pandas/io/parsers/readers.py:1407\u001b[0m, in \u001b[0;36mTextFileReader.__init__\u001b[0;34m(self, f, engine, **kwds)\u001b[0m\n\u001b[1;32m   1404\u001b[0m     \u001b[39mself\u001b[39m\u001b[39m.\u001b[39moptions[\u001b[39m\"\u001b[39m\u001b[39mhas_index_names\u001b[39m\u001b[39m\"\u001b[39m] \u001b[39m=\u001b[39m kwds[\u001b[39m\"\u001b[39m\u001b[39mhas_index_names\u001b[39m\u001b[39m\"\u001b[39m]\n\u001b[1;32m   1406\u001b[0m \u001b[39mself\u001b[39m\u001b[39m.\u001b[39mhandles: IOHandles \u001b[39m|\u001b[39m \u001b[39mNone\u001b[39;00m \u001b[39m=\u001b[39m \u001b[39mNone\u001b[39;00m\n\u001b[0;32m-> 1407\u001b[0m \u001b[39mself\u001b[39m\u001b[39m.\u001b[39m_engine \u001b[39m=\u001b[39m \u001b[39mself\u001b[39;49m\u001b[39m.\u001b[39;49m_make_engine(f, \u001b[39mself\u001b[39;49m\u001b[39m.\u001b[39;49mengine)\n",
            "File \u001b[0;32m/Library/Frameworks/Python.framework/Versions/3.10/lib/python3.10/site-packages/pandas/io/parsers/readers.py:1661\u001b[0m, in \u001b[0;36mTextFileReader._make_engine\u001b[0;34m(self, f, engine)\u001b[0m\n\u001b[1;32m   1659\u001b[0m     \u001b[39mif\u001b[39;00m \u001b[39m\"\u001b[39m\u001b[39mb\u001b[39m\u001b[39m\"\u001b[39m \u001b[39mnot\u001b[39;00m \u001b[39min\u001b[39;00m mode:\n\u001b[1;32m   1660\u001b[0m         mode \u001b[39m+\u001b[39m\u001b[39m=\u001b[39m \u001b[39m\"\u001b[39m\u001b[39mb\u001b[39m\u001b[39m\"\u001b[39m\n\u001b[0;32m-> 1661\u001b[0m \u001b[39mself\u001b[39m\u001b[39m.\u001b[39mhandles \u001b[39m=\u001b[39m get_handle(\n\u001b[1;32m   1662\u001b[0m     f,\n\u001b[1;32m   1663\u001b[0m     mode,\n\u001b[1;32m   1664\u001b[0m     encoding\u001b[39m=\u001b[39;49m\u001b[39mself\u001b[39;49m\u001b[39m.\u001b[39;49moptions\u001b[39m.\u001b[39;49mget(\u001b[39m\"\u001b[39;49m\u001b[39mencoding\u001b[39;49m\u001b[39m\"\u001b[39;49m, \u001b[39mNone\u001b[39;49;00m),\n\u001b[1;32m   1665\u001b[0m     compression\u001b[39m=\u001b[39;49m\u001b[39mself\u001b[39;49m\u001b[39m.\u001b[39;49moptions\u001b[39m.\u001b[39;49mget(\u001b[39m\"\u001b[39;49m\u001b[39mcompression\u001b[39;49m\u001b[39m\"\u001b[39;49m, \u001b[39mNone\u001b[39;49;00m),\n\u001b[1;32m   1666\u001b[0m     memory_map\u001b[39m=\u001b[39;49m\u001b[39mself\u001b[39;49m\u001b[39m.\u001b[39;49moptions\u001b[39m.\u001b[39;49mget(\u001b[39m\"\u001b[39;49m\u001b[39mmemory_map\u001b[39;49m\u001b[39m\"\u001b[39;49m, \u001b[39mFalse\u001b[39;49;00m),\n\u001b[1;32m   1667\u001b[0m     is_text\u001b[39m=\u001b[39;49mis_text,\n\u001b[1;32m   1668\u001b[0m     errors\u001b[39m=\u001b[39;49m\u001b[39mself\u001b[39;49m\u001b[39m.\u001b[39;49moptions\u001b[39m.\u001b[39;49mget(\u001b[39m\"\u001b[39;49m\u001b[39mencoding_errors\u001b[39;49m\u001b[39m\"\u001b[39;49m, \u001b[39m\"\u001b[39;49m\u001b[39mstrict\u001b[39;49m\u001b[39m\"\u001b[39;49m),\n\u001b[1;32m   1669\u001b[0m     storage_options\u001b[39m=\u001b[39;49m\u001b[39mself\u001b[39;49m\u001b[39m.\u001b[39;49moptions\u001b[39m.\u001b[39;49mget(\u001b[39m\"\u001b[39;49m\u001b[39mstorage_options\u001b[39;49m\u001b[39m\"\u001b[39;49m, \u001b[39mNone\u001b[39;49;00m),\n\u001b[1;32m   1670\u001b[0m )\n\u001b[1;32m   1671\u001b[0m \u001b[39massert\u001b[39;00m \u001b[39mself\u001b[39m\u001b[39m.\u001b[39mhandles \u001b[39mis\u001b[39;00m \u001b[39mnot\u001b[39;00m \u001b[39mNone\u001b[39;00m\n\u001b[1;32m   1672\u001b[0m f \u001b[39m=\u001b[39m \u001b[39mself\u001b[39m\u001b[39m.\u001b[39mhandles\u001b[39m.\u001b[39mhandle\n",
            "File \u001b[0;32m/Library/Frameworks/Python.framework/Versions/3.10/lib/python3.10/site-packages/pandas/io/common.py:859\u001b[0m, in \u001b[0;36mget_handle\u001b[0;34m(path_or_buf, mode, encoding, compression, memory_map, is_text, errors, storage_options)\u001b[0m\n\u001b[1;32m    854\u001b[0m \u001b[39melif\u001b[39;00m \u001b[39misinstance\u001b[39m(handle, \u001b[39mstr\u001b[39m):\n\u001b[1;32m    855\u001b[0m     \u001b[39m# Check whether the filename is to be opened in binary mode.\u001b[39;00m\n\u001b[1;32m    856\u001b[0m     \u001b[39m# Binary mode does not support 'encoding' and 'newline'.\u001b[39;00m\n\u001b[1;32m    857\u001b[0m     \u001b[39mif\u001b[39;00m ioargs\u001b[39m.\u001b[39mencoding \u001b[39mand\u001b[39;00m \u001b[39m\"\u001b[39m\u001b[39mb\u001b[39m\u001b[39m\"\u001b[39m \u001b[39mnot\u001b[39;00m \u001b[39min\u001b[39;00m ioargs\u001b[39m.\u001b[39mmode:\n\u001b[1;32m    858\u001b[0m         \u001b[39m# Encoding\u001b[39;00m\n\u001b[0;32m--> 859\u001b[0m         handle \u001b[39m=\u001b[39m \u001b[39mopen\u001b[39;49m(\n\u001b[1;32m    860\u001b[0m             handle,\n\u001b[1;32m    861\u001b[0m             ioargs\u001b[39m.\u001b[39;49mmode,\n\u001b[1;32m    862\u001b[0m             encoding\u001b[39m=\u001b[39;49mioargs\u001b[39m.\u001b[39;49mencoding,\n\u001b[1;32m    863\u001b[0m             errors\u001b[39m=\u001b[39;49merrors,\n\u001b[1;32m    864\u001b[0m             newline\u001b[39m=\u001b[39;49m\u001b[39m\"\u001b[39;49m\u001b[39m\"\u001b[39;49m,\n\u001b[1;32m    865\u001b[0m         )\n\u001b[1;32m    866\u001b[0m     \u001b[39melse\u001b[39;00m:\n\u001b[1;32m    867\u001b[0m         \u001b[39m# Binary mode\u001b[39;00m\n\u001b[1;32m    868\u001b[0m         handle \u001b[39m=\u001b[39m \u001b[39mopen\u001b[39m(handle, ioargs\u001b[39m.\u001b[39mmode)\n",
            "\u001b[0;31mFileNotFoundError\u001b[0m: [Errno 2] No such file or directory: 'vw_yearly_sales.csv'"
          ]
        }
      ],
      "source": [
        "load_total_demand()"
      ]
    },
    {
      "cell_type": "code",
      "execution_count": null,
      "metadata": {
        "colab": {
          "base_uri": "https://localhost:8080/",
          "height": 297
        },
        "id": "l-iCeuAPnZ-v",
        "outputId": "e148fd9a-0de7-4bb6-b49b-01a47e8d70e2"
      },
      "outputs": [
        {
          "data": {
            "text/html": [
              "\n",
              "\n",
              "  <div id=\"df-a7c4472e-c567-4e58-ae7c-4b1f4ce12a45\">\n",
              "    <div class=\"colab-df-container\">\n",
              "      <div>\n",
              "<style scoped>\n",
              "    .dataframe tbody tr th:only-of-type {\n",
              "        vertical-align: middle;\n",
              "    }\n",
              "\n",
              "    .dataframe tbody tr th {\n",
              "        vertical-align: top;\n",
              "    }\n",
              "\n",
              "    .dataframe thead th {\n",
              "        text-align: right;\n",
              "    }\n",
              "</style>\n",
              "<table border=\"1\" class=\"dataframe\">\n",
              "  <thead>\n",
              "    <tr style=\"text-align: right;\">\n",
              "      <th></th>\n",
              "      <th>ID</th>\n",
              "      <th>Name</th>\n",
              "      <th>City</th>\n",
              "      <th>State</th>\n",
              "      <th>Address Line 1</th>\n",
              "      <th>Address Line 2</th>\n",
              "      <th>Coordinates</th>\n",
              "      <th>Area m3</th>\n",
              "      <th>Facility Type</th>\n",
              "      <th>StateConst</th>\n",
              "      <th>Area sqft</th>\n",
              "    </tr>\n",
              "  </thead>\n",
              "  <tbody>\n",
              "    <tr>\n",
              "      <th>0</th>\n",
              "      <td>0</td>\n",
              "      <td>Volkswagen Parts Distribution Center</td>\n",
              "      <td>Ontario</td>\n",
              "      <td>CA</td>\n",
              "      <td>3095 E Cedar St</td>\n",
              "      <td>Ontario, CA 91761</td>\n",
              "      <td>34.0376080290585, -117.58641507359258</td>\n",
              "      <td>30456</td>\n",
              "      <td>1</td>\n",
              "      <td>511</td>\n",
              "      <td>327825.0</td>\n",
              "    </tr>\n",
              "    <tr>\n",
              "      <th>1</th>\n",
              "      <td>1</td>\n",
              "      <td>Volkswagen Parts Distribution Center</td>\n",
              "      <td>Rocklin</td>\n",
              "      <td>CA</td>\n",
              "      <td>1100 Tinker Rd</td>\n",
              "      <td>Rocklin, CA 95765, United States</td>\n",
              "      <td>38.81328171265908, -121.30150120229099</td>\n",
              "      <td>18360</td>\n",
              "      <td>1</td>\n",
              "      <td>511</td>\n",
              "      <td>197625.0</td>\n",
              "    </tr>\n",
              "  </tbody>\n",
              "</table>\n",
              "</div>\n",
              "      <button class=\"colab-df-convert\" onclick=\"convertToInteractive('df-a7c4472e-c567-4e58-ae7c-4b1f4ce12a45')\"\n",
              "              title=\"Convert this dataframe to an interactive table.\"\n",
              "              style=\"display:none;\">\n",
              "\n",
              "  <svg xmlns=\"http://www.w3.org/2000/svg\" height=\"24px\"viewBox=\"0 0 24 24\"\n",
              "       width=\"24px\">\n",
              "    <path d=\"M0 0h24v24H0V0z\" fill=\"none\"/>\n",
              "    <path d=\"M18.56 5.44l.94 2.06.94-2.06 2.06-.94-2.06-.94-.94-2.06-.94 2.06-2.06.94zm-11 1L8.5 8.5l.94-2.06 2.06-.94-2.06-.94L8.5 2.5l-.94 2.06-2.06.94zm10 10l.94 2.06.94-2.06 2.06-.94-2.06-.94-.94-2.06-.94 2.06-2.06.94z\"/><path d=\"M17.41 7.96l-1.37-1.37c-.4-.4-.92-.59-1.43-.59-.52 0-1.04.2-1.43.59L10.3 9.45l-7.72 7.72c-.78.78-.78 2.05 0 2.83L4 21.41c.39.39.9.59 1.41.59.51 0 1.02-.2 1.41-.59l7.78-7.78 2.81-2.81c.8-.78.8-2.07 0-2.86zM5.41 20L4 18.59l7.72-7.72 1.47 1.35L5.41 20z\"/>\n",
              "  </svg>\n",
              "      </button>\n",
              "\n",
              "\n",
              "\n",
              "    <div id=\"df-c48ee579-42a5-446a-a62a-3c929dd89281\">\n",
              "      <button class=\"colab-df-quickchart\" onclick=\"quickchart('df-c48ee579-42a5-446a-a62a-3c929dd89281')\"\n",
              "              title=\"Suggest charts.\"\n",
              "              style=\"display:none;\">\n",
              "\n",
              "<svg xmlns=\"http://www.w3.org/2000/svg\" height=\"24px\"viewBox=\"0 0 24 24\"\n",
              "     width=\"24px\">\n",
              "    <g>\n",
              "        <path d=\"M19 3H5c-1.1 0-2 .9-2 2v14c0 1.1.9 2 2 2h14c1.1 0 2-.9 2-2V5c0-1.1-.9-2-2-2zM9 17H7v-7h2v7zm4 0h-2V7h2v10zm4 0h-2v-4h2v4z\"/>\n",
              "    </g>\n",
              "</svg>\n",
              "      </button>\n",
              "    </div>\n",
              "\n",
              "<style>\n",
              "  .colab-df-quickchart {\n",
              "    background-color: #E8F0FE;\n",
              "    border: none;\n",
              "    border-radius: 50%;\n",
              "    cursor: pointer;\n",
              "    display: none;\n",
              "    fill: #1967D2;\n",
              "    height: 32px;\n",
              "    padding: 0 0 0 0;\n",
              "    width: 32px;\n",
              "  }\n",
              "\n",
              "  .colab-df-quickchart:hover {\n",
              "    background-color: #E2EBFA;\n",
              "    box-shadow: 0px 1px 2px rgba(60, 64, 67, 0.3), 0px 1px 3px 1px rgba(60, 64, 67, 0.15);\n",
              "    fill: #174EA6;\n",
              "  }\n",
              "\n",
              "  [theme=dark] .colab-df-quickchart {\n",
              "    background-color: #3B4455;\n",
              "    fill: #D2E3FC;\n",
              "  }\n",
              "\n",
              "  [theme=dark] .colab-df-quickchart:hover {\n",
              "    background-color: #434B5C;\n",
              "    box-shadow: 0px 1px 3px 1px rgba(0, 0, 0, 0.15);\n",
              "    filter: drop-shadow(0px 1px 2px rgba(0, 0, 0, 0.3));\n",
              "    fill: #FFFFFF;\n",
              "  }\n",
              "</style>\n",
              "\n",
              "    <script>\n",
              "      async function quickchart(key) {\n",
              "        const containerElement = document.querySelector('#' + key);\n",
              "        const charts = await google.colab.kernel.invokeFunction(\n",
              "            'suggestCharts', [key], {});\n",
              "      }\n",
              "    </script>\n",
              "\n",
              "      <script>\n",
              "\n",
              "function displayQuickchartButton(domScope) {\n",
              "  let quickchartButtonEl =\n",
              "    domScope.querySelector('#df-c48ee579-42a5-446a-a62a-3c929dd89281 button.colab-df-quickchart');\n",
              "  quickchartButtonEl.style.display =\n",
              "    google.colab.kernel.accessAllowed ? 'block' : 'none';\n",
              "}\n",
              "\n",
              "        displayQuickchartButton(document);\n",
              "      </script>\n",
              "      <style>\n",
              "    .colab-df-container {\n",
              "      display:flex;\n",
              "      flex-wrap:wrap;\n",
              "      gap: 12px;\n",
              "    }\n",
              "\n",
              "    .colab-df-convert {\n",
              "      background-color: #E8F0FE;\n",
              "      border: none;\n",
              "      border-radius: 50%;\n",
              "      cursor: pointer;\n",
              "      display: none;\n",
              "      fill: #1967D2;\n",
              "      height: 32px;\n",
              "      padding: 0 0 0 0;\n",
              "      width: 32px;\n",
              "    }\n",
              "\n",
              "    .colab-df-convert:hover {\n",
              "      background-color: #E2EBFA;\n",
              "      box-shadow: 0px 1px 2px rgba(60, 64, 67, 0.3), 0px 1px 3px 1px rgba(60, 64, 67, 0.15);\n",
              "      fill: #174EA6;\n",
              "    }\n",
              "\n",
              "    [theme=dark] .colab-df-convert {\n",
              "      background-color: #3B4455;\n",
              "      fill: #D2E3FC;\n",
              "    }\n",
              "\n",
              "    [theme=dark] .colab-df-convert:hover {\n",
              "      background-color: #434B5C;\n",
              "      box-shadow: 0px 1px 3px 1px rgba(0, 0, 0, 0.15);\n",
              "      filter: drop-shadow(0px 1px 2px rgba(0, 0, 0, 0.3));\n",
              "      fill: #FFFFFF;\n",
              "    }\n",
              "  </style>\n",
              "\n",
              "      <script>\n",
              "        const buttonEl =\n",
              "          document.querySelector('#df-a7c4472e-c567-4e58-ae7c-4b1f4ce12a45 button.colab-df-convert');\n",
              "        buttonEl.style.display =\n",
              "          google.colab.kernel.accessAllowed ? 'block' : 'none';\n",
              "\n",
              "        async function convertToInteractive(key) {\n",
              "          const element = document.querySelector('#df-a7c4472e-c567-4e58-ae7c-4b1f4ce12a45');\n",
              "          const dataTable =\n",
              "            await google.colab.kernel.invokeFunction('convertToInteractive',\n",
              "                                                     [key], {});\n",
              "          if (!dataTable) return;\n",
              "\n",
              "          const docLinkHtml = 'Like what you see? Visit the ' +\n",
              "            '<a target=\"_blank\" href=https://colab.research.google.com/notebooks/data_table.ipynb>data table notebook</a>'\n",
              "            + ' to learn more about interactive tables.';\n",
              "          element.innerHTML = '';\n",
              "          dataTable['output_type'] = 'display_data';\n",
              "          await google.colab.output.renderOutput(dataTable, element);\n",
              "          const docLink = document.createElement('div');\n",
              "          docLink.innerHTML = docLinkHtml;\n",
              "          element.appendChild(docLink);\n",
              "        }\n",
              "      </script>\n",
              "    </div>\n",
              "  </div>\n"
            ],
            "text/plain": [
              "   ID                                  Name     City State   Address Line 1  \\\n",
              "0   0  Volkswagen Parts Distribution Center  Ontario    CA  3095 E Cedar St   \n",
              "1   1  Volkswagen Parts Distribution Center  Rocklin    CA   1100 Tinker Rd   \n",
              "\n",
              "                     Address Line 2                             Coordinates  \\\n",
              "0                 Ontario, CA 91761   34.0376080290585, -117.58641507359258   \n",
              "1  Rocklin, CA 95765, United States  38.81328171265908, -121.30150120229099   \n",
              "\n",
              "   Area m3  Facility Type  StateConst  Area sqft  \n",
              "0    30456              1         511   327825.0  \n",
              "1    18360              1         511   197625.0  "
            ]
          },
          "execution_count": 80,
          "metadata": {},
          "output_type": "execute_result"
        }
      ],
      "source": [
        "load_dcs()"
      ]
    },
    {
      "cell_type": "code",
      "execution_count": null,
      "metadata": {
        "colab": {
          "base_uri": "https://localhost:8080/",
          "height": 340
        },
        "id": "aFz292alnaGX",
        "outputId": "0b92606a-07a9-4d02-f92d-24ed746b7ed0"
      },
      "outputs": [
        {
          "data": {
            "text/html": [
              "\n",
              "\n",
              "  <div id=\"df-73b9b7d3-eff9-4cc3-b86c-e325d0d9eb64\">\n",
              "    <div class=\"colab-df-container\">\n",
              "      <div>\n",
              "<style scoped>\n",
              "    .dataframe tbody tr th:only-of-type {\n",
              "        vertical-align: middle;\n",
              "    }\n",
              "\n",
              "    .dataframe tbody tr th {\n",
              "        vertical-align: top;\n",
              "    }\n",
              "\n",
              "    .dataframe thead th {\n",
              "        text-align: right;\n",
              "    }\n",
              "</style>\n",
              "<table border=\"1\" class=\"dataframe\">\n",
              "  <thead>\n",
              "    <tr style=\"text-align: right;\">\n",
              "      <th></th>\n",
              "      <th>ID</th>\n",
              "      <th>Name</th>\n",
              "      <th>Address Line 1</th>\n",
              "      <th>Address Line 2</th>\n",
              "      <th>Website</th>\n",
              "      <th>Phone Number</th>\n",
              "      <th>Coordinates</th>\n",
              "    </tr>\n",
              "  </thead>\n",
              "  <tbody>\n",
              "    <tr>\n",
              "      <th>0</th>\n",
              "      <td>0</td>\n",
              "      <td>Alexandria Volkswagen</td>\n",
              "      <td>107 W Glebe Rd</td>\n",
              "      <td>Alexandria, VA 22305</td>\n",
              "      <td>https://alexandriavw.com</td>\n",
              "      <td>(703) 684-8888</td>\n",
              "      <td>38.83578067871878, -77.05799331320739</td>\n",
              "    </tr>\n",
              "    <tr>\n",
              "      <th>1</th>\n",
              "      <td>1</td>\n",
              "      <td>Ancira Volkswagen</td>\n",
              "      <td>6125 Bandera Rd</td>\n",
              "      <td>San Antonio, TX 78238</td>\n",
              "      <td>https://anciravolkswagen.com</td>\n",
              "      <td>(210) 681-2300</td>\n",
              "      <td>29.488410637739907, -98.60618875952487</td>\n",
              "    </tr>\n",
              "    <tr>\n",
              "      <th>2</th>\n",
              "      <td>2</td>\n",
              "      <td>Ancira Volkswagen of Laredo</td>\n",
              "      <td>2701 N.E. Bob Bullock Loop</td>\n",
              "      <td>Laredo, TX 78045</td>\n",
              "      <td>https://vwlaredo.com</td>\n",
              "      <td>(956) 717-2200</td>\n",
              "      <td>27.612614635541124, -99.47040125767218</td>\n",
              "    </tr>\n",
              "    <tr>\n",
              "      <th>3</th>\n",
              "      <td>3</td>\n",
              "      <td>Andy Mohr Volkswagen of Avon</td>\n",
              "      <td>8791 E Us Highway 36</td>\n",
              "      <td>Avon, IN 46123</td>\n",
              "      <td>https://www.andymohrvw.com</td>\n",
              "      <td>(317) 978-0296</td>\n",
              "      <td>39.76232468061578, -86.36526215581948</td>\n",
              "    </tr>\n",
              "  </tbody>\n",
              "</table>\n",
              "</div>\n",
              "      <button class=\"colab-df-convert\" onclick=\"convertToInteractive('df-73b9b7d3-eff9-4cc3-b86c-e325d0d9eb64')\"\n",
              "              title=\"Convert this dataframe to an interactive table.\"\n",
              "              style=\"display:none;\">\n",
              "\n",
              "  <svg xmlns=\"http://www.w3.org/2000/svg\" height=\"24px\"viewBox=\"0 0 24 24\"\n",
              "       width=\"24px\">\n",
              "    <path d=\"M0 0h24v24H0V0z\" fill=\"none\"/>\n",
              "    <path d=\"M18.56 5.44l.94 2.06.94-2.06 2.06-.94-2.06-.94-.94-2.06-.94 2.06-2.06.94zm-11 1L8.5 8.5l.94-2.06 2.06-.94-2.06-.94L8.5 2.5l-.94 2.06-2.06.94zm10 10l.94 2.06.94-2.06 2.06-.94-2.06-.94-.94-2.06-.94 2.06-2.06.94z\"/><path d=\"M17.41 7.96l-1.37-1.37c-.4-.4-.92-.59-1.43-.59-.52 0-1.04.2-1.43.59L10.3 9.45l-7.72 7.72c-.78.78-.78 2.05 0 2.83L4 21.41c.39.39.9.59 1.41.59.51 0 1.02-.2 1.41-.59l7.78-7.78 2.81-2.81c.8-.78.8-2.07 0-2.86zM5.41 20L4 18.59l7.72-7.72 1.47 1.35L5.41 20z\"/>\n",
              "  </svg>\n",
              "      </button>\n",
              "\n",
              "\n",
              "\n",
              "    <div id=\"df-b4d5d86c-9307-418c-ba41-16baaaf19836\">\n",
              "      <button class=\"colab-df-quickchart\" onclick=\"quickchart('df-b4d5d86c-9307-418c-ba41-16baaaf19836')\"\n",
              "              title=\"Suggest charts.\"\n",
              "              style=\"display:none;\">\n",
              "\n",
              "<svg xmlns=\"http://www.w3.org/2000/svg\" height=\"24px\"viewBox=\"0 0 24 24\"\n",
              "     width=\"24px\">\n",
              "    <g>\n",
              "        <path d=\"M19 3H5c-1.1 0-2 .9-2 2v14c0 1.1.9 2 2 2h14c1.1 0 2-.9 2-2V5c0-1.1-.9-2-2-2zM9 17H7v-7h2v7zm4 0h-2V7h2v10zm4 0h-2v-4h2v4z\"/>\n",
              "    </g>\n",
              "</svg>\n",
              "      </button>\n",
              "    </div>\n",
              "\n",
              "<style>\n",
              "  .colab-df-quickchart {\n",
              "    background-color: #E8F0FE;\n",
              "    border: none;\n",
              "    border-radius: 50%;\n",
              "    cursor: pointer;\n",
              "    display: none;\n",
              "    fill: #1967D2;\n",
              "    height: 32px;\n",
              "    padding: 0 0 0 0;\n",
              "    width: 32px;\n",
              "  }\n",
              "\n",
              "  .colab-df-quickchart:hover {\n",
              "    background-color: #E2EBFA;\n",
              "    box-shadow: 0px 1px 2px rgba(60, 64, 67, 0.3), 0px 1px 3px 1px rgba(60, 64, 67, 0.15);\n",
              "    fill: #174EA6;\n",
              "  }\n",
              "\n",
              "  [theme=dark] .colab-df-quickchart {\n",
              "    background-color: #3B4455;\n",
              "    fill: #D2E3FC;\n",
              "  }\n",
              "\n",
              "  [theme=dark] .colab-df-quickchart:hover {\n",
              "    background-color: #434B5C;\n",
              "    box-shadow: 0px 1px 3px 1px rgba(0, 0, 0, 0.15);\n",
              "    filter: drop-shadow(0px 1px 2px rgba(0, 0, 0, 0.3));\n",
              "    fill: #FFFFFF;\n",
              "  }\n",
              "</style>\n",
              "\n",
              "    <script>\n",
              "      async function quickchart(key) {\n",
              "        const containerElement = document.querySelector('#' + key);\n",
              "        const charts = await google.colab.kernel.invokeFunction(\n",
              "            'suggestCharts', [key], {});\n",
              "      }\n",
              "    </script>\n",
              "\n",
              "      <script>\n",
              "\n",
              "function displayQuickchartButton(domScope) {\n",
              "  let quickchartButtonEl =\n",
              "    domScope.querySelector('#df-b4d5d86c-9307-418c-ba41-16baaaf19836 button.colab-df-quickchart');\n",
              "  quickchartButtonEl.style.display =\n",
              "    google.colab.kernel.accessAllowed ? 'block' : 'none';\n",
              "}\n",
              "\n",
              "        displayQuickchartButton(document);\n",
              "      </script>\n",
              "      <style>\n",
              "    .colab-df-container {\n",
              "      display:flex;\n",
              "      flex-wrap:wrap;\n",
              "      gap: 12px;\n",
              "    }\n",
              "\n",
              "    .colab-df-convert {\n",
              "      background-color: #E8F0FE;\n",
              "      border: none;\n",
              "      border-radius: 50%;\n",
              "      cursor: pointer;\n",
              "      display: none;\n",
              "      fill: #1967D2;\n",
              "      height: 32px;\n",
              "      padding: 0 0 0 0;\n",
              "      width: 32px;\n",
              "    }\n",
              "\n",
              "    .colab-df-convert:hover {\n",
              "      background-color: #E2EBFA;\n",
              "      box-shadow: 0px 1px 2px rgba(60, 64, 67, 0.3), 0px 1px 3px 1px rgba(60, 64, 67, 0.15);\n",
              "      fill: #174EA6;\n",
              "    }\n",
              "\n",
              "    [theme=dark] .colab-df-convert {\n",
              "      background-color: #3B4455;\n",
              "      fill: #D2E3FC;\n",
              "    }\n",
              "\n",
              "    [theme=dark] .colab-df-convert:hover {\n",
              "      background-color: #434B5C;\n",
              "      box-shadow: 0px 1px 3px 1px rgba(0, 0, 0, 0.15);\n",
              "      filter: drop-shadow(0px 1px 2px rgba(0, 0, 0, 0.3));\n",
              "      fill: #FFFFFF;\n",
              "    }\n",
              "  </style>\n",
              "\n",
              "      <script>\n",
              "        const buttonEl =\n",
              "          document.querySelector('#df-73b9b7d3-eff9-4cc3-b86c-e325d0d9eb64 button.colab-df-convert');\n",
              "        buttonEl.style.display =\n",
              "          google.colab.kernel.accessAllowed ? 'block' : 'none';\n",
              "\n",
              "        async function convertToInteractive(key) {\n",
              "          const element = document.querySelector('#df-73b9b7d3-eff9-4cc3-b86c-e325d0d9eb64');\n",
              "          const dataTable =\n",
              "            await google.colab.kernel.invokeFunction('convertToInteractive',\n",
              "                                                     [key], {});\n",
              "          if (!dataTable) return;\n",
              "\n",
              "          const docLinkHtml = 'Like what you see? Visit the ' +\n",
              "            '<a target=\"_blank\" href=https://colab.research.google.com/notebooks/data_table.ipynb>data table notebook</a>'\n",
              "            + ' to learn more about interactive tables.';\n",
              "          element.innerHTML = '';\n",
              "          dataTable['output_type'] = 'display_data';\n",
              "          await google.colab.output.renderOutput(dataTable, element);\n",
              "          const docLink = document.createElement('div');\n",
              "          docLink.innerHTML = docLinkHtml;\n",
              "          element.appendChild(docLink);\n",
              "        }\n",
              "      </script>\n",
              "    </div>\n",
              "  </div>\n"
            ],
            "text/plain": [
              "   ID                          Name               Address Line 1  \\\n",
              "0   0         Alexandria Volkswagen              107 W Glebe Rd    \n",
              "1   1             Ancira Volkswagen             6125 Bandera Rd    \n",
              "2   2   Ancira Volkswagen of Laredo  2701 N.E. Bob Bullock Loop    \n",
              "3   3  Andy Mohr Volkswagen of Avon        8791 E Us Highway 36    \n",
              "\n",
              "           Address Line 2                        Website     Phone Number  \\\n",
              "0   Alexandria, VA 22305        https://alexandriavw.com   (703) 684-8888   \n",
              "1  San Antonio, TX 78238    https://anciravolkswagen.com   (210) 681-2300   \n",
              "2       Laredo, TX 78045            https://vwlaredo.com   (956) 717-2200   \n",
              "3         Avon, IN 46123      https://www.andymohrvw.com   (317) 978-0296   \n",
              "\n",
              "                              Coordinates  \n",
              "0   38.83578067871878, -77.05799331320739  \n",
              "1  29.488410637739907, -98.60618875952487  \n",
              "2  27.612614635541124, -99.47040125767218  \n",
              "3   39.76232468061578, -86.36526215581948  "
            ]
          },
          "execution_count": 81,
          "metadata": {},
          "output_type": "execute_result"
        }
      ],
      "source": [
        "load_dealers()"
      ]
    },
    {
      "cell_type": "code",
      "execution_count": null,
      "metadata": {
        "colab": {
          "base_uri": "https://localhost:8080/",
          "height": 175
        },
        "id": "DfqAkRtiBUU7",
        "outputId": "97c386ed-b87d-41ac-d509-c85e103493f7"
      },
      "outputs": [
        {
          "data": {
            "text/html": [
              "\n",
              "\n",
              "  <div id=\"df-900514df-ae0b-4f1b-a8dc-61fc5c1340af\">\n",
              "    <div class=\"colab-df-container\">\n",
              "      <div>\n",
              "<style scoped>\n",
              "    .dataframe tbody tr th:only-of-type {\n",
              "        vertical-align: middle;\n",
              "    }\n",
              "\n",
              "    .dataframe tbody tr th {\n",
              "        vertical-align: top;\n",
              "    }\n",
              "\n",
              "    .dataframe thead th {\n",
              "        text-align: right;\n",
              "    }\n",
              "</style>\n",
              "<table border=\"1\" class=\"dataframe\">\n",
              "  <thead>\n",
              "    <tr style=\"text-align: right;\">\n",
              "      <th></th>\n",
              "      <th>ID</th>\n",
              "      <th>City</th>\n",
              "      <th>Country</th>\n",
              "      <th>Model</th>\n",
              "      <th>Coordinates</th>\n",
              "      <th>Current/Former plant</th>\n",
              "    </tr>\n",
              "  </thead>\n",
              "  <tbody>\n",
              "    <tr>\n",
              "      <th>25</th>\n",
              "      <td>9</td>\n",
              "      <td>Chattanooga</td>\n",
              "      <td>USA</td>\n",
              "      <td>Atlas</td>\n",
              "      <td>35.077103086458976, -85.13084428224508</td>\n",
              "      <td>current</td>\n",
              "    </tr>\n",
              "    <tr>\n",
              "      <th>26</th>\n",
              "      <td>9</td>\n",
              "      <td>Chattanooga</td>\n",
              "      <td>USA</td>\n",
              "      <td>Cross Sport</td>\n",
              "      <td>35.077103086458976, -85.13084428224508</td>\n",
              "      <td>current</td>\n",
              "    </tr>\n",
              "    <tr>\n",
              "      <th>27</th>\n",
              "      <td>9</td>\n",
              "      <td>Chattanooga</td>\n",
              "      <td>USA</td>\n",
              "      <td>ID4</td>\n",
              "      <td>35.077103086458976, -85.13084428224508</td>\n",
              "      <td>current</td>\n",
              "    </tr>\n",
              "    <tr>\n",
              "      <th>28</th>\n",
              "      <td>9</td>\n",
              "      <td>Chattanooga</td>\n",
              "      <td>USA</td>\n",
              "      <td>Passat</td>\n",
              "      <td>35.077103086458976, -85.13084428224508</td>\n",
              "      <td>former</td>\n",
              "    </tr>\n",
              "  </tbody>\n",
              "</table>\n",
              "</div>\n",
              "      <button class=\"colab-df-convert\" onclick=\"convertToInteractive('df-900514df-ae0b-4f1b-a8dc-61fc5c1340af')\"\n",
              "              title=\"Convert this dataframe to an interactive table.\"\n",
              "              style=\"display:none;\">\n",
              "\n",
              "  <svg xmlns=\"http://www.w3.org/2000/svg\" height=\"24px\"viewBox=\"0 0 24 24\"\n",
              "       width=\"24px\">\n",
              "    <path d=\"M0 0h24v24H0V0z\" fill=\"none\"/>\n",
              "    <path d=\"M18.56 5.44l.94 2.06.94-2.06 2.06-.94-2.06-.94-.94-2.06-.94 2.06-2.06.94zm-11 1L8.5 8.5l.94-2.06 2.06-.94-2.06-.94L8.5 2.5l-.94 2.06-2.06.94zm10 10l.94 2.06.94-2.06 2.06-.94-2.06-.94-.94-2.06-.94 2.06-2.06.94z\"/><path d=\"M17.41 7.96l-1.37-1.37c-.4-.4-.92-.59-1.43-.59-.52 0-1.04.2-1.43.59L10.3 9.45l-7.72 7.72c-.78.78-.78 2.05 0 2.83L4 21.41c.39.39.9.59 1.41.59.51 0 1.02-.2 1.41-.59l7.78-7.78 2.81-2.81c.8-.78.8-2.07 0-2.86zM5.41 20L4 18.59l7.72-7.72 1.47 1.35L5.41 20z\"/>\n",
              "  </svg>\n",
              "      </button>\n",
              "\n",
              "\n",
              "\n",
              "    <div id=\"df-df1dad51-675e-426b-a9f3-534a7838ebd6\">\n",
              "      <button class=\"colab-df-quickchart\" onclick=\"quickchart('df-df1dad51-675e-426b-a9f3-534a7838ebd6')\"\n",
              "              title=\"Suggest charts.\"\n",
              "              style=\"display:none;\">\n",
              "\n",
              "<svg xmlns=\"http://www.w3.org/2000/svg\" height=\"24px\"viewBox=\"0 0 24 24\"\n",
              "     width=\"24px\">\n",
              "    <g>\n",
              "        <path d=\"M19 3H5c-1.1 0-2 .9-2 2v14c0 1.1.9 2 2 2h14c1.1 0 2-.9 2-2V5c0-1.1-.9-2-2-2zM9 17H7v-7h2v7zm4 0h-2V7h2v10zm4 0h-2v-4h2v4z\"/>\n",
              "    </g>\n",
              "</svg>\n",
              "      </button>\n",
              "    </div>\n",
              "\n",
              "<style>\n",
              "  .colab-df-quickchart {\n",
              "    background-color: #E8F0FE;\n",
              "    border: none;\n",
              "    border-radius: 50%;\n",
              "    cursor: pointer;\n",
              "    display: none;\n",
              "    fill: #1967D2;\n",
              "    height: 32px;\n",
              "    padding: 0 0 0 0;\n",
              "    width: 32px;\n",
              "  }\n",
              "\n",
              "  .colab-df-quickchart:hover {\n",
              "    background-color: #E2EBFA;\n",
              "    box-shadow: 0px 1px 2px rgba(60, 64, 67, 0.3), 0px 1px 3px 1px rgba(60, 64, 67, 0.15);\n",
              "    fill: #174EA6;\n",
              "  }\n",
              "\n",
              "  [theme=dark] .colab-df-quickchart {\n",
              "    background-color: #3B4455;\n",
              "    fill: #D2E3FC;\n",
              "  }\n",
              "\n",
              "  [theme=dark] .colab-df-quickchart:hover {\n",
              "    background-color: #434B5C;\n",
              "    box-shadow: 0px 1px 3px 1px rgba(0, 0, 0, 0.15);\n",
              "    filter: drop-shadow(0px 1px 2px rgba(0, 0, 0, 0.3));\n",
              "    fill: #FFFFFF;\n",
              "  }\n",
              "</style>\n",
              "\n",
              "    <script>\n",
              "      async function quickchart(key) {\n",
              "        const containerElement = document.querySelector('#' + key);\n",
              "        const charts = await google.colab.kernel.invokeFunction(\n",
              "            'suggestCharts', [key], {});\n",
              "      }\n",
              "    </script>\n",
              "\n",
              "      <script>\n",
              "\n",
              "function displayQuickchartButton(domScope) {\n",
              "  let quickchartButtonEl =\n",
              "    domScope.querySelector('#df-df1dad51-675e-426b-a9f3-534a7838ebd6 button.colab-df-quickchart');\n",
              "  quickchartButtonEl.style.display =\n",
              "    google.colab.kernel.accessAllowed ? 'block' : 'none';\n",
              "}\n",
              "\n",
              "        displayQuickchartButton(document);\n",
              "      </script>\n",
              "      <style>\n",
              "    .colab-df-container {\n",
              "      display:flex;\n",
              "      flex-wrap:wrap;\n",
              "      gap: 12px;\n",
              "    }\n",
              "\n",
              "    .colab-df-convert {\n",
              "      background-color: #E8F0FE;\n",
              "      border: none;\n",
              "      border-radius: 50%;\n",
              "      cursor: pointer;\n",
              "      display: none;\n",
              "      fill: #1967D2;\n",
              "      height: 32px;\n",
              "      padding: 0 0 0 0;\n",
              "      width: 32px;\n",
              "    }\n",
              "\n",
              "    .colab-df-convert:hover {\n",
              "      background-color: #E2EBFA;\n",
              "      box-shadow: 0px 1px 2px rgba(60, 64, 67, 0.3), 0px 1px 3px 1px rgba(60, 64, 67, 0.15);\n",
              "      fill: #174EA6;\n",
              "    }\n",
              "\n",
              "    [theme=dark] .colab-df-convert {\n",
              "      background-color: #3B4455;\n",
              "      fill: #D2E3FC;\n",
              "    }\n",
              "\n",
              "    [theme=dark] .colab-df-convert:hover {\n",
              "      background-color: #434B5C;\n",
              "      box-shadow: 0px 1px 3px 1px rgba(0, 0, 0, 0.15);\n",
              "      filter: drop-shadow(0px 1px 2px rgba(0, 0, 0, 0.3));\n",
              "      fill: #FFFFFF;\n",
              "    }\n",
              "  </style>\n",
              "\n",
              "      <script>\n",
              "        const buttonEl =\n",
              "          document.querySelector('#df-900514df-ae0b-4f1b-a8dc-61fc5c1340af button.colab-df-convert');\n",
              "        buttonEl.style.display =\n",
              "          google.colab.kernel.accessAllowed ? 'block' : 'none';\n",
              "\n",
              "        async function convertToInteractive(key) {\n",
              "          const element = document.querySelector('#df-900514df-ae0b-4f1b-a8dc-61fc5c1340af');\n",
              "          const dataTable =\n",
              "            await google.colab.kernel.invokeFunction('convertToInteractive',\n",
              "                                                     [key], {});\n",
              "          if (!dataTable) return;\n",
              "\n",
              "          const docLinkHtml = 'Like what you see? Visit the ' +\n",
              "            '<a target=\"_blank\" href=https://colab.research.google.com/notebooks/data_table.ipynb>data table notebook</a>'\n",
              "            + ' to learn more about interactive tables.';\n",
              "          element.innerHTML = '';\n",
              "          dataTable['output_type'] = 'display_data';\n",
              "          await google.colab.output.renderOutput(dataTable, element);\n",
              "          const docLink = document.createElement('div');\n",
              "          docLink.innerHTML = docLinkHtml;\n",
              "          element.appendChild(docLink);\n",
              "        }\n",
              "      </script>\n",
              "    </div>\n",
              "  </div>\n"
            ],
            "text/plain": [
              "    ID         City Country        Model  \\\n",
              "25   9  Chattanooga     USA        Atlas   \n",
              "26   9  Chattanooga     USA  Cross Sport   \n",
              "27   9  Chattanooga     USA          ID4   \n",
              "28   9  Chattanooga     USA       Passat   \n",
              "\n",
              "                               Coordinates Current/Former plant  \n",
              "25  35.077103086458976, -85.13084428224508              current  \n",
              "26  35.077103086458976, -85.13084428224508              current  \n",
              "27  35.077103086458976, -85.13084428224508              current  \n",
              "28  35.077103086458976, -85.13084428224508               former  "
            ]
          },
          "execution_count": 82,
          "metadata": {},
          "output_type": "execute_result"
        }
      ],
      "source": [
        "load_plants()"
      ]
    },
    {
      "cell_type": "code",
      "execution_count": null,
      "metadata": {
        "colab": {
          "base_uri": "https://localhost:8080/"
        },
        "id": "uabcfta6QMz1",
        "outputId": "cefca126-c252-4529-db60-f971e4629299"
      },
      "outputs": [
        {
          "name": "stdout",
          "output_type": "stream",
          "text": [
            "[1844.0657073866873, 2005.3600623066698]\n",
            "             0            1            2            3\n",
            "0  2263.452155  1158.436165  1162.247798  1764.014177\n",
            "1  2363.262580  1445.165292  1475.686061  1862.087265\n"
          ]
        }
      ],
      "source": [
        "### do location work\n",
        "import networkx as nx\n",
        "from geopy.distance import geodesic\n",
        "import numpy\n",
        "\n",
        "# ALL DISTANCES ARE IN MILES!!!!\n",
        "# ALL AREAS ARE IN SQFT!!!\n",
        "def dc_to_dealer_distances(dcs, dealers): # using geodesic distance, may want to add 15% or something onto distance\n",
        "  distance_dc_to_dealer = numpy.zeros((len(dcs), len(dealers)))\n",
        "  for dc_id, dc in dcs.iterrows():\n",
        "    for dealer_id, dealer in dealers.iterrows():\n",
        "      point1 = dc[\"Coordinates\"].split(\",\")\n",
        "      point2 = dealer[\"Coordinates\"].split(\",\")\n",
        "      distance = geodesic(point1, point2).miles\n",
        "      dc_id = dc[\"ID\"]\n",
        "      dealer_id = dealer[\"ID\"]\n",
        "      # print (\"distance from dc \" + str(dc_id)+ \" to dealer \"+ str(dealer_id) + \" is \" + str(distance))\n",
        "      distance_dc_to_dealer[dc_id][dealer_id] = distance\n",
        "  distance_dc_to_dealer_df = pd.DataFrame(distance_dc_to_dealer)\n",
        "  return distance_dc_to_dealer_df\n",
        "\n",
        "\n",
        "def plant_to_dc_distances(plants, dcs):\n",
        "  # get coordinates of the 1 usa plant\n",
        "  plant_coordinates = plants['Coordinates'].iloc[0].split(\",\")\n",
        "  distance_plants_to_dcs = [] # since we only have 1 usa plant we can just make everything from there (very convenient)\n",
        "  for dcs_id, dc in dcs.iterrows():\n",
        "    point1 = plant_coordinates\n",
        "    point2 = dc[\"Coordinates\"].split(\",\")\n",
        "    distance = geodesic(point1, point2).miles\n",
        "    dc_id = dc[\"ID\"]\n",
        "    distance_plants_to_dcs.append(distance)\n",
        "  return distance_plants_to_dcs\n",
        "\n",
        "plants = load_plants()\n",
        "dcs = load_dcs()\n",
        "dealers = load_dealers()\n",
        "\n",
        "dcs_to_dealers = dc_to_dealer_distances(dcs, dealers)\n",
        "plants_to_dcs = plant_to_dc_distances(plants, dcs)\n",
        "\n",
        "\n",
        "print(plants_to_dcs)\n",
        "print(dcs_to_dealers)"
      ]
    },
    {
      "cell_type": "code",
      "execution_count": null,
      "metadata": {
        "colab": {
          "base_uri": "https://localhost:8080/"
        },
        "id": "dmMl4HKqv_1X",
        "outputId": "36d2bb18-72fd-43ef-8325-c9a85711eefa"
      },
      "outputs": [
        {
          "data": {
            "text/plain": [
              "[1844.0657073866873, 2005.3600623066698]"
            ]
          },
          "execution_count": 84,
          "metadata": {},
          "output_type": "execute_result"
        }
      ],
      "source": [
        "plant_to_dc_distances(plants, dcs)"
      ]
    },
    {
      "cell_type": "code",
      "execution_count": null,
      "metadata": {
        "id": "t0ye-PtjBhbu"
      },
      "outputs": [],
      "source": [
        "## Calculate demands\n",
        "def get_dealer_demands(year):\n",
        "  dealers = load_dealers()\n",
        "  dealer_demands = load_dealer_demands()\n",
        "  total_demands = load_total_demand() # demand for each specific car type\n",
        "\n",
        "\n",
        "  def get_demands(year):\n",
        "    year_demands = total_demands.loc[total_demands['year'] == year]\n",
        "    year_demands = year_demands[[\"Atlas\",\"Cross Sport\",\"ID4\",\"Passat\"]]\n",
        "    return year_demands\n",
        "\n",
        "  year_demands = get_demands(2021)\n",
        "  year_demands = year_demands.values.tolist()[0]\n",
        "\n",
        "  # print(year_demands)\n",
        "\n",
        "  proportion_sum = dealer_demands[\"Proportion\"].sum()\n",
        "\n",
        "  dealer_demands [[\"Ratio of sales\"]] = None\n",
        "  dealer_demands[\"Ratio of sales\"] = dealer_demands[\"Proportion\"]/proportion_sum\n",
        "\n",
        "  # print(dealer_demands)\n",
        "\n",
        "  # # with the sales proportion, get the general sales for each location\n",
        "\n",
        "  temp_ratio_col = pd.DataFrame(dealer_demands[\"Ratio of sales\"])\n",
        "\n",
        "  temp = []\n",
        "  for x in list(dealer_demands[\"Ratio of sales\"]):\n",
        "    temp1=[]\n",
        "    for y in list(year_demands):\n",
        "      temp1.append(round(x*y))\n",
        "    temp.append(temp1)\n",
        "  sales = pd.DataFrame(temp, columns=[\"Atlas\",\"Cross Sport\",\"ID4\",\"Passat\"])\n",
        "  return sales"
      ]
    },
    {
      "cell_type": "code",
      "execution_count": null,
      "metadata": {
        "colab": {
          "base_uri": "https://localhost:8080/",
          "height": 175
        },
        "id": "_ZqeDtltKRRu",
        "outputId": "d0aeabe1-d808-4843-8a89-23786cd67685"
      },
      "outputs": [
        {
          "data": {
            "text/html": [
              "\n",
              "\n",
              "  <div id=\"df-23a38cbf-8979-419c-a511-3fd6debe3929\">\n",
              "    <div class=\"colab-df-container\">\n",
              "      <div>\n",
              "<style scoped>\n",
              "    .dataframe tbody tr th:only-of-type {\n",
              "        vertical-align: middle;\n",
              "    }\n",
              "\n",
              "    .dataframe tbody tr th {\n",
              "        vertical-align: top;\n",
              "    }\n",
              "\n",
              "    .dataframe thead th {\n",
              "        text-align: right;\n",
              "    }\n",
              "</style>\n",
              "<table border=\"1\" class=\"dataframe\">\n",
              "  <thead>\n",
              "    <tr style=\"text-align: right;\">\n",
              "      <th></th>\n",
              "      <th>Atlas</th>\n",
              "      <th>Cross Sport</th>\n",
              "      <th>ID4</th>\n",
              "      <th>Passat</th>\n",
              "    </tr>\n",
              "  </thead>\n",
              "  <tbody>\n",
              "    <tr>\n",
              "      <th>0</th>\n",
              "      <td>32726</td>\n",
              "      <td>19578</td>\n",
              "      <td>7569</td>\n",
              "      <td>11030</td>\n",
              "    </tr>\n",
              "    <tr>\n",
              "      <th>1</th>\n",
              "      <td>20980</td>\n",
              "      <td>12551</td>\n",
              "      <td>4853</td>\n",
              "      <td>7071</td>\n",
              "    </tr>\n",
              "    <tr>\n",
              "      <th>2</th>\n",
              "      <td>2972</td>\n",
              "      <td>1778</td>\n",
              "      <td>687</td>\n",
              "      <td>1002</td>\n",
              "    </tr>\n",
              "    <tr>\n",
              "      <th>3</th>\n",
              "      <td>15705</td>\n",
              "      <td>9395</td>\n",
              "      <td>3633</td>\n",
              "      <td>5293</td>\n",
              "    </tr>\n",
              "  </tbody>\n",
              "</table>\n",
              "</div>\n",
              "      <button class=\"colab-df-convert\" onclick=\"convertToInteractive('df-23a38cbf-8979-419c-a511-3fd6debe3929')\"\n",
              "              title=\"Convert this dataframe to an interactive table.\"\n",
              "              style=\"display:none;\">\n",
              "\n",
              "  <svg xmlns=\"http://www.w3.org/2000/svg\" height=\"24px\"viewBox=\"0 0 24 24\"\n",
              "       width=\"24px\">\n",
              "    <path d=\"M0 0h24v24H0V0z\" fill=\"none\"/>\n",
              "    <path d=\"M18.56 5.44l.94 2.06.94-2.06 2.06-.94-2.06-.94-.94-2.06-.94 2.06-2.06.94zm-11 1L8.5 8.5l.94-2.06 2.06-.94-2.06-.94L8.5 2.5l-.94 2.06-2.06.94zm10 10l.94 2.06.94-2.06 2.06-.94-2.06-.94-.94-2.06-.94 2.06-2.06.94z\"/><path d=\"M17.41 7.96l-1.37-1.37c-.4-.4-.92-.59-1.43-.59-.52 0-1.04.2-1.43.59L10.3 9.45l-7.72 7.72c-.78.78-.78 2.05 0 2.83L4 21.41c.39.39.9.59 1.41.59.51 0 1.02-.2 1.41-.59l7.78-7.78 2.81-2.81c.8-.78.8-2.07 0-2.86zM5.41 20L4 18.59l7.72-7.72 1.47 1.35L5.41 20z\"/>\n",
              "  </svg>\n",
              "      </button>\n",
              "\n",
              "\n",
              "\n",
              "    <div id=\"df-ac0cb6ab-115f-40c4-8488-1ed56d6d0863\">\n",
              "      <button class=\"colab-df-quickchart\" onclick=\"quickchart('df-ac0cb6ab-115f-40c4-8488-1ed56d6d0863')\"\n",
              "              title=\"Suggest charts.\"\n",
              "              style=\"display:none;\">\n",
              "\n",
              "<svg xmlns=\"http://www.w3.org/2000/svg\" height=\"24px\"viewBox=\"0 0 24 24\"\n",
              "     width=\"24px\">\n",
              "    <g>\n",
              "        <path d=\"M19 3H5c-1.1 0-2 .9-2 2v14c0 1.1.9 2 2 2h14c1.1 0 2-.9 2-2V5c0-1.1-.9-2-2-2zM9 17H7v-7h2v7zm4 0h-2V7h2v10zm4 0h-2v-4h2v4z\"/>\n",
              "    </g>\n",
              "</svg>\n",
              "      </button>\n",
              "    </div>\n",
              "\n",
              "<style>\n",
              "  .colab-df-quickchart {\n",
              "    background-color: #E8F0FE;\n",
              "    border: none;\n",
              "    border-radius: 50%;\n",
              "    cursor: pointer;\n",
              "    display: none;\n",
              "    fill: #1967D2;\n",
              "    height: 32px;\n",
              "    padding: 0 0 0 0;\n",
              "    width: 32px;\n",
              "  }\n",
              "\n",
              "  .colab-df-quickchart:hover {\n",
              "    background-color: #E2EBFA;\n",
              "    box-shadow: 0px 1px 2px rgba(60, 64, 67, 0.3), 0px 1px 3px 1px rgba(60, 64, 67, 0.15);\n",
              "    fill: #174EA6;\n",
              "  }\n",
              "\n",
              "  [theme=dark] .colab-df-quickchart {\n",
              "    background-color: #3B4455;\n",
              "    fill: #D2E3FC;\n",
              "  }\n",
              "\n",
              "  [theme=dark] .colab-df-quickchart:hover {\n",
              "    background-color: #434B5C;\n",
              "    box-shadow: 0px 1px 3px 1px rgba(0, 0, 0, 0.15);\n",
              "    filter: drop-shadow(0px 1px 2px rgba(0, 0, 0, 0.3));\n",
              "    fill: #FFFFFF;\n",
              "  }\n",
              "</style>\n",
              "\n",
              "    <script>\n",
              "      async function quickchart(key) {\n",
              "        const containerElement = document.querySelector('#' + key);\n",
              "        const charts = await google.colab.kernel.invokeFunction(\n",
              "            'suggestCharts', [key], {});\n",
              "      }\n",
              "    </script>\n",
              "\n",
              "      <script>\n",
              "\n",
              "function displayQuickchartButton(domScope) {\n",
              "  let quickchartButtonEl =\n",
              "    domScope.querySelector('#df-ac0cb6ab-115f-40c4-8488-1ed56d6d0863 button.colab-df-quickchart');\n",
              "  quickchartButtonEl.style.display =\n",
              "    google.colab.kernel.accessAllowed ? 'block' : 'none';\n",
              "}\n",
              "\n",
              "        displayQuickchartButton(document);\n",
              "      </script>\n",
              "      <style>\n",
              "    .colab-df-container {\n",
              "      display:flex;\n",
              "      flex-wrap:wrap;\n",
              "      gap: 12px;\n",
              "    }\n",
              "\n",
              "    .colab-df-convert {\n",
              "      background-color: #E8F0FE;\n",
              "      border: none;\n",
              "      border-radius: 50%;\n",
              "      cursor: pointer;\n",
              "      display: none;\n",
              "      fill: #1967D2;\n",
              "      height: 32px;\n",
              "      padding: 0 0 0 0;\n",
              "      width: 32px;\n",
              "    }\n",
              "\n",
              "    .colab-df-convert:hover {\n",
              "      background-color: #E2EBFA;\n",
              "      box-shadow: 0px 1px 2px rgba(60, 64, 67, 0.3), 0px 1px 3px 1px rgba(60, 64, 67, 0.15);\n",
              "      fill: #174EA6;\n",
              "    }\n",
              "\n",
              "    [theme=dark] .colab-df-convert {\n",
              "      background-color: #3B4455;\n",
              "      fill: #D2E3FC;\n",
              "    }\n",
              "\n",
              "    [theme=dark] .colab-df-convert:hover {\n",
              "      background-color: #434B5C;\n",
              "      box-shadow: 0px 1px 3px 1px rgba(0, 0, 0, 0.15);\n",
              "      filter: drop-shadow(0px 1px 2px rgba(0, 0, 0, 0.3));\n",
              "      fill: #FFFFFF;\n",
              "    }\n",
              "  </style>\n",
              "\n",
              "      <script>\n",
              "        const buttonEl =\n",
              "          document.querySelector('#df-23a38cbf-8979-419c-a511-3fd6debe3929 button.colab-df-convert');\n",
              "        buttonEl.style.display =\n",
              "          google.colab.kernel.accessAllowed ? 'block' : 'none';\n",
              "\n",
              "        async function convertToInteractive(key) {\n",
              "          const element = document.querySelector('#df-23a38cbf-8979-419c-a511-3fd6debe3929');\n",
              "          const dataTable =\n",
              "            await google.colab.kernel.invokeFunction('convertToInteractive',\n",
              "                                                     [key], {});\n",
              "          if (!dataTable) return;\n",
              "\n",
              "          const docLinkHtml = 'Like what you see? Visit the ' +\n",
              "            '<a target=\"_blank\" href=https://colab.research.google.com/notebooks/data_table.ipynb>data table notebook</a>'\n",
              "            + ' to learn more about interactive tables.';\n",
              "          element.innerHTML = '';\n",
              "          dataTable['output_type'] = 'display_data';\n",
              "          await google.colab.output.renderOutput(dataTable, element);\n",
              "          const docLink = document.createElement('div');\n",
              "          docLink.innerHTML = docLinkHtml;\n",
              "          element.appendChild(docLink);\n",
              "        }\n",
              "      </script>\n",
              "    </div>\n",
              "  </div>\n"
            ],
            "text/plain": [
              "   Atlas  Cross Sport   ID4  Passat\n",
              "0  32726        19578  7569   11030\n",
              "1  20980        12551  4853    7071\n",
              "2   2972         1778   687    1002\n",
              "3  15705         9395  3633    5293"
            ]
          },
          "execution_count": 86,
          "metadata": {},
          "output_type": "execute_result"
        }
      ],
      "source": [
        "sales = get_dealer_demands(2021)\n",
        "sales\n",
        "# the left side are the dealer ids"
      ]
    },
    {
      "cell_type": "code",
      "execution_count": null,
      "metadata": {
        "colab": {
          "base_uri": "https://localhost:8080/"
        },
        "id": "ha1CZa7A93cv",
        "outputId": "08f90566-1caa-492b-8fe7-5d903cb71018"
      },
      "outputs": [
        {
          "name": "stdout",
          "output_type": "stream",
          "text": [
            "[71032.0, 42822.0]\n"
          ]
        }
      ],
      "source": [
        "## Insert something here with defining facilities\n",
        "\n",
        "\n",
        "def calculate_dc_cost():\n",
        "\n",
        "\n",
        "  def calculate_dc_cost_monthly(id, state, facility_type, areasqft):\n",
        "  # print (id, facility, state, areasqft)\n",
        "    cost = 1.5*areasqft #2$ baseline\n",
        "    insurance = 3850  # https://glcdistribution.com/customer-resources/tools/warehousing-insurance-calculator/ 1 million dollar standard\n",
        "\n",
        "    employee_salaries = (areasqft/2000)*20*(40*4) # https://www.payscale.com/research/CA/Job=Warehouse_Material_Handler/Hourly_Rate\n",
        "\n",
        "  # pay 1 dollar per sqft for utility\n",
        "    utilities = areasqft\n",
        "\n",
        "\n",
        "  # $600 – $950 per month to lease a $50,000 forklift.\n",
        "  # https://discord.com/channels/260272353118912522/1093655130076893284/1129635416409133076 1 forklift services 5000 sqft\n",
        "    forklift_cost =  areasqft/5000  *800\n",
        "\n",
        "\n",
        "    # https://discord.com/channels/260272353118912522/1093655130076893284/1129639090942398504\n",
        "    price_it_costs_to_build_warehouse_sqft = 100*areasqft\n",
        "    property_tax = 6/1000*price_it_costs_to_build_warehouse_sqft\n",
        "\n",
        "\n",
        "    security = 1000 + (5 * 8 * 28*20) # 1000 fixed cost monitoring + 20$/h * 40h/week * 28 people\n",
        "\n",
        "    if facility_type == 1:\n",
        "      ft = 1\n",
        "    else:\n",
        "      ft = 1.2\n",
        "\n",
        "    price = (cost + insurance + employee_salaries + utilities + forklift_cost + security + property_tax)* (state/508)*ft\n",
        "    # 508 is the price of 100 big macs and state is the price of 100 big macs in that state\n",
        "    return price\n",
        "\n",
        "\n",
        "  prices = []\n",
        "\n",
        "  for i in range(len(dcs.index)):\n",
        "      moneys = calculate_dc_cost_monthly(float(dcs.loc[i,[\"ID\"]]), float(dcs.loc[i,[\"StateConst\"]]), float(dcs.loc[i,[\"Facility Type\"]]),float(dcs.loc[i,[\"Area sqft\"]] ))\n",
        "      prices.append(moneys*12)\n",
        "  return prices\n",
        "  # print(calculate_dc_cost())\n",
        "\n",
        "\n",
        "# C_i\n",
        "def calculate_dc_shipment_capacity():\n",
        "  dcs = load_dcs()\n",
        "  dcs = dcs[[\"Area sqft\",'Facility Type']]\n",
        "\n",
        "# The largest car to consider is the Cross Sport\n",
        "# It has dimensions: 4,966 mm L x 1,990 mm W x 1,723 mm H\n",
        "# we can round this up to: 17 ft length, 7 foot wide, 6 foot tall\n",
        "# add about 2 ft to everything as a buffer\n",
        "# new measurement is about 18 ft length, 8ft wide, 8 foot tall\n",
        "# so, we can predict that 2 car takes up 144/2, each car takes 72 sq foot\n",
        "\n",
        "# from https://discord.com/channels/260272353118912522/1093655130076893284/1131271495004459018,\n",
        "# we see that 60-80% of DCs are for storage. Let's assume 60%\n",
        "\n",
        "\n",
        "  vehicle_capacity = dcs[\"Area sqft\"]*0.6 /72\n",
        "\n",
        "\n",
        "# from https://discord.com/channels/260272353118912522/1093655130076893284/1131266537869820075\n",
        "# we see that most vehicles stay in the dc a couple of weeks (take 2 weeks)\n",
        "# we can frame this as: All vehicles in the DCS arrive at time 0, and after 2 weeks all are released\n",
        "\n",
        "  annual_throughput = round(vehicle_capacity) * (52/2)\n",
        "\n",
        "  # dcs[\"Annual Throughput\"] = annual_throughput\n",
        "\n",
        "  # print(annual_throughput)\n",
        "  return (list(annual_throughput))\n",
        "\n",
        "# WE NEED TO BE CAREFUL ABOUT TYPE 2 FACILITIES:\n",
        "\n",
        "print(calculate_dc_shipment_capacity())"
      ]
    },
    {
      "cell_type": "markdown",
      "metadata": {
        "id": "9yIcWTgTmsGf"
      },
      "source": [
        "# Important Verbiage"
      ]
    },
    {
      "cell_type": "markdown",
      "metadata": {
        "id": "doHwXn8yccn2"
      },
      "source": [
        "Has most of the answers:\n",
        "\n",
        "def generate_facility_cost\n",
        "\n",
        "---\n",
        "### Generally 2-3$ per square foot\n",
        "### https://www.warehousingandfulfillment.com/resources/fulfillment-cost-calculator/\n",
        "\n",
        "1. Rent or Mortgage:\n",
        "[A 50,000 square foot steel warehouse, in the words of one construction expert, will cost between 52,800 and 312,500 per month in addition to monthly rent, utilities, insurance, and other associated costs. A 100,000 increase in the monthly budget will be made up of the cost of a turnkey warehouse, which will also be included in the estimate.](https://www.hechtgroup.com/the-average-size-of-a-small-warehouse-is-1-000-5-000-square-feet/)\n",
        "\n",
        "\n",
        "2. Insurance:\n",
        "- a standard warehouse general liability is 1-2 million of coverage, which is about 100/month\n",
        "3. Salaries:\n",
        "```\n",
        "There is no definitive answer to how many employees per square foot warehouse as it depends on a variety of factors such as the type of products being stored, the level of automation in the warehouse, and the workflows. However, a good rule of thumb is to have one employee for every 1,000-1,500 square feet of warehouse space. This allows for efficient operations and ensures that there is enough staff to handle the volume of work.Every employee in a warehouse is allocated about 200-250 square feet of space. Distribution centers had a median square footage of 240,410 in 2016, 176,600 in 2017, and 305,000 in 2018. If a warehouse is properly designed, it will be more efficient and require less space per employee than if it is poorly designed. The number of warehouse employees varies greatly. Warehouses in general are less than 10,000 square feet in size. Eight-hour shifts pay between $14.80 and $19.90 per hour on average. Approximately 35% of the total warehouse space is estimated to be occupied by this type of warehouse.\n",
        "```\n",
        "`https://www.hechtgroup.com/how-many-employees-should-a-warehouse-have-per-square-foot/`\n",
        "\n",
        "4. Utilities:\n",
        "- [average utlity cost per square foot commercial property is about 1 dollar/sqft for electricity](https://www.iotacommunications.com/blog/average-utility-cost-per-square-foot-commercial-property/)\n",
        "5. Equipment:\n",
        "875$ lease a forklift\n",
        "\n",
        "6. Licensing and Permits:\n",
        "\n",
        "7. Maintenance and Repairs:\n",
        "\n",
        "8. Property Taxes:\n",
        "\n",
        "9. Security:\n",
        "\n",
        "10. Technology:\n",
        "\n",
        "\n"
      ]
    },
    {
      "cell_type": "markdown",
      "metadata": {
        "id": "AVYfrULDnDb-"
      },
      "source": [
        "# Back to Code"
      ]
    },
    {
      "cell_type": "code",
      "execution_count": null,
      "metadata": {
        "id": "RGg9jwKnv_kE"
      },
      "outputs": [],
      "source": [
        "## Determining the cost of transportation\n",
        "\n",
        "\n",
        "## THE FUNCTION OF SHIPPING TRUCKS CAN BE APPROXIMATED BY A PIECEWISE FUNCTION\n",
        "# https://www.desmos.com/calculator/ipxbog2uyr\n",
        "# constructed from the data here: https://www.marketwatch.com/guides/car-shipping/truck-shipping/#:~:text=According%20to%20quotes%20we%20received,when%20using%20an%20enclosed%20carrier.\n",
        "\n",
        "def fixed_cost_shipment(): #T_1\n",
        "  return 186 # cost to drive 0 miles\n",
        "\n",
        "def calculate_variable_cost_shipment(mileage): #T_2\n",
        "  # if mileage < 1135:\n",
        "  #   return mileage * (551/535)\n",
        "  # return mileage * (0.43)\n",
        "  return (0.43)\n",
        "\n",
        "  # TODO: WE ARE ASSUMING FOR SIMPLICYT SAKE 0.43$/MILE AND ARE NOT CONSIDERING THE OTHER FUNCTION FOR MODELLING RIGHT NOW\n",
        "\n",
        "\n",
        "\n",
        "\n"
      ]
    },
    {
      "cell_type": "code",
      "execution_count": null,
      "metadata": {
        "id": "Co4M99Xfm39J"
      },
      "outputs": [],
      "source": [
        "## The modelling?\n",
        "import gurobipy as gp\n",
        "from gurobipy import GRB\n",
        "\n",
        "\n",
        "##LOAD DATA\n",
        "\n",
        "# plants = load_plants()\n",
        "# dcs = load_dcs()\n",
        "# dealers = load_dealers()\n",
        "\n",
        "# dcs_to_dealers = dc_to_dealer_distances(dcs, dealers)\n",
        "# plants_to_dcs = plant_to_dc_distances(plants, dcs)\n",
        "# dealer_demands = get_dealer_demands(2021)\n",
        "# dc_annual_cost = calculate_dc_cost()\n",
        "\n",
        "\n",
        "\n",
        "\n",
        "\n",
        "plants = load_plants()\n",
        "dcs = load_dcs()\n",
        "dealers = load_dealers()\n",
        "\n",
        "dcs_to_dealers = dc_to_dealer_distances(dcs, dealers)\n",
        "plants_to_dcs = plant_to_dc_distances(plants, dcs)\n",
        "dealer_demands = get_dealer_demands(2021) ## car demand for each dealership\n",
        "dc_annual_cost = calculate_dc_cost()\n",
        "\n",
        "\n",
        "\n",
        "# define sets\n",
        "plants_set = [0] # set S\n",
        "dcs_set = list(dcs[\"ID\"]) # set I\n",
        "dealers_set = list(dealers[\"ID\"]) # set J\n",
        "vehicle_set = [0,1,2,3] # we define 0 to 3, corresponding to Atlas, CrossSport, ID4 and Passat vehicles (set V)\n",
        "facility_type_set = [0, 1] # set P"
      ]
    },
    {
      "cell_type": "code",
      "execution_count": null,
      "metadata": {
        "colab": {
          "base_uri": "https://localhost:8080/"
        },
        "id": "4EL8nFf56mWX",
        "outputId": "3fba2cd3-fd69-45c2-caed-d1e9e23d7531"
      },
      "outputs": [
        {
          "data": {
            "text/plain": [
              "[0, 1]"
            ]
          },
          "execution_count": 112,
          "metadata": {},
          "output_type": "execute_result"
        }
      ],
      "source": [
        "dcs_set"
      ]
    },
    {
      "cell_type": "code",
      "execution_count": null,
      "metadata": {
        "id": "01W4QsCQiIOU"
      },
      "outputs": [],
      "source": [
        "# Parameter prep - we change the dataframes to arrays of sorts, which we can use indexes and such in the formulation\n",
        "\n",
        "d_jv = dealer_demands.values\n",
        "# d_jv[1][0]\n",
        "\n",
        "m_ij = dcs_to_dealers.values\n",
        "\n",
        "# dc 1 to dealer 2 should be 1475.6\n",
        "# m_ij[1][2]\n",
        "\n",
        "c_si = plants_to_dcs\n",
        "\n",
        "L_j = 1 # load factor is 1\n",
        "\n",
        "T_1 = fixed_cost_shipment()\n",
        "\n",
        "T_2 = calculate_variable_cost_shipment(\"dummy_value\") # see code comments on why we do this as a temp hack for a preliminary model\n",
        "\n",
        "f_ip = dc_annual_cost\n",
        "\n",
        "C_i = calculate_dc_shipment_capacity()"
      ]
    },
    {
      "cell_type": "code",
      "execution_count": null,
      "metadata": {
        "colab": {
          "base_uri": "https://localhost:8080/"
        },
        "id": "S6aj5ksVqghN",
        "outputId": "54b67ee0-86aa-47ae-d056-b72da0f271a5"
      },
      "outputs": [
        {
          "data": {
            "text/plain": [
              "array([[32726, 19578,  7569, 11030],\n",
              "       [20980, 12551,  4853,  7071],\n",
              "       [ 2972,  1778,   687,  1002],\n",
              "       [15705,  9395,  3633,  5293]])"
            ]
          },
          "execution_count": 91,
          "metadata": {},
          "output_type": "execute_result"
        }
      ],
      "source": [
        "d_jv"
      ]
    },
    {
      "cell_type": "code",
      "execution_count": null,
      "metadata": {
        "colab": {
          "base_uri": "https://localhost:8080/"
        },
        "id": "enUp3UXLqiOd",
        "outputId": "994aa38d-12a5-490a-bfa0-9fff160189de"
      },
      "outputs": [
        {
          "data": {
            "text/plain": [
              "array([[2263.45215475, 1158.43616471, 1162.24779847, 1764.01417746],\n",
              "       [2363.26257953, 1445.1652925 , 1475.68606054, 1862.08726494]])"
            ]
          },
          "execution_count": 92,
          "metadata": {},
          "output_type": "execute_result"
        }
      ],
      "source": [
        "m_ij"
      ]
    },
    {
      "cell_type": "code",
      "execution_count": null,
      "metadata": {
        "colab": {
          "base_uri": "https://localhost:8080/"
        },
        "id": "g82o6YFrqi5e",
        "outputId": "ddf512c5-1fba-4cf8-fd75-3301ed9739d6"
      },
      "outputs": [
        {
          "data": {
            "text/plain": [
              "[1844.0657073866873, 2005.3600623066698]"
            ]
          },
          "execution_count": 93,
          "metadata": {},
          "output_type": "execute_result"
        }
      ],
      "source": [
        "c_si"
      ]
    },
    {
      "cell_type": "code",
      "execution_count": null,
      "metadata": {
        "colab": {
          "base_uri": "https://localhost:8080/"
        },
        "id": "_WBU0N6Sqk1G",
        "outputId": "81720423-d168-4cd2-8bfa-7c67745da806"
      },
      "outputs": [
        {
          "data": {
            "text/plain": [
              "1"
            ]
          },
          "execution_count": 94,
          "metadata": {},
          "output_type": "execute_result"
        }
      ],
      "source": [
        "L_j"
      ]
    },
    {
      "cell_type": "code",
      "execution_count": null,
      "metadata": {
        "colab": {
          "base_uri": "https://localhost:8080/"
        },
        "id": "nOzXpf_Xqmqe",
        "outputId": "b21c2923-4a63-469c-f054-7be67c505391"
      },
      "outputs": [
        {
          "data": {
            "text/plain": [
              "186"
            ]
          },
          "execution_count": 95,
          "metadata": {},
          "output_type": "execute_result"
        }
      ],
      "source": [
        "T_1"
      ]
    },
    {
      "cell_type": "code",
      "execution_count": null,
      "metadata": {
        "colab": {
          "base_uri": "https://localhost:8080/"
        },
        "id": "UR3WtevZqnrm",
        "outputId": "4556e5ac-cd6e-4d62-cbe0-dd303c9293d4"
      },
      "outputs": [
        {
          "data": {
            "text/plain": [
              "0.43"
            ]
          },
          "execution_count": 96,
          "metadata": {},
          "output_type": "execute_result"
        }
      ],
      "source": [
        "T_2"
      ]
    },
    {
      "cell_type": "code",
      "execution_count": null,
      "metadata": {
        "colab": {
          "base_uri": "https://localhost:8080/"
        },
        "id": "50yIjuV_qow-",
        "outputId": "35957365-380a-4583-fa19-b6dc65fbf640"
      },
      "outputs": [
        {
          "data": {
            "text/plain": [
              "[19560591.129921257, 11922485.01968504]"
            ]
          },
          "execution_count": 97,
          "metadata": {},
          "output_type": "execute_result"
        }
      ],
      "source": [
        "f_ip"
      ]
    },
    {
      "cell_type": "code",
      "execution_count": null,
      "metadata": {
        "colab": {
          "base_uri": "https://localhost:8080/"
        },
        "id": "TEdXtTmsqlv-",
        "outputId": "bc100059-7fdc-4ada-a7b8-58a4cd145609"
      },
      "outputs": [
        {
          "data": {
            "text/plain": [
              "[71032.0, 42822.0]"
            ]
          },
          "execution_count": 98,
          "metadata": {},
          "output_type": "execute_result"
        }
      ],
      "source": [
        "C_i"
      ]
    },
    {
      "cell_type": "code",
      "execution_count": null,
      "metadata": {
        "id": "xfCE2qnViG6s"
      },
      "outputs": [],
      "source": [
        "m = gp.Model(\"cflp\")\n",
        "\n",
        "# CREATE THE DECISION VARIABLES HERE\n",
        "# : Annual shipment of type v∈V vehicles from source s∈S to DC location i∈I\n",
        "x1_siv = m.addVars(plants_set, dcs_set, vehicle_set, vtype=GRB.INTEGER) #\n",
        "x2_ijv = m.addVars(dcs_set, dealers_set, vehicle_set, vtype=GRB.INTEGER )\n",
        "y_ip = m.addVars(dcs_set, facility_type_set, vtype=GRB.BINARY)"
      ]
    },
    {
      "cell_type": "code",
      "execution_count": null,
      "metadata": {
        "colab": {
          "base_uri": "https://localhost:8080/"
        },
        "id": "8dzc4BtqrrMt",
        "outputId": "b32b1e27-ef4f-42b5-dffd-fbeddf5b6340"
      },
      "outputs": [
        {
          "data": {
            "text/plain": [
              "{(0, 0, 0): <gurobi.Var *Awaiting Model Update*>,\n",
              " (0, 0, 1): <gurobi.Var *Awaiting Model Update*>,\n",
              " (0, 0, 2): <gurobi.Var *Awaiting Model Update*>,\n",
              " (0, 0, 3): <gurobi.Var *Awaiting Model Update*>,\n",
              " (0, 1, 0): <gurobi.Var *Awaiting Model Update*>,\n",
              " (0, 1, 1): <gurobi.Var *Awaiting Model Update*>,\n",
              " (0, 1, 2): <gurobi.Var *Awaiting Model Update*>,\n",
              " (0, 1, 3): <gurobi.Var *Awaiting Model Update*>}"
            ]
          },
          "execution_count": 100,
          "metadata": {},
          "output_type": "execute_result"
        }
      ],
      "source": [
        "x1_siv"
      ]
    },
    {
      "cell_type": "code",
      "execution_count": null,
      "metadata": {
        "colab": {
          "base_uri": "https://localhost:8080/"
        },
        "id": "w2Sv7vNcrvkd",
        "outputId": "17de83c6-b705-4bda-826f-85219ad9caf8"
      },
      "outputs": [
        {
          "data": {
            "text/plain": [
              "{(0, 0, 0): <gurobi.Var *Awaiting Model Update*>,\n",
              " (0, 0, 1): <gurobi.Var *Awaiting Model Update*>,\n",
              " (0, 0, 2): <gurobi.Var *Awaiting Model Update*>,\n",
              " (0, 0, 3): <gurobi.Var *Awaiting Model Update*>,\n",
              " (0, 1, 0): <gurobi.Var *Awaiting Model Update*>,\n",
              " (0, 1, 1): <gurobi.Var *Awaiting Model Update*>,\n",
              " (0, 1, 2): <gurobi.Var *Awaiting Model Update*>,\n",
              " (0, 1, 3): <gurobi.Var *Awaiting Model Update*>,\n",
              " (0, 2, 0): <gurobi.Var *Awaiting Model Update*>,\n",
              " (0, 2, 1): <gurobi.Var *Awaiting Model Update*>,\n",
              " (0, 2, 2): <gurobi.Var *Awaiting Model Update*>,\n",
              " (0, 2, 3): <gurobi.Var *Awaiting Model Update*>,\n",
              " (0, 3, 0): <gurobi.Var *Awaiting Model Update*>,\n",
              " (0, 3, 1): <gurobi.Var *Awaiting Model Update*>,\n",
              " (0, 3, 2): <gurobi.Var *Awaiting Model Update*>,\n",
              " (0, 3, 3): <gurobi.Var *Awaiting Model Update*>,\n",
              " (1, 0, 0): <gurobi.Var *Awaiting Model Update*>,\n",
              " (1, 0, 1): <gurobi.Var *Awaiting Model Update*>,\n",
              " (1, 0, 2): <gurobi.Var *Awaiting Model Update*>,\n",
              " (1, 0, 3): <gurobi.Var *Awaiting Model Update*>,\n",
              " (1, 1, 0): <gurobi.Var *Awaiting Model Update*>,\n",
              " (1, 1, 1): <gurobi.Var *Awaiting Model Update*>,\n",
              " (1, 1, 2): <gurobi.Var *Awaiting Model Update*>,\n",
              " (1, 1, 3): <gurobi.Var *Awaiting Model Update*>,\n",
              " (1, 2, 0): <gurobi.Var *Awaiting Model Update*>,\n",
              " (1, 2, 1): <gurobi.Var *Awaiting Model Update*>,\n",
              " (1, 2, 2): <gurobi.Var *Awaiting Model Update*>,\n",
              " (1, 2, 3): <gurobi.Var *Awaiting Model Update*>,\n",
              " (1, 3, 0): <gurobi.Var *Awaiting Model Update*>,\n",
              " (1, 3, 1): <gurobi.Var *Awaiting Model Update*>,\n",
              " (1, 3, 2): <gurobi.Var *Awaiting Model Update*>,\n",
              " (1, 3, 3): <gurobi.Var *Awaiting Model Update*>}"
            ]
          },
          "execution_count": 101,
          "metadata": {},
          "output_type": "execute_result"
        }
      ],
      "source": [
        "x2_ijv"
      ]
    },
    {
      "cell_type": "code",
      "execution_count": null,
      "metadata": {
        "colab": {
          "base_uri": "https://localhost:8080/"
        },
        "id": "DV4tYzpty4H6",
        "outputId": "af709746-d11d-4cc8-914f-2520da915c1d"
      },
      "outputs": [
        {
          "data": {
            "text/plain": [
              "{(0, 0): <gurobi.Var *Awaiting Model Update*>,\n",
              " (0, 1): <gurobi.Var *Awaiting Model Update*>,\n",
              " (1, 0): <gurobi.Var *Awaiting Model Update*>,\n",
              " (1, 1): <gurobi.Var *Awaiting Model Update*>}"
            ]
          },
          "execution_count": 102,
          "metadata": {},
          "output_type": "execute_result"
        }
      ],
      "source": [
        "y_ip"
      ]
    },
    {
      "cell_type": "code",
      "execution_count": null,
      "metadata": {
        "id": "lV5HqbOm6tWn"
      },
      "outputs": [],
      "source": [
        "# TODO: FIX THIS\n",
        "#  m.setObjective(, gp.GRB.MINIMIZE)\n",
        "\n",
        "# obj2_sub1 = sum(x2_ijv[i, j, v] + x1_siv[s, i, v] for v in vehicle_set for j in dealers_set for s in plants_set for i in dcs_set)\n",
        "# obj2 = sum(obj2_sub1 * c_si[i] for s in plants_set for i in dcs_set)\n",
        "\n",
        "# Need to verify them all with Affleck\n",
        "obj1 = sum((x2_ijv[i, j, v]/L_j)*(T_1 + T_1*m_ij[i, j]) for v in vehicle_set for j in dealers_set for i in dcs_set)\n",
        "\n",
        "# Since we only have one plant, c_si should only take in i as an index. We are good.\n",
        "obj2 = sum(sum(x2_ijv[i, j, v] + x1_siv[s, i, v] for v in vehicle_set for j in dealers_set for s in plants_set) * c_si[i] for i in dcs_set)\n",
        "\n",
        "obj3 = sum(x1_siv[s, i, v] for v in vehicle_set for s in plants_set for i in dcs_set)\n",
        "\n",
        "# This works for a small example, but not for a larger example\n",
        "# Can we just do one type of facility?\n",
        "obj4 = sum(f_ip[i]*y_ip[i, p] for p in facility_type_set for i in dcs_set)\n",
        "\n",
        "m.setObjective(obj1 + obj2 + obj3 + obj4, gp.GRB.MINIMIZE)"
      ]
    },
    {
      "cell_type": "code",
      "execution_count": null,
      "metadata": {
        "colab": {
          "base_uri": "https://localhost:8080/"
        },
        "id": "_1NtQ7dI9qwv",
        "outputId": "10362841-48a1-4e45-90c8-a8b4173b540e"
      },
      "outputs": [
        {
          "data": {
            "text/plain": [
              "{(0, 0, 0): <gurobi.Constr *Awaiting Model Update*>,\n",
              " (0, 0, 1): <gurobi.Constr *Awaiting Model Update*>,\n",
              " (0, 0, 2): <gurobi.Constr *Awaiting Model Update*>,\n",
              " (0, 0, 3): <gurobi.Constr *Awaiting Model Update*>,\n",
              " (0, 1, 0): <gurobi.Constr *Awaiting Model Update*>,\n",
              " (0, 1, 1): <gurobi.Constr *Awaiting Model Update*>,\n",
              " (0, 1, 2): <gurobi.Constr *Awaiting Model Update*>,\n",
              " (0, 1, 3): <gurobi.Constr *Awaiting Model Update*>,\n",
              " (0, 2, 0): <gurobi.Constr *Awaiting Model Update*>,\n",
              " (0, 2, 1): <gurobi.Constr *Awaiting Model Update*>,\n",
              " (0, 2, 2): <gurobi.Constr *Awaiting Model Update*>,\n",
              " (0, 2, 3): <gurobi.Constr *Awaiting Model Update*>,\n",
              " (0, 3, 0): <gurobi.Constr *Awaiting Model Update*>,\n",
              " (0, 3, 1): <gurobi.Constr *Awaiting Model Update*>,\n",
              " (0, 3, 2): <gurobi.Constr *Awaiting Model Update*>,\n",
              " (0, 3, 3): <gurobi.Constr *Awaiting Model Update*>,\n",
              " (1, 0, 0): <gurobi.Constr *Awaiting Model Update*>,\n",
              " (1, 0, 1): <gurobi.Constr *Awaiting Model Update*>,\n",
              " (1, 0, 2): <gurobi.Constr *Awaiting Model Update*>,\n",
              " (1, 0, 3): <gurobi.Constr *Awaiting Model Update*>,\n",
              " (1, 1, 0): <gurobi.Constr *Awaiting Model Update*>,\n",
              " (1, 1, 1): <gurobi.Constr *Awaiting Model Update*>,\n",
              " (1, 1, 2): <gurobi.Constr *Awaiting Model Update*>,\n",
              " (1, 1, 3): <gurobi.Constr *Awaiting Model Update*>,\n",
              " (1, 2, 0): <gurobi.Constr *Awaiting Model Update*>,\n",
              " (1, 2, 1): <gurobi.Constr *Awaiting Model Update*>,\n",
              " (1, 2, 2): <gurobi.Constr *Awaiting Model Update*>,\n",
              " (1, 2, 3): <gurobi.Constr *Awaiting Model Update*>,\n",
              " (1, 3, 0): <gurobi.Constr *Awaiting Model Update*>,\n",
              " (1, 3, 1): <gurobi.Constr *Awaiting Model Update*>,\n",
              " (1, 3, 2): <gurobi.Constr *Awaiting Model Update*>,\n",
              " (1, 3, 3): <gurobi.Constr *Awaiting Model Update*>}"
            ]
          },
          "execution_count": 126,
          "metadata": {},
          "output_type": "execute_result"
        }
      ],
      "source": [
        "# Constraints:\n",
        "\n",
        "# Constraint 1: Demand at each market area for each vehicle type must be met\n",
        "m.addConstrs(sum(x2_ijv[i, j, v] for i in dcs_set) == d_jv[j, v] for v in vehicle_set for j in dealers_set)\n",
        "\n",
        "# Constraint 2: Vehicle flows between plants and DCs must be conserved\n",
        "# Ask Affleck about summing over i twice\n",
        "m.addConstrs(sum(x1_siv[s, i, v] for s in plants_set) == sum(x2_ijv[i, j, v] for i in dcs_set) for i in dcs_set for v in vehicle_set for j in dealers_set)\n",
        "\n",
        "# Constraint 3: Check with Affleck\n",
        "# Total vehicle flow to each DC must satisfy the minimum and maximum capacity requirements of the type of facility installed.\n",
        "# Also, if there is no DC installed at a location, there is no shipment to that location.\n",
        "m.addConstrs(C_i[i]*y_ip[2] <= sum(x2_ijv[i, j, v] for v in vehicle_set for j in dealers_set) <= C_i[i]*y_ip[1] + sum(d_jv[j, v] for v in vehicle_set for j in dealers_set) * y_ip[2] for i in dcs_set)\n",
        "\n",
        "# Constraint 4: Shipment quantities must be nonnegative\n",
        "m.addConstrs(x1_siv[s, i, v] >= 0 for s in plants_set for v in vehicle_set for i in dcs_set)\n",
        "m.addConstrs(x2_ijv[i, j, v] >= 0 for i in dcs_set for v in vehicle_set for j in dealers_set)\n",
        "\n",
        "# Constraint 5: Ask Affleck\n"
      ]
    },
    {
      "cell_type": "code",
      "execution_count": null,
      "metadata": {
        "colab": {
          "base_uri": "https://localhost:8080/"
        },
        "id": "cq9ZIapQCOAq",
        "outputId": "f29fa1db-9eb3-4d66-a0c5-51760b668ca4"
      },
      "outputs": [
        {
          "name": "stdout",
          "output_type": "stream",
          "text": [
            "Gurobi Optimizer version 10.0.2 build v10.0.2rc0 (linux64)\n",
            "\n",
            "CPU model: Intel(R) Xeon(R) CPU @ 2.20GHz, instruction set [SSE2|AVX|AVX2]\n",
            "Thread count: 1 physical cores, 2 logical processors, using up to 2 threads\n",
            "\n",
            "Optimize a model with 200 rows, 44 columns and 456 nonzeros\n",
            "Model fingerprint: 0x7dc7e6b5\n",
            "Variable types: 0 continuous, 44 integer (4 binary)\n",
            "Coefficient statistics:\n",
            "  Matrix range     [1e+00, 1e+00]\n",
            "  Objective range  [7e+03, 2e+07]\n",
            "  Bounds range     [1e+00, 1e+00]\n",
            "  RHS range        [7e+02, 3e+04]\n",
            "Presolve removed 40 rows and 4 columns\n",
            "Presolve time: 0.00s\n",
            "\n",
            "Explored 0 nodes (0 simplex iterations) in 0.03 seconds (0.00 work units)\n",
            "Thread count was 1 (of 2 available processors)\n",
            "\n",
            "Solution count 0\n",
            "\n",
            "Model is infeasible\n",
            "Best objective -, best bound -, gap -\n"
          ]
        }
      ],
      "source": [
        "m.optimize()\n",
        "# m.write(\"out.sol\")"
      ]
    },
    {
      "cell_type": "code",
      "execution_count": null,
      "metadata": {
        "colab": {
          "base_uri": "https://localhost:8080/",
          "height": 277
        },
        "id": "fzRd3wZFeo-c",
        "outputId": "3d09dfe4-f18f-4f7c-d46e-8bd640a902d7"
      },
      "outputs": [
        {
          "ename": "TypeError",
          "evalue": "ignored",
          "output_type": "error",
          "traceback": [
            "\u001b[0;31m---------------------------------------------------------------------------\u001b[0m",
            "\u001b[0;31mTypeError\u001b[0m                                 Traceback (most recent call last)",
            "\u001b[0;32m<ipython-input-74-030d183bf845>\u001b[0m in \u001b[0;36m<cell line: 12>\u001b[0;34m()\u001b[0m\n\u001b[1;32m     15\u001b[0m \u001b[0;34m\u001b[0m\u001b[0m\n\u001b[1;32m     16\u001b[0m     \u001b[0;32mfor\u001b[0m \u001b[0mi\u001b[0m \u001b[0;32min\u001b[0m \u001b[0mdcs_set\u001b[0m\u001b[0;34m:\u001b[0m\u001b[0;34m\u001b[0m\u001b[0;34m\u001b[0m\u001b[0m\n\u001b[0;32m---> 17\u001b[0;31m       \u001b[0msum_of_i\u001b[0m \u001b[0;34m=\u001b[0m \u001b[0mgp\u001b[0m\u001b[0;34m.\u001b[0m\u001b[0mquicksum\u001b[0m\u001b[0;34m(\u001b[0m\u001b[0mx2_ijv\u001b[0m\u001b[0;34m[\u001b[0m\u001b[0mi\u001b[0m\u001b[0;34m,\u001b[0m\u001b[0mj\u001b[0m\u001b[0;34m,\u001b[0m\u001b[0mv\u001b[0m\u001b[0;34m]\u001b[0m\u001b[0;34m)\u001b[0m\u001b[0;34m\u001b[0m\u001b[0;34m\u001b[0m\u001b[0m\n\u001b[0m\u001b[1;32m     18\u001b[0m \u001b[0;34m\u001b[0m\u001b[0m\n\u001b[1;32m     19\u001b[0m       \u001b[0mm\u001b[0m\u001b[0;34m.\u001b[0m\u001b[0maddConstrs\u001b[0m\u001b[0;34m(\u001b[0m\u001b[0msum_of_i\u001b[0m \u001b[0;34m=\u001b[0m \u001b[0md_jv\u001b[0m\u001b[0;34m[\u001b[0m\u001b[0mj\u001b[0m\u001b[0;34m]\u001b[0m\u001b[0;34m[\u001b[0m\u001b[0mv\u001b[0m\u001b[0;34m]\u001b[0m\u001b[0;34m)\u001b[0m\u001b[0;34m\u001b[0m\u001b[0;34m\u001b[0m\u001b[0m\n",
            "\u001b[0;32msrc/gurobipy/gurobi.pxi\u001b[0m in \u001b[0;36mgurobipy.quicksum\u001b[0;34m()\u001b[0m\n",
            "\u001b[0;31mTypeError\u001b[0m: 'Var' object is not iterable"
          ]
        }
      ],
      "source": [
        "\n",
        "# CONSTRAINTS HERE:\n",
        "\n",
        "# Demand at each market area for each vehicle type must be met\n",
        "\n",
        "# for v in vehicle_set:\n",
        "#   print (v)\n",
        "\n",
        "\n",
        "# for all j and v\n",
        "# x2_jiv[(j, v)] for j in dealers_set) == 1 for\n",
        "\n",
        "for v in vehicle_set:\n",
        "  for j in dealers_set:\n",
        "\n",
        "\n",
        "    for i in dcs_set:\n",
        "      sum_of_i = sum(x2_ijv[i,j,v])\n",
        "\n",
        "      m.addConstrs(sum_of_i = d_jv[j][v])\n",
        "\n",
        "\n",
        "\n",
        "\n",
        "# gp.quicksum(x2_ijv[(j,v)]) for i in dcs_set == d_jv[j][v] for j in dealers_set\n"
      ]
    },
    {
      "cell_type": "code",
      "execution_count": null,
      "metadata": {
        "id": "mFUKkBcrlWR-"
      },
      "outputs": [],
      "source": [
        "# Also, if there is no DC installed at a location, there is no shipment to that location"
      ]
    },
    {
      "cell_type": "code",
      "execution_count": null,
      "metadata": {
        "id": "nhVgj6XElV82"
      },
      "outputs": [],
      "source": [
        "# The distribution centers must be selected so that all market areas can be reached within r days. Suppose a truck travels on average 300 miles a day."
      ]
    }
  ],
  "metadata": {
    "colab": {
      "collapsed_sections": [
        "9yIcWTgTmsGf"
      ],
      "provenance": []
    },
    "kernelspec": {
      "display_name": "Python 3",
      "name": "python3"
    },
    "language_info": {
      "codemirror_mode": {
        "name": "ipython",
        "version": 3
      },
      "file_extension": ".py",
      "mimetype": "text/x-python",
      "name": "python",
      "nbconvert_exporter": "python",
      "pygments_lexer": "ipython3",
      "version": "3.10.1"
    }
  },
  "nbformat": 4,
  "nbformat_minor": 0
}
