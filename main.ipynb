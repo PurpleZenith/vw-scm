{
  "cells": [
    {
      "cell_type": "code",
      "execution_count": null,
      "metadata": {
        "colab": {
          "base_uri": "https://localhost:8080/"
        },
        "id": "2Ohs0FZzVnbD",
        "outputId": "9511677c-e744-4d04-f22f-86236ae4dabf"
      },
      "outputs": [],
      "source": [
        "!python --version\n",
        "!pip install --upgrade pip\n",
        "!pip install pandas\n",
        "!pip install geopy\n",
        "!pip install numpy\n",
        "!pip install gurobipy"
      ]
    },
    {
      "cell_type": "code",
      "execution_count": 4,
      "metadata": {
        "id": "wdIl5EQXWmPT"
      },
      "outputs": [],
      "source": [
        "import pandas as pd\n",
        "\n",
        "\n",
        "def load_total_demand():\n",
        "  yearly_sales = pd.read_csv('data/vw_yearly_sales.csv')\n",
        "  return yearly_sales\n",
        "\n",
        "\n",
        "def load_dcs():\n",
        "  # 2 samples\n",
        "  dcs= pd.read_csv('data/small_list_of_dcs.csv', encoding= 'unicode_escape', names=['ID', \"Name\",\"City\",\"State\",\"Address Line 1\",\"Address Line 2\", \"Coordinates\", \"Area m3\", \"Facility Type\", \"StateConst\"])\n",
        "\n",
        "  # FULL DATASET\n",
        "  # dcs = pd.read_csv('list_of_dcs.csv', encoding= 'unicode_escape', names=['ID', \"Name\",\"City\",\"State\",\"Address Line 1\",\"Address Line 2\", \"Coordinates\", \"Area m3\", \"Facility Type\", \"StateConst\"])\n",
        "  #stateconst is a constant used to account for the different prices for the cost of living and rent in various states\n",
        "\n",
        "  dcs['Area sqft'] = round(dcs['Area m3'] * 10.7639)\n",
        "  return dcs\n",
        "\n",
        "\n",
        "\n",
        "def load_dealers():\n",
        "  # https://www.vw.com/app/dccsearch/vw-us/en/Find%20a%20Volkswagen%20Dealer/+/38.353354499999995/-95.3817145/3/+/+/+/+\n",
        "\n",
        "  # 2 SAMPLES\n",
        "  dealers= pd.read_csv('data/small_list_of_dealers.csv',names=['ID', \"Name\",\"Address Line 1\",\"Address Line 2\", \"Website\",\"Phone Number\", \"Coordinates\"])\n",
        "\n",
        "  # FULL DATASET\n",
        "  # dealers= pd.read_csv('list_of_dealers.csv',names=['ID', \"Name\",\"Address Line 1\",\"Address Line 2\", \"Website\",\"Phone Number\", \"Coordinates\"])\n",
        "  return dealers\n",
        "\n",
        "\n",
        "def load_plants():\n",
        "  plants= pd.read_csv('data/list_of_vw_plants_and_products.csv', encoding= 'unicode_escape',names=['ID', \"City\",\"Country\", \"Model\",\"Coordinates\",\"Current/Former plant\"])\n",
        "\n",
        "  plants_usa = plants.loc[plants[\"Country\"]==\"USA\"]\n",
        "\n",
        "  return plants_usa\n",
        "\n",
        "def load_dealer_demands():\n",
        "\n",
        "  def single_sample():\n",
        "\n",
        "  # 4 samples\n",
        "    dealers= pd.read_csv('data/small_list_of_demand_data.csv',names=['ID',\"Name\",\"Rating\",\"Proportion\",\"na\"])\n",
        "    del dealers[dealers.columns[-1]]\n",
        "    return dealers\n",
        "\n",
        "  def full_data():\n",
        "  # FULL DATASET\n",
        "    dealers= pd.read_csv('data/list_of_demand_data.csv',names=['ID',\"Name\",\"Rating\",\"Proportion\",\"na\", \"na2\", \"na3\"])\n",
        "    del dealers[dealers.columns[-1]]\n",
        "    del dealers[dealers.columns[-1]]\n",
        "    del dealers[dealers.columns[-1]]\n",
        "    return dealers\n",
        "\n",
        "  dealers = single_sample() # either call single_sample or full_data\n",
        "\n",
        "  return dealers\n"
      ]
    },
    {
      "cell_type": "code",
      "execution_count": 5,
      "metadata": {
        "colab": {
          "base_uri": "https://localhost:8080/",
          "height": 175
        },
        "id": "F-ES9RxaAXkO",
        "outputId": "9fd51762-34d9-46d5-c7c6-ef29c0849b05"
      },
      "outputs": [
        {
          "data": {
            "text/html": [
              "<div>\n",
              "<style scoped>\n",
              "    .dataframe tbody tr th:only-of-type {\n",
              "        vertical-align: middle;\n",
              "    }\n",
              "\n",
              "    .dataframe tbody tr th {\n",
              "        vertical-align: top;\n",
              "    }\n",
              "\n",
              "    .dataframe thead th {\n",
              "        text-align: right;\n",
              "    }\n",
              "</style>\n",
              "<table border=\"1\" class=\"dataframe\">\n",
              "  <thead>\n",
              "    <tr style=\"text-align: right;\">\n",
              "      <th></th>\n",
              "      <th>ID</th>\n",
              "      <th>Name</th>\n",
              "      <th>Rating</th>\n",
              "      <th>Proportion</th>\n",
              "    </tr>\n",
              "  </thead>\n",
              "  <tbody>\n",
              "    <tr>\n",
              "      <th>0</th>\n",
              "      <td>0</td>\n",
              "      <td>Alexandria Volkswagen</td>\n",
              "      <td>4.4</td>\n",
              "      <td>2984</td>\n",
              "    </tr>\n",
              "    <tr>\n",
              "      <th>1</th>\n",
              "      <td>1</td>\n",
              "      <td>Ancira Volkswagen</td>\n",
              "      <td>4.5</td>\n",
              "      <td>1913</td>\n",
              "    </tr>\n",
              "    <tr>\n",
              "      <th>2</th>\n",
              "      <td>2</td>\n",
              "      <td>Ancira Volkswagen of Laredo</td>\n",
              "      <td>4.1</td>\n",
              "      <td>271</td>\n",
              "    </tr>\n",
              "    <tr>\n",
              "      <th>3</th>\n",
              "      <td>3</td>\n",
              "      <td>Andy Mohr Volkswagen of Avon</td>\n",
              "      <td>4.5</td>\n",
              "      <td>1432</td>\n",
              "    </tr>\n",
              "  </tbody>\n",
              "</table>\n",
              "</div>"
            ],
            "text/plain": [
              "   ID                          Name  Rating  Proportion\n",
              "0   0         Alexandria Volkswagen     4.4        2984\n",
              "1   1             Ancira Volkswagen     4.5        1913\n",
              "2   2   Ancira Volkswagen of Laredo     4.1         271\n",
              "3   3  Andy Mohr Volkswagen of Avon     4.5        1432"
            ]
          },
          "execution_count": 5,
          "metadata": {},
          "output_type": "execute_result"
        }
      ],
      "source": [
        "load_dealer_demands() # used google ratings as a indicator of demand/traffic"
      ]
    },
    {
      "cell_type": "code",
      "execution_count": 6,
      "metadata": {
        "colab": {
          "base_uri": "https://localhost:8080/",
          "height": 601
        },
        "id": "a7YdjC0NnZwH",
        "outputId": "80ee65b4-4bda-41e2-f572-2ba8f49f5364"
      },
      "outputs": [
        {
          "data": {
            "text/html": [
              "<div>\n",
              "<style scoped>\n",
              "    .dataframe tbody tr th:only-of-type {\n",
              "        vertical-align: middle;\n",
              "    }\n",
              "\n",
              "    .dataframe tbody tr th {\n",
              "        vertical-align: top;\n",
              "    }\n",
              "\n",
              "    .dataframe thead th {\n",
              "        text-align: right;\n",
              "    }\n",
              "</style>\n",
              "<table border=\"1\" class=\"dataframe\">\n",
              "  <thead>\n",
              "    <tr style=\"text-align: right;\">\n",
              "      <th></th>\n",
              "      <th>year</th>\n",
              "      <th>ID4</th>\n",
              "      <th>TAOS</th>\n",
              "      <th>Cross Sport</th>\n",
              "      <th>Arteon</th>\n",
              "      <th>Tiguan</th>\n",
              "      <th>Atlas</th>\n",
              "      <th>Routan</th>\n",
              "      <th>Touareg</th>\n",
              "      <th>Tiguan.1</th>\n",
              "      <th>CC</th>\n",
              "      <th>EOS</th>\n",
              "      <th>Passat</th>\n",
              "      <th>Jetta</th>\n",
              "      <th>Golf</th>\n",
              "      <th>Beetle</th>\n",
              "    </tr>\n",
              "  </thead>\n",
              "  <tbody>\n",
              "    <tr>\n",
              "      <th>0</th>\n",
              "      <td>2008</td>\n",
              "      <td>0</td>\n",
              "      <td>0</td>\n",
              "      <td>0</td>\n",
              "      <td>0</td>\n",
              "      <td>0</td>\n",
              "      <td>0</td>\n",
              "      <td>3387</td>\n",
              "      <td>6755</td>\n",
              "      <td>8664</td>\n",
              "      <td>2105</td>\n",
              "      <td>12837</td>\n",
              "      <td>30034</td>\n",
              "      <td>97461</td>\n",
              "      <td>35408</td>\n",
              "      <td>26477</td>\n",
              "    </tr>\n",
              "    <tr>\n",
              "      <th>1</th>\n",
              "      <td>2009</td>\n",
              "      <td>0</td>\n",
              "      <td>0</td>\n",
              "      <td>0</td>\n",
              "      <td>0</td>\n",
              "      <td>0</td>\n",
              "      <td>0</td>\n",
              "      <td>14651</td>\n",
              "      <td>4392</td>\n",
              "      <td>13903</td>\n",
              "      <td>23872</td>\n",
              "      <td>7204</td>\n",
              "      <td>11138</td>\n",
              "      <td>108427</td>\n",
              "      <td>15752</td>\n",
              "      <td>14085</td>\n",
              "    </tr>\n",
              "    <tr>\n",
              "      <th>2</th>\n",
              "      <td>2010</td>\n",
              "      <td>0</td>\n",
              "      <td>0</td>\n",
              "      <td>0</td>\n",
              "      <td>0</td>\n",
              "      <td>0</td>\n",
              "      <td>0</td>\n",
              "      <td>15961</td>\n",
              "      <td>4713</td>\n",
              "      <td>20946</td>\n",
              "      <td>27987</td>\n",
              "      <td>6690</td>\n",
              "      <td>12497</td>\n",
              "      <td>123213</td>\n",
              "      <td>28286</td>\n",
              "      <td>16573</td>\n",
              "    </tr>\n",
              "    <tr>\n",
              "      <th>3</th>\n",
              "      <td>2011</td>\n",
              "      <td>0</td>\n",
              "      <td>0</td>\n",
              "      <td>0</td>\n",
              "      <td>0</td>\n",
              "      <td>0</td>\n",
              "      <td>0</td>\n",
              "      <td>12473</td>\n",
              "      <td>7535</td>\n",
              "      <td>2599</td>\n",
              "      <td>29502</td>\n",
              "      <td>7533</td>\n",
              "      <td>22835</td>\n",
              "      <td>177360</td>\n",
              "      <td>34706</td>\n",
              "      <td>6468</td>\n",
              "    </tr>\n",
              "    <tr>\n",
              "      <th>4</th>\n",
              "      <td>2012</td>\n",
              "      <td>0</td>\n",
              "      <td>0</td>\n",
              "      <td>0</td>\n",
              "      <td>0</td>\n",
              "      <td>0</td>\n",
              "      <td>0</td>\n",
              "      <td>10484</td>\n",
              "      <td>10553</td>\n",
              "      <td>31731</td>\n",
              "      <td>21646</td>\n",
              "      <td>6214</td>\n",
              "      <td>117023</td>\n",
              "      <td>170424</td>\n",
              "      <td>40885</td>\n",
              "      <td>29174</td>\n",
              "    </tr>\n",
              "    <tr>\n",
              "      <th>5</th>\n",
              "      <td>2013</td>\n",
              "      <td>0</td>\n",
              "      <td>0</td>\n",
              "      <td>0</td>\n",
              "      <td>0</td>\n",
              "      <td>0</td>\n",
              "      <td>0</td>\n",
              "      <td>2109</td>\n",
              "      <td>8233</td>\n",
              "      <td>3000</td>\n",
              "      <td>15672</td>\n",
              "      <td>4178</td>\n",
              "      <td>109652</td>\n",
              "      <td>163793</td>\n",
              "      <td>30931</td>\n",
              "      <td>43134</td>\n",
              "    </tr>\n",
              "    <tr>\n",
              "      <th>6</th>\n",
              "      <td>2014</td>\n",
              "      <td>0</td>\n",
              "      <td>0</td>\n",
              "      <td>0</td>\n",
              "      <td>0</td>\n",
              "      <td>0</td>\n",
              "      <td>0</td>\n",
              "      <td>1103</td>\n",
              "      <td>6961</td>\n",
              "      <td>25121</td>\n",
              "      <td>9995</td>\n",
              "      <td>3411</td>\n",
              "      <td>96649</td>\n",
              "      <td>160873</td>\n",
              "      <td>33675</td>\n",
              "      <td>29182</td>\n",
              "    </tr>\n",
              "    <tr>\n",
              "      <th>7</th>\n",
              "      <td>2015</td>\n",
              "      <td>0</td>\n",
              "      <td>0</td>\n",
              "      <td>0</td>\n",
              "      <td>0</td>\n",
              "      <td>0</td>\n",
              "      <td>0</td>\n",
              "      <td>0</td>\n",
              "      <td>8223</td>\n",
              "      <td>35843</td>\n",
              "      <td>6276</td>\n",
              "      <td>2993</td>\n",
              "      <td>78207</td>\n",
              "      <td>131109</td>\n",
              "      <td>65308</td>\n",
              "      <td>22667</td>\n",
              "    </tr>\n",
              "    <tr>\n",
              "      <th>8</th>\n",
              "      <td>2016</td>\n",
              "      <td>0</td>\n",
              "      <td>0</td>\n",
              "      <td>0</td>\n",
              "      <td>0</td>\n",
              "      <td>0</td>\n",
              "      <td>0</td>\n",
              "      <td>0</td>\n",
              "      <td>4223</td>\n",
              "      <td>43638</td>\n",
              "      <td>3237</td>\n",
              "      <td>387</td>\n",
              "      <td>73002</td>\n",
              "      <td>121107</td>\n",
              "      <td>61687</td>\n",
              "      <td>15667</td>\n",
              "    </tr>\n",
              "    <tr>\n",
              "      <th>9</th>\n",
              "      <td>2017</td>\n",
              "      <td>0</td>\n",
              "      <td>0</td>\n",
              "      <td>0</td>\n",
              "      <td>0</td>\n",
              "      <td>21023</td>\n",
              "      <td>27119</td>\n",
              "      <td>0</td>\n",
              "      <td>3545</td>\n",
              "      <td>25960</td>\n",
              "      <td>1355</td>\n",
              "      <td>1</td>\n",
              "      <td>60722</td>\n",
              "      <td>115807</td>\n",
              "      <td>68978</td>\n",
              "      <td>15166</td>\n",
              "    </tr>\n",
              "    <tr>\n",
              "      <th>10</th>\n",
              "      <td>2018</td>\n",
              "      <td>0</td>\n",
              "      <td>0</td>\n",
              "      <td>0</td>\n",
              "      <td>0</td>\n",
              "      <td>89476</td>\n",
              "      <td>59677</td>\n",
              "      <td>0</td>\n",
              "      <td>2022</td>\n",
              "      <td>103022</td>\n",
              "      <td>455</td>\n",
              "      <td>0</td>\n",
              "      <td>41401</td>\n",
              "      <td>90805</td>\n",
              "      <td>42271</td>\n",
              "      <td>14411</td>\n",
              "    </tr>\n",
              "    <tr>\n",
              "      <th>11</th>\n",
              "      <td>2019</td>\n",
              "      <td>0</td>\n",
              "      <td>0</td>\n",
              "      <td>0</td>\n",
              "      <td>2449</td>\n",
              "      <td>109572</td>\n",
              "      <td>81508</td>\n",
              "      <td>0</td>\n",
              "      <td>160</td>\n",
              "      <td>109572</td>\n",
              "      <td>58</td>\n",
              "      <td>0</td>\n",
              "      <td>14123</td>\n",
              "      <td>100453</td>\n",
              "      <td>37393</td>\n",
              "      <td>17215</td>\n",
              "    </tr>\n",
              "    <tr>\n",
              "      <th>12</th>\n",
              "      <td>2020</td>\n",
              "      <td>0</td>\n",
              "      <td>0</td>\n",
              "      <td>29069</td>\n",
              "      <td>3602</td>\n",
              "      <td>100687</td>\n",
              "      <td>59422</td>\n",
              "      <td>0</td>\n",
              "      <td>48</td>\n",
              "      <td>100687</td>\n",
              "      <td>17079</td>\n",
              "      <td>0</td>\n",
              "      <td>22964</td>\n",
              "      <td>82662</td>\n",
              "      <td>25858</td>\n",
              "      <td>2481</td>\n",
              "    </tr>\n",
              "    <tr>\n",
              "      <th>13</th>\n",
              "      <td>2021</td>\n",
              "      <td>16742</td>\n",
              "      <td>31682</td>\n",
              "      <td>43303</td>\n",
              "      <td>5537</td>\n",
              "      <td>109743</td>\n",
              "      <td>72384</td>\n",
              "      <td>0</td>\n",
              "      <td>6</td>\n",
              "      <td>109743</td>\n",
              "      <td>3</td>\n",
              "      <td>0</td>\n",
              "      <td>24396</td>\n",
              "      <td>61967</td>\n",
              "      <td>9253</td>\n",
              "      <td>10</td>\n",
              "    </tr>\n",
              "    <tr>\n",
              "      <th>14</th>\n",
              "      <td>2022</td>\n",
              "      <td>11072</td>\n",
              "      <td>46835</td>\n",
              "      <td>22674</td>\n",
              "      <td>941</td>\n",
              "      <td>64336</td>\n",
              "      <td>43525</td>\n",
              "      <td>0</td>\n",
              "      <td>0</td>\n",
              "      <td>0</td>\n",
              "      <td>1</td>\n",
              "      <td>0</td>\n",
              "      <td>2408</td>\n",
              "      <td>32984</td>\n",
              "      <td>7574</td>\n",
              "      <td>1</td>\n",
              "    </tr>\n",
              "  </tbody>\n",
              "</table>\n",
              "</div>"
            ],
            "text/plain": [
              "    year    ID4   TAOS  Cross Sport  Arteon  Tiguan  Atlas  Routan  Touareg  \\\n",
              "0   2008      0      0            0       0       0      0    3387     6755   \n",
              "1   2009      0      0            0       0       0      0   14651     4392   \n",
              "2   2010      0      0            0       0       0      0   15961     4713   \n",
              "3   2011      0      0            0       0       0      0   12473     7535   \n",
              "4   2012      0      0            0       0       0      0   10484    10553   \n",
              "5   2013      0      0            0       0       0      0    2109     8233   \n",
              "6   2014      0      0            0       0       0      0    1103     6961   \n",
              "7   2015      0      0            0       0       0      0       0     8223   \n",
              "8   2016      0      0            0       0       0      0       0     4223   \n",
              "9   2017      0      0            0       0   21023  27119       0     3545   \n",
              "10  2018      0      0            0       0   89476  59677       0     2022   \n",
              "11  2019      0      0            0    2449  109572  81508       0      160   \n",
              "12  2020      0      0        29069    3602  100687  59422       0       48   \n",
              "13  2021  16742  31682        43303    5537  109743  72384       0        6   \n",
              "14  2022  11072  46835        22674     941   64336  43525       0        0   \n",
              "\n",
              "    Tiguan.1     CC    EOS  Passat   Jetta   Golf  Beetle  \n",
              "0       8664   2105  12837   30034   97461  35408   26477  \n",
              "1      13903  23872   7204   11138  108427  15752   14085  \n",
              "2      20946  27987   6690   12497  123213  28286   16573  \n",
              "3       2599  29502   7533   22835  177360  34706    6468  \n",
              "4      31731  21646   6214  117023  170424  40885   29174  \n",
              "5       3000  15672   4178  109652  163793  30931   43134  \n",
              "6      25121   9995   3411   96649  160873  33675   29182  \n",
              "7      35843   6276   2993   78207  131109  65308   22667  \n",
              "8      43638   3237    387   73002  121107  61687   15667  \n",
              "9      25960   1355      1   60722  115807  68978   15166  \n",
              "10    103022    455      0   41401   90805  42271   14411  \n",
              "11    109572     58      0   14123  100453  37393   17215  \n",
              "12    100687  17079      0   22964   82662  25858    2481  \n",
              "13    109743      3      0   24396   61967   9253      10  \n",
              "14         0      1      0    2408   32984   7574       1  "
            ]
          },
          "execution_count": 6,
          "metadata": {},
          "output_type": "execute_result"
        }
      ],
      "source": [
        "load_total_demand()"
      ]
    },
    {
      "cell_type": "code",
      "execution_count": 7,
      "metadata": {
        "colab": {
          "base_uri": "https://localhost:8080/",
          "height": 297
        },
        "id": "l-iCeuAPnZ-v",
        "outputId": "e148fd9a-0de7-4bb6-b49b-01a47e8d70e2"
      },
      "outputs": [
        {
          "data": {
            "text/html": [
              "<div>\n",
              "<style scoped>\n",
              "    .dataframe tbody tr th:only-of-type {\n",
              "        vertical-align: middle;\n",
              "    }\n",
              "\n",
              "    .dataframe tbody tr th {\n",
              "        vertical-align: top;\n",
              "    }\n",
              "\n",
              "    .dataframe thead th {\n",
              "        text-align: right;\n",
              "    }\n",
              "</style>\n",
              "<table border=\"1\" class=\"dataframe\">\n",
              "  <thead>\n",
              "    <tr style=\"text-align: right;\">\n",
              "      <th></th>\n",
              "      <th>ID</th>\n",
              "      <th>Name</th>\n",
              "      <th>City</th>\n",
              "      <th>State</th>\n",
              "      <th>Address Line 1</th>\n",
              "      <th>Address Line 2</th>\n",
              "      <th>Coordinates</th>\n",
              "      <th>Area m3</th>\n",
              "      <th>Facility Type</th>\n",
              "      <th>StateConst</th>\n",
              "      <th>Area sqft</th>\n",
              "    </tr>\n",
              "  </thead>\n",
              "  <tbody>\n",
              "    <tr>\n",
              "      <th>0</th>\n",
              "      <td>0</td>\n",
              "      <td>Volkswagen Parts Distribution Center</td>\n",
              "      <td>Ontario</td>\n",
              "      <td>CA</td>\n",
              "      <td>3095 E Cedar St</td>\n",
              "      <td>Ontario, CA 91761</td>\n",
              "      <td>34.0376080290585, -117.58641507359258</td>\n",
              "      <td>30456</td>\n",
              "      <td>1</td>\n",
              "      <td>511</td>\n",
              "      <td>327825.0</td>\n",
              "    </tr>\n",
              "    <tr>\n",
              "      <th>1</th>\n",
              "      <td>1</td>\n",
              "      <td>Volkswagen Parts Distribution Center</td>\n",
              "      <td>Rocklin</td>\n",
              "      <td>CA</td>\n",
              "      <td>1100 Tinker Rd</td>\n",
              "      <td>Rocklin, CA 95765, United States</td>\n",
              "      <td>38.81328171265908, -121.30150120229099</td>\n",
              "      <td>18360</td>\n",
              "      <td>1</td>\n",
              "      <td>511</td>\n",
              "      <td>197625.0</td>\n",
              "    </tr>\n",
              "  </tbody>\n",
              "</table>\n",
              "</div>"
            ],
            "text/plain": [
              "   ID                                  Name     City State   Address Line 1  \\\n",
              "0   0  Volkswagen Parts Distribution Center  Ontario    CA  3095 E Cedar St   \n",
              "1   1  Volkswagen Parts Distribution Center  Rocklin    CA   1100 Tinker Rd   \n",
              "\n",
              "                     Address Line 2                             Coordinates  \\\n",
              "0                 Ontario, CA 91761   34.0376080290585, -117.58641507359258   \n",
              "1  Rocklin, CA 95765, United States  38.81328171265908, -121.30150120229099   \n",
              "\n",
              "   Area m3  Facility Type  StateConst  Area sqft  \n",
              "0    30456              1         511   327825.0  \n",
              "1    18360              1         511   197625.0  "
            ]
          },
          "execution_count": 7,
          "metadata": {},
          "output_type": "execute_result"
        }
      ],
      "source": [
        "load_dcs()"
      ]
    },
    {
      "cell_type": "code",
      "execution_count": 8,
      "metadata": {
        "colab": {
          "base_uri": "https://localhost:8080/",
          "height": 340
        },
        "id": "aFz292alnaGX",
        "outputId": "0b92606a-07a9-4d02-f92d-24ed746b7ed0"
      },
      "outputs": [
        {
          "data": {
            "text/html": [
              "<div>\n",
              "<style scoped>\n",
              "    .dataframe tbody tr th:only-of-type {\n",
              "        vertical-align: middle;\n",
              "    }\n",
              "\n",
              "    .dataframe tbody tr th {\n",
              "        vertical-align: top;\n",
              "    }\n",
              "\n",
              "    .dataframe thead th {\n",
              "        text-align: right;\n",
              "    }\n",
              "</style>\n",
              "<table border=\"1\" class=\"dataframe\">\n",
              "  <thead>\n",
              "    <tr style=\"text-align: right;\">\n",
              "      <th></th>\n",
              "      <th>ID</th>\n",
              "      <th>Name</th>\n",
              "      <th>Address Line 1</th>\n",
              "      <th>Address Line 2</th>\n",
              "      <th>Website</th>\n",
              "      <th>Phone Number</th>\n",
              "      <th>Coordinates</th>\n",
              "    </tr>\n",
              "  </thead>\n",
              "  <tbody>\n",
              "    <tr>\n",
              "      <th>0</th>\n",
              "      <td>0</td>\n",
              "      <td>Alexandria Volkswagen</td>\n",
              "      <td>107 W Glebe Rd</td>\n",
              "      <td>Alexandria, VA 22305</td>\n",
              "      <td>https://alexandriavw.com</td>\n",
              "      <td>(703) 684-8888</td>\n",
              "      <td>38.83578067871878, -77.05799331320739</td>\n",
              "    </tr>\n",
              "    <tr>\n",
              "      <th>1</th>\n",
              "      <td>1</td>\n",
              "      <td>Ancira Volkswagen</td>\n",
              "      <td>6125 Bandera Rd</td>\n",
              "      <td>San Antonio, TX 78238</td>\n",
              "      <td>https://anciravolkswagen.com</td>\n",
              "      <td>(210) 681-2300</td>\n",
              "      <td>29.488410637739907, -98.60618875952487</td>\n",
              "    </tr>\n",
              "    <tr>\n",
              "      <th>2</th>\n",
              "      <td>2</td>\n",
              "      <td>Ancira Volkswagen of Laredo</td>\n",
              "      <td>2701 N.E. Bob Bullock Loop</td>\n",
              "      <td>Laredo, TX 78045</td>\n",
              "      <td>https://vwlaredo.com</td>\n",
              "      <td>(956) 717-2200</td>\n",
              "      <td>27.612614635541124, -99.47040125767218</td>\n",
              "    </tr>\n",
              "    <tr>\n",
              "      <th>3</th>\n",
              "      <td>3</td>\n",
              "      <td>Andy Mohr Volkswagen of Avon</td>\n",
              "      <td>8791 E Us Highway 36</td>\n",
              "      <td>Avon, IN 46123</td>\n",
              "      <td>https://www.andymohrvw.com</td>\n",
              "      <td>(317) 978-0296</td>\n",
              "      <td>39.76232468061578, -86.36526215581948</td>\n",
              "    </tr>\n",
              "  </tbody>\n",
              "</table>\n",
              "</div>"
            ],
            "text/plain": [
              "   ID                          Name               Address Line 1  \\\n",
              "0   0         Alexandria Volkswagen              107 W Glebe Rd    \n",
              "1   1             Ancira Volkswagen             6125 Bandera Rd    \n",
              "2   2   Ancira Volkswagen of Laredo  2701 N.E. Bob Bullock Loop    \n",
              "3   3  Andy Mohr Volkswagen of Avon        8791 E Us Highway 36    \n",
              "\n",
              "           Address Line 2                        Website     Phone Number  \\\n",
              "0   Alexandria, VA 22305        https://alexandriavw.com   (703) 684-8888   \n",
              "1  San Antonio, TX 78238    https://anciravolkswagen.com   (210) 681-2300   \n",
              "2       Laredo, TX 78045            https://vwlaredo.com   (956) 717-2200   \n",
              "3         Avon, IN 46123      https://www.andymohrvw.com   (317) 978-0296   \n",
              "\n",
              "                              Coordinates  \n",
              "0   38.83578067871878, -77.05799331320739  \n",
              "1  29.488410637739907, -98.60618875952487  \n",
              "2  27.612614635541124, -99.47040125767218  \n",
              "3   39.76232468061578, -86.36526215581948  "
            ]
          },
          "execution_count": 8,
          "metadata": {},
          "output_type": "execute_result"
        }
      ],
      "source": [
        "load_dealers()"
      ]
    },
    {
      "cell_type": "code",
      "execution_count": 9,
      "metadata": {
        "colab": {
          "base_uri": "https://localhost:8080/",
          "height": 175
        },
        "id": "DfqAkRtiBUU7",
        "outputId": "97c386ed-b87d-41ac-d509-c85e103493f7"
      },
      "outputs": [
        {
          "data": {
            "text/html": [
              "<div>\n",
              "<style scoped>\n",
              "    .dataframe tbody tr th:only-of-type {\n",
              "        vertical-align: middle;\n",
              "    }\n",
              "\n",
              "    .dataframe tbody tr th {\n",
              "        vertical-align: top;\n",
              "    }\n",
              "\n",
              "    .dataframe thead th {\n",
              "        text-align: right;\n",
              "    }\n",
              "</style>\n",
              "<table border=\"1\" class=\"dataframe\">\n",
              "  <thead>\n",
              "    <tr style=\"text-align: right;\">\n",
              "      <th></th>\n",
              "      <th>ID</th>\n",
              "      <th>City</th>\n",
              "      <th>Country</th>\n",
              "      <th>Model</th>\n",
              "      <th>Coordinates</th>\n",
              "      <th>Current/Former plant</th>\n",
              "    </tr>\n",
              "  </thead>\n",
              "  <tbody>\n",
              "    <tr>\n",
              "      <th>25</th>\n",
              "      <td>9</td>\n",
              "      <td>Chattanooga</td>\n",
              "      <td>USA</td>\n",
              "      <td>Atlas</td>\n",
              "      <td>35.077103086458976, -85.13084428224508</td>\n",
              "      <td>current</td>\n",
              "    </tr>\n",
              "    <tr>\n",
              "      <th>26</th>\n",
              "      <td>9</td>\n",
              "      <td>Chattanooga</td>\n",
              "      <td>USA</td>\n",
              "      <td>Cross Sport</td>\n",
              "      <td>35.077103086458976, -85.13084428224508</td>\n",
              "      <td>current</td>\n",
              "    </tr>\n",
              "    <tr>\n",
              "      <th>27</th>\n",
              "      <td>9</td>\n",
              "      <td>Chattanooga</td>\n",
              "      <td>USA</td>\n",
              "      <td>ID4</td>\n",
              "      <td>35.077103086458976, -85.13084428224508</td>\n",
              "      <td>current</td>\n",
              "    </tr>\n",
              "    <tr>\n",
              "      <th>28</th>\n",
              "      <td>9</td>\n",
              "      <td>Chattanooga</td>\n",
              "      <td>USA</td>\n",
              "      <td>Passat</td>\n",
              "      <td>35.077103086458976, -85.13084428224508</td>\n",
              "      <td>former</td>\n",
              "    </tr>\n",
              "  </tbody>\n",
              "</table>\n",
              "</div>"
            ],
            "text/plain": [
              "    ID         City Country        Model  \\\n",
              "25   9  Chattanooga     USA        Atlas   \n",
              "26   9  Chattanooga     USA  Cross Sport   \n",
              "27   9  Chattanooga     USA          ID4   \n",
              "28   9  Chattanooga     USA       Passat   \n",
              "\n",
              "                               Coordinates Current/Former plant  \n",
              "25  35.077103086458976, -85.13084428224508              current  \n",
              "26  35.077103086458976, -85.13084428224508              current  \n",
              "27  35.077103086458976, -85.13084428224508              current  \n",
              "28  35.077103086458976, -85.13084428224508               former  "
            ]
          },
          "execution_count": 9,
          "metadata": {},
          "output_type": "execute_result"
        }
      ],
      "source": [
        "load_plants()"
      ]
    },
    {
      "cell_type": "code",
      "execution_count": 10,
      "metadata": {
        "colab": {
          "base_uri": "https://localhost:8080/"
        },
        "id": "uabcfta6QMz1",
        "outputId": "cefca126-c252-4529-db60-f971e4629299"
      },
      "outputs": [
        {
          "name": "stdout",
          "output_type": "stream",
          "text": [
            "[1844.0657073866873, 2005.3600623066698]\n",
            "             0            1            2            3\n",
            "0  2263.452155  1158.436165  1162.247798  1764.014177\n",
            "1  2363.262580  1445.165292  1475.686061  1862.087265\n"
          ]
        }
      ],
      "source": [
        "### do location work\n",
        "import networkx as nx\n",
        "from geopy.distance import geodesic\n",
        "import numpy\n",
        "\n",
        "# ALL DISTANCES ARE IN MILES!!!!\n",
        "# ALL AREAS ARE IN SQFT!!!\n",
        "def dc_to_dealer_distances(dcs, dealers): # using geodesic distance, may want to add 15% or something onto distance\n",
        "  distance_dc_to_dealer = numpy.zeros((len(dcs), len(dealers)))\n",
        "  for dc_id, dc in dcs.iterrows():\n",
        "    for dealer_id, dealer in dealers.iterrows():\n",
        "      point1 = dc[\"Coordinates\"].split(\",\")\n",
        "      point2 = dealer[\"Coordinates\"].split(\",\")\n",
        "      distance = geodesic(point1, point2).miles\n",
        "      dc_id = dc[\"ID\"]\n",
        "      dealer_id = dealer[\"ID\"]\n",
        "      # print (\"distance from dc \" + str(dc_id)+ \" to dealer \"+ str(dealer_id) + \" is \" + str(distance))\n",
        "      distance_dc_to_dealer[dc_id][dealer_id] = distance\n",
        "  distance_dc_to_dealer_df = pd.DataFrame(distance_dc_to_dealer)\n",
        "  return distance_dc_to_dealer_df\n",
        "\n",
        "\n",
        "def plant_to_dc_distances(plants, dcs):\n",
        "  # get coordinates of the 1 usa plant\n",
        "  plant_coordinates = plants['Coordinates'].iloc[0].split(\",\")\n",
        "  distance_plants_to_dcs = [] # since we only have 1 usa plant we can just make everything from there (very convenient)\n",
        "  for dcs_id, dc in dcs.iterrows():\n",
        "    point1 = plant_coordinates\n",
        "    point2 = dc[\"Coordinates\"].split(\",\")\n",
        "    distance = geodesic(point1, point2).miles\n",
        "    dc_id = dc[\"ID\"]\n",
        "    distance_plants_to_dcs.append(distance)\n",
        "  return distance_plants_to_dcs\n",
        "\n",
        "plants = load_plants()\n",
        "dcs = load_dcs()\n",
        "dealers = load_dealers()\n",
        "\n",
        "dcs_to_dealers = dc_to_dealer_distances(dcs, dealers)\n",
        "plants_to_dcs = plant_to_dc_distances(plants, dcs)\n",
        "\n",
        "\n",
        "print(plants_to_dcs)\n",
        "print(dcs_to_dealers)"
      ]
    },
    {
      "cell_type": "code",
      "execution_count": 11,
      "metadata": {
        "colab": {
          "base_uri": "https://localhost:8080/"
        },
        "id": "dmMl4HKqv_1X",
        "outputId": "36d2bb18-72fd-43ef-8325-c9a85711eefa"
      },
      "outputs": [
        {
          "data": {
            "text/plain": [
              "[1844.0657073866873, 2005.3600623066698]"
            ]
          },
          "execution_count": 11,
          "metadata": {},
          "output_type": "execute_result"
        }
      ],
      "source": [
        "plant_to_dc_distances(plants, dcs)"
      ]
    },
    {
      "cell_type": "code",
      "execution_count": 12,
      "metadata": {
        "id": "t0ye-PtjBhbu"
      },
      "outputs": [],
      "source": [
        "## Calculate demands\n",
        "def get_dealer_demands(year):\n",
        "  dealers = load_dealers()\n",
        "  dealer_demands = load_dealer_demands()\n",
        "  total_demands = load_total_demand() # demand for each specific car type\n",
        "\n",
        "\n",
        "  def get_demands(year):\n",
        "    year_demands = total_demands.loc[total_demands['year'] == year]\n",
        "    year_demands = year_demands[[\"Atlas\",\"Cross Sport\",\"ID4\",\"Passat\"]]\n",
        "    return year_demands\n",
        "\n",
        "  year_demands = get_demands(2021)\n",
        "  year_demands = year_demands.values.tolist()[0]\n",
        "\n",
        "  # print(year_demands)\n",
        "\n",
        "  proportion_sum = dealer_demands[\"Proportion\"].sum()\n",
        "\n",
        "  dealer_demands [[\"Ratio of sales\"]] = None\n",
        "  dealer_demands[\"Ratio of sales\"] = dealer_demands[\"Proportion\"]/proportion_sum\n",
        "\n",
        "  # print(dealer_demands)\n",
        "\n",
        "  # # with the sales proportion, get the general sales for each location\n",
        "\n",
        "  temp_ratio_col = pd.DataFrame(dealer_demands[\"Ratio of sales\"])\n",
        "\n",
        "  temp = []\n",
        "  for x in list(dealer_demands[\"Ratio of sales\"]):\n",
        "    temp1=[]\n",
        "    for y in list(year_demands):\n",
        "      temp1.append(round(x*y))\n",
        "    temp.append(temp1)\n",
        "  sales = pd.DataFrame(temp, columns=[\"Atlas\",\"Cross Sport\",\"ID4\",\"Passat\"])\n",
        "  return sales"
      ]
    },
    {
      "cell_type": "code",
      "execution_count": 13,
      "metadata": {
        "colab": {
          "base_uri": "https://localhost:8080/",
          "height": 175
        },
        "id": "_ZqeDtltKRRu",
        "outputId": "d0aeabe1-d808-4843-8a89-23786cd67685"
      },
      "outputs": [
        {
          "data": {
            "text/html": [
              "<div>\n",
              "<style scoped>\n",
              "    .dataframe tbody tr th:only-of-type {\n",
              "        vertical-align: middle;\n",
              "    }\n",
              "\n",
              "    .dataframe tbody tr th {\n",
              "        vertical-align: top;\n",
              "    }\n",
              "\n",
              "    .dataframe thead th {\n",
              "        text-align: right;\n",
              "    }\n",
              "</style>\n",
              "<table border=\"1\" class=\"dataframe\">\n",
              "  <thead>\n",
              "    <tr style=\"text-align: right;\">\n",
              "      <th></th>\n",
              "      <th>Atlas</th>\n",
              "      <th>Cross Sport</th>\n",
              "      <th>ID4</th>\n",
              "      <th>Passat</th>\n",
              "    </tr>\n",
              "  </thead>\n",
              "  <tbody>\n",
              "    <tr>\n",
              "      <th>0</th>\n",
              "      <td>32726</td>\n",
              "      <td>19578</td>\n",
              "      <td>7569</td>\n",
              "      <td>11030</td>\n",
              "    </tr>\n",
              "    <tr>\n",
              "      <th>1</th>\n",
              "      <td>20980</td>\n",
              "      <td>12551</td>\n",
              "      <td>4853</td>\n",
              "      <td>7071</td>\n",
              "    </tr>\n",
              "    <tr>\n",
              "      <th>2</th>\n",
              "      <td>2972</td>\n",
              "      <td>1778</td>\n",
              "      <td>687</td>\n",
              "      <td>1002</td>\n",
              "    </tr>\n",
              "    <tr>\n",
              "      <th>3</th>\n",
              "      <td>15705</td>\n",
              "      <td>9395</td>\n",
              "      <td>3633</td>\n",
              "      <td>5293</td>\n",
              "    </tr>\n",
              "  </tbody>\n",
              "</table>\n",
              "</div>"
            ],
            "text/plain": [
              "   Atlas  Cross Sport   ID4  Passat\n",
              "0  32726        19578  7569   11030\n",
              "1  20980        12551  4853    7071\n",
              "2   2972         1778   687    1002\n",
              "3  15705         9395  3633    5293"
            ]
          },
          "execution_count": 13,
          "metadata": {},
          "output_type": "execute_result"
        }
      ],
      "source": [
        "sales = get_dealer_demands(2021)\n",
        "sales\n",
        "# the left side are the dealer ids"
      ]
    },
    {
      "cell_type": "code",
      "execution_count": 14,
      "metadata": {
        "colab": {
          "base_uri": "https://localhost:8080/"
        },
        "id": "ha1CZa7A93cv",
        "outputId": "08f90566-1caa-492b-8fe7-5d903cb71018"
      },
      "outputs": [
        {
          "name": "stdout",
          "output_type": "stream",
          "text": [
            "[71032.0, 42822.0]\n"
          ]
        }
      ],
      "source": [
        "## Insert something here with defining facilities\n",
        "\n",
        "\n",
        "def calculate_dc_cost():\n",
        "\n",
        "\n",
        "  def calculate_dc_cost_monthly(id, state, facility_type, areasqft):\n",
        "  # print (id, facility, state, areasqft)\n",
        "    cost = 1.5*areasqft #2$ baseline\n",
        "    insurance = 3850  # https://glcdistribution.com/customer-resources/tools/warehousing-insurance-calculator/ 1 million dollar standard\n",
        "\n",
        "    employee_salaries = (areasqft/2000)*20*(40*4) # https://www.payscale.com/research/CA/Job=Warehouse_Material_Handler/Hourly_Rate\n",
        "\n",
        "  # pay 1 dollar per sqft for utility\n",
        "    utilities = areasqft\n",
        "\n",
        "\n",
        "  # $600 – $950 per month to lease a $50,000 forklift.\n",
        "  # https://discord.com/channels/260272353118912522/1093655130076893284/1129635416409133076 1 forklift services 5000 sqft\n",
        "    forklift_cost =  areasqft/5000  *800\n",
        "\n",
        "\n",
        "    # https://discord.com/channels/260272353118912522/1093655130076893284/1129639090942398504\n",
        "    price_it_costs_to_build_warehouse_sqft = 100*areasqft\n",
        "    property_tax = 6/1000*price_it_costs_to_build_warehouse_sqft\n",
        "\n",
        "\n",
        "    security = 1000 + (5 * 8 * 28*20) # 1000 fixed cost monitoring + 20$/h * 40h/week * 28 people\n",
        "\n",
        "    if facility_type == 1:\n",
        "      ft = 1\n",
        "    else:\n",
        "      ft = 1.2\n",
        "\n",
        "    price = (cost + insurance + employee_salaries + utilities + forklift_cost + security + property_tax)* (state/508)*ft\n",
        "    # 508 is the price of 100 big macs and state is the price of 100 big macs in that state\n",
        "    return price\n",
        "\n",
        "\n",
        "  prices = []\n",
        "\n",
        "  for i in range(len(dcs.index)):\n",
        "      moneys = calculate_dc_cost_monthly(float(dcs.loc[i,[\"ID\"]]), float(dcs.loc[i,[\"StateConst\"]]), float(dcs.loc[i,[\"Facility Type\"]]),float(dcs.loc[i,[\"Area sqft\"]] ))\n",
        "      prices.append(moneys*12)\n",
        "  return prices\n",
        "  # print(calculate_dc_cost())\n",
        "\n",
        "\n",
        "# C_i\n",
        "def calculate_dc_shipment_capacity():\n",
        "  dcs = load_dcs()\n",
        "  dcs = dcs[[\"Area sqft\",'Facility Type']]\n",
        "\n",
        "# The largest car to consider is the Cross Sport\n",
        "# It has dimensions: 4,966 mm L x 1,990 mm W x 1,723 mm H\n",
        "# we can round this up to: 17 ft length, 7 foot wide, 6 foot tall\n",
        "# add about 2 ft to everything as a buffer\n",
        "# new measurement is about 18 ft length, 8ft wide, 8 foot tall\n",
        "# so, we can predict that 2 car takes up 144/2, each car takes 72 sq foot\n",
        "\n",
        "# from https://discord.com/channels/260272353118912522/1093655130076893284/1131271495004459018,\n",
        "# we see that 60-80% of DCs are for storage. Let's assume 60%\n",
        "\n",
        "\n",
        "  vehicle_capacity = dcs[\"Area sqft\"]*0.6 /72\n",
        "\n",
        "\n",
        "# from https://discord.com/channels/260272353118912522/1093655130076893284/1131266537869820075\n",
        "# we see that most vehicles stay in the dc a couple of weeks (take 2 weeks)\n",
        "# we can frame this as: All vehicles in the DCS arrive at time 0, and after 2 weeks all are released\n",
        "\n",
        "  annual_throughput = round(vehicle_capacity) * (52/2)\n",
        "\n",
        "  # dcs[\"Annual Throughput\"] = annual_throughput\n",
        "\n",
        "  # print(annual_throughput)\n",
        "  return (list(annual_throughput))\n",
        "\n",
        "# WE NEED TO BE CAREFUL ABOUT TYPE 2 FACILITIES:\n",
        "\n",
        "print(calculate_dc_shipment_capacity())"
      ]
    },
    {
      "cell_type": "markdown",
      "metadata": {
        "id": "9yIcWTgTmsGf"
      },
      "source": [
        "# Important Verbiage"
      ]
    },
    {
      "cell_type": "markdown",
      "metadata": {
        "id": "doHwXn8yccn2"
      },
      "source": [
        "Has most of the answers:\n",
        "\n",
        "def generate_facility_cost\n",
        "\n",
        "---\n",
        "### Generally 2-3$ per square foot\n",
        "### https://www.warehousingandfulfillment.com/resources/fulfillment-cost-calculator/\n",
        "\n",
        "1. Rent or Mortgage:\n",
        "[A 50,000 square foot steel warehouse, in the words of one construction expert, will cost between 52,800 and 312,500 per month in addition to monthly rent, utilities, insurance, and other associated costs. A 100,000 increase in the monthly budget will be made up of the cost of a turnkey warehouse, which will also be included in the estimate.](https://www.hechtgroup.com/the-average-size-of-a-small-warehouse-is-1-000-5-000-square-feet/)\n",
        "\n",
        "\n",
        "2. Insurance:\n",
        "- a standard warehouse general liability is 1-2 million of coverage, which is about 100/month\n",
        "3. Salaries:\n",
        "```\n",
        "There is no definitive answer to how many employees per square foot warehouse as it depends on a variety of factors such as the type of products being stored, the level of automation in the warehouse, and the workflows. However, a good rule of thumb is to have one employee for every 1,000-1,500 square feet of warehouse space. This allows for efficient operations and ensures that there is enough staff to handle the volume of work.Every employee in a warehouse is allocated about 200-250 square feet of space. Distribution centers had a median square footage of 240,410 in 2016, 176,600 in 2017, and 305,000 in 2018. If a warehouse is properly designed, it will be more efficient and require less space per employee than if it is poorly designed. The number of warehouse employees varies greatly. Warehouses in general are less than 10,000 square feet in size. Eight-hour shifts pay between $14.80 and $19.90 per hour on average. Approximately 35% of the total warehouse space is estimated to be occupied by this type of warehouse.\n",
        "```\n",
        "`https://www.hechtgroup.com/how-many-employees-should-a-warehouse-have-per-square-foot/`\n",
        "\n",
        "4. Utilities:\n",
        "- [average utlity cost per square foot commercial property is about 1 dollar/sqft for electricity](https://www.iotacommunications.com/blog/average-utility-cost-per-square-foot-commercial-property/)\n",
        "5. Equipment:\n",
        "875$ lease a forklift\n",
        "\n",
        "6. Licensing and Permits:\n",
        "\n",
        "7. Maintenance and Repairs:\n",
        "\n",
        "8. Property Taxes:\n",
        "\n",
        "9. Security:\n",
        "\n",
        "10. Technology:\n",
        "\n",
        "\n"
      ]
    },
    {
      "cell_type": "markdown",
      "metadata": {
        "id": "AVYfrULDnDb-"
      },
      "source": [
        "# Back to Code"
      ]
    },
    {
      "cell_type": "code",
      "execution_count": 15,
      "metadata": {
        "id": "RGg9jwKnv_kE"
      },
      "outputs": [],
      "source": [
        "## Determining the cost of transportation\n",
        "\n",
        "\n",
        "## THE FUNCTION OF SHIPPING TRUCKS CAN BE APPROXIMATED BY A PIECEWISE FUNCTION\n",
        "# https://www.desmos.com/calculator/ipxbog2uyr\n",
        "# constructed from the data here: https://www.marketwatch.com/guides/car-shipping/truck-shipping/#:~:text=According%20to%20quotes%20we%20received,when%20using%20an%20enclosed%20carrier.\n",
        "\n",
        "def fixed_cost_shipment(): #T_1\n",
        "  return 186 # cost to drive 0 miles\n",
        "\n",
        "def calculate_variable_cost_shipment(mileage): #T_2\n",
        "  # if mileage < 1135:\n",
        "  #   return mileage * (551/535)\n",
        "  # return mileage * (0.43)\n",
        "  return (0.43)\n",
        "\n",
        "  # TODO: WE ARE ASSUMING FOR SIMPLICYT SAKE 0.43$/MILE AND ARE NOT CONSIDERING THE OTHER FUNCTION FOR MODELLING RIGHT NOW\n",
        "\n",
        "\n",
        "\n",
        "\n"
      ]
    },
    {
      "cell_type": "code",
      "execution_count": null,
      "metadata": {
        "id": "Co4M99Xfm39J"
      },
      "outputs": [],
      "source": [
        "## The modelling?\n",
        "import gurobipy as gp\n",
        "from gurobipy import GRB\n",
        "\n",
        "\n",
        "##LOAD DATA\n",
        "\n",
        "# plants = load_plants()\n",
        "# dcs = load_dcs()\n",
        "# dealers = load_dealers()\n",
        "\n",
        "# dcs_to_dealers = dc_to_dealer_distances(dcs, dealers)\n",
        "# plants_to_dcs = plant_to_dc_distances(plants, dcs)\n",
        "# dealer_demands = get_dealer_demands(2021)\n",
        "# dc_annual_cost = calculate_dc_cost()\n",
        "\n",
        "\n",
        "\n",
        "\n",
        "\n",
        "plants = load_plants()\n",
        "dcs = load_dcs()\n",
        "dealers = load_dealers()\n",
        "\n",
        "dcs_to_dealers = dc_to_dealer_distances(dcs, dealers)\n",
        "plants_to_dcs = plant_to_dc_distances(plants, dcs)\n",
        "dealer_demands = get_dealer_demands(2021) ## car demand for each dealership\n",
        "dc_annual_cost = calculate_dc_cost()\n",
        "\n",
        "\n",
        "\n",
        "# define sets\n",
        "plants_set = [0] # set S\n",
        "dcs_set = list(dcs[\"ID\"]) # set I\n",
        "dealers_set = list(dealers[\"ID\"]) # set J\n",
        "vehicle_set = [0,1,2,3] # we define 0 to 3, corresponding to Atlas, CrossSport, ID4 and Passat vehicles (set V)\n",
        "facility_type_set = [0, 1] # set P"
      ]
    },
    {
      "cell_type": "code",
      "execution_count": 17,
      "metadata": {
        "colab": {
          "base_uri": "https://localhost:8080/"
        },
        "id": "4EL8nFf56mWX",
        "outputId": "3fba2cd3-fd69-45c2-caed-d1e9e23d7531"
      },
      "outputs": [
        {
          "data": {
            "text/plain": [
              "[0, 1]"
            ]
          },
          "execution_count": 17,
          "metadata": {},
          "output_type": "execute_result"
        }
      ],
      "source": [
        "dcs_set"
      ]
    },
    {
      "cell_type": "code",
      "execution_count": 18,
      "metadata": {
        "id": "01W4QsCQiIOU"
      },
      "outputs": [],
      "source": [
        "# Parameter prep - we change the dataframes to arrays of sorts, which we can use indexes and such in the formulation\n",
        "\n",
        "d_jv = dealer_demands.values\n",
        "# d_jv[1][0]\n",
        "\n",
        "m_ij = dcs_to_dealers.values\n",
        "\n",
        "# dc 1 to dealer 2 should be 1475.6\n",
        "# m_ij[1][2]\n",
        "\n",
        "c_si = plants_to_dcs\n",
        "\n",
        "L_j = 1 # load factor is 1\n",
        "\n",
        "T_1 = fixed_cost_shipment()\n",
        "\n",
        "T_2 = calculate_variable_cost_shipment(\"dummy_value\") # see code comments on why we do this as a temp hack for a preliminary model\n",
        "\n",
        "f_ip = dc_annual_cost\n",
        "\n",
        "C_i = calculate_dc_shipment_capacity()"
      ]
    },
    {
      "cell_type": "code",
      "execution_count": 19,
      "metadata": {
        "colab": {
          "base_uri": "https://localhost:8080/"
        },
        "id": "S6aj5ksVqghN",
        "outputId": "54b67ee0-86aa-47ae-d056-b72da0f271a5"
      },
      "outputs": [
        {
          "data": {
            "text/plain": [
              "array([[32726, 19578,  7569, 11030],\n",
              "       [20980, 12551,  4853,  7071],\n",
              "       [ 2972,  1778,   687,  1002],\n",
              "       [15705,  9395,  3633,  5293]])"
            ]
          },
          "execution_count": 19,
          "metadata": {},
          "output_type": "execute_result"
        }
      ],
      "source": [
        "d_jv"
      ]
    },
    {
      "cell_type": "code",
      "execution_count": 20,
      "metadata": {
        "colab": {
          "base_uri": "https://localhost:8080/"
        },
        "id": "enUp3UXLqiOd",
        "outputId": "994aa38d-12a5-490a-bfa0-9fff160189de"
      },
      "outputs": [
        {
          "data": {
            "text/plain": [
              "array([[2263.45215475, 1158.43616471, 1162.24779847, 1764.01417746],\n",
              "       [2363.26257953, 1445.1652925 , 1475.68606054, 1862.08726494]])"
            ]
          },
          "execution_count": 20,
          "metadata": {},
          "output_type": "execute_result"
        }
      ],
      "source": [
        "m_ij"
      ]
    },
    {
      "cell_type": "code",
      "execution_count": 21,
      "metadata": {
        "colab": {
          "base_uri": "https://localhost:8080/"
        },
        "id": "g82o6YFrqi5e",
        "outputId": "ddf512c5-1fba-4cf8-fd75-3301ed9739d6"
      },
      "outputs": [
        {
          "data": {
            "text/plain": [
              "[1844.0657073866873, 2005.3600623066698]"
            ]
          },
          "execution_count": 21,
          "metadata": {},
          "output_type": "execute_result"
        }
      ],
      "source": [
        "c_si"
      ]
    },
    {
      "cell_type": "code",
      "execution_count": 22,
      "metadata": {
        "colab": {
          "base_uri": "https://localhost:8080/"
        },
        "id": "_WBU0N6Sqk1G",
        "outputId": "81720423-d168-4cd2-8bfa-7c67745da806"
      },
      "outputs": [
        {
          "data": {
            "text/plain": [
              "1"
            ]
          },
          "execution_count": 22,
          "metadata": {},
          "output_type": "execute_result"
        }
      ],
      "source": [
        "L_j"
      ]
    },
    {
      "cell_type": "code",
      "execution_count": 23,
      "metadata": {
        "colab": {
          "base_uri": "https://localhost:8080/"
        },
        "id": "nOzXpf_Xqmqe",
        "outputId": "b21c2923-4a63-469c-f054-7be67c505391"
      },
      "outputs": [
        {
          "data": {
            "text/plain": [
              "186"
            ]
          },
          "execution_count": 23,
          "metadata": {},
          "output_type": "execute_result"
        }
      ],
      "source": [
        "T_1"
      ]
    },
    {
      "cell_type": "code",
      "execution_count": 24,
      "metadata": {
        "colab": {
          "base_uri": "https://localhost:8080/"
        },
        "id": "UR3WtevZqnrm",
        "outputId": "4556e5ac-cd6e-4d62-cbe0-dd303c9293d4"
      },
      "outputs": [
        {
          "data": {
            "text/plain": [
              "0.43"
            ]
          },
          "execution_count": 24,
          "metadata": {},
          "output_type": "execute_result"
        }
      ],
      "source": [
        "T_2"
      ]
    },
    {
      "cell_type": "code",
      "execution_count": 25,
      "metadata": {
        "colab": {
          "base_uri": "https://localhost:8080/"
        },
        "id": "50yIjuV_qow-",
        "outputId": "35957365-380a-4583-fa19-b6dc65fbf640"
      },
      "outputs": [
        {
          "data": {
            "text/plain": [
              "[19560591.129921257, 11922485.01968504]"
            ]
          },
          "execution_count": 25,
          "metadata": {},
          "output_type": "execute_result"
        }
      ],
      "source": [
        "f_ip"
      ]
    },
    {
      "cell_type": "code",
      "execution_count": 26,
      "metadata": {
        "colab": {
          "base_uri": "https://localhost:8080/"
        },
        "id": "TEdXtTmsqlv-",
        "outputId": "bc100059-7fdc-4ada-a7b8-58a4cd145609"
      },
      "outputs": [
        {
          "data": {
            "text/plain": [
              "[71032.0, 42822.0]"
            ]
          },
          "execution_count": 26,
          "metadata": {},
          "output_type": "execute_result"
        }
      ],
      "source": [
        "C_i"
      ]
    },
    {
      "cell_type": "code",
      "execution_count": 27,
      "metadata": {
        "id": "xfCE2qnViG6s"
      },
      "outputs": [
        {
          "name": "stdout",
          "output_type": "stream",
          "text": [
            "Restricted license - for non-production use only - expires 2024-10-28\n"
          ]
        }
      ],
      "source": [
        "m = gp.Model(\"cflp\")\n",
        "\n",
        "# CREATE THE DECISION VARIABLES HERE\n",
        "# : Annual shipment of type v∈V vehicles from source s∈S to DC location i∈I\n",
        "x1_siv = m.addVars(plants_set, dcs_set, vehicle_set, vtype=GRB.INTEGER) #\n",
        "x2_ijv = m.addVars(dcs_set, dealers_set, vehicle_set, vtype=GRB.INTEGER )\n",
        "y_ip = m.addVars(dcs_set, facility_type_set, vtype=GRB.BINARY)"
      ]
    },
    {
      "cell_type": "code",
      "execution_count": 28,
      "metadata": {
        "colab": {
          "base_uri": "https://localhost:8080/"
        },
        "id": "8dzc4BtqrrMt",
        "outputId": "b32b1e27-ef4f-42b5-dffd-fbeddf5b6340"
      },
      "outputs": [
        {
          "data": {
            "text/plain": [
              "{(0, 0, 0): <gurobi.Var *Awaiting Model Update*>,\n",
              " (0, 0, 1): <gurobi.Var *Awaiting Model Update*>,\n",
              " (0, 0, 2): <gurobi.Var *Awaiting Model Update*>,\n",
              " (0, 0, 3): <gurobi.Var *Awaiting Model Update*>,\n",
              " (0, 1, 0): <gurobi.Var *Awaiting Model Update*>,\n",
              " (0, 1, 1): <gurobi.Var *Awaiting Model Update*>,\n",
              " (0, 1, 2): <gurobi.Var *Awaiting Model Update*>,\n",
              " (0, 1, 3): <gurobi.Var *Awaiting Model Update*>}"
            ]
          },
          "execution_count": 28,
          "metadata": {},
          "output_type": "execute_result"
        }
      ],
      "source": [
        "x1_siv"
      ]
    },
    {
      "cell_type": "code",
      "execution_count": 29,
      "metadata": {
        "colab": {
          "base_uri": "https://localhost:8080/"
        },
        "id": "w2Sv7vNcrvkd",
        "outputId": "17de83c6-b705-4bda-826f-85219ad9caf8"
      },
      "outputs": [
        {
          "data": {
            "text/plain": [
              "{(0, 0, 0): <gurobi.Var *Awaiting Model Update*>,\n",
              " (0, 0, 1): <gurobi.Var *Awaiting Model Update*>,\n",
              " (0, 0, 2): <gurobi.Var *Awaiting Model Update*>,\n",
              " (0, 0, 3): <gurobi.Var *Awaiting Model Update*>,\n",
              " (0, 1, 0): <gurobi.Var *Awaiting Model Update*>,\n",
              " (0, 1, 1): <gurobi.Var *Awaiting Model Update*>,\n",
              " (0, 1, 2): <gurobi.Var *Awaiting Model Update*>,\n",
              " (0, 1, 3): <gurobi.Var *Awaiting Model Update*>,\n",
              " (0, 2, 0): <gurobi.Var *Awaiting Model Update*>,\n",
              " (0, 2, 1): <gurobi.Var *Awaiting Model Update*>,\n",
              " (0, 2, 2): <gurobi.Var *Awaiting Model Update*>,\n",
              " (0, 2, 3): <gurobi.Var *Awaiting Model Update*>,\n",
              " (0, 3, 0): <gurobi.Var *Awaiting Model Update*>,\n",
              " (0, 3, 1): <gurobi.Var *Awaiting Model Update*>,\n",
              " (0, 3, 2): <gurobi.Var *Awaiting Model Update*>,\n",
              " (0, 3, 3): <gurobi.Var *Awaiting Model Update*>,\n",
              " (1, 0, 0): <gurobi.Var *Awaiting Model Update*>,\n",
              " (1, 0, 1): <gurobi.Var *Awaiting Model Update*>,\n",
              " (1, 0, 2): <gurobi.Var *Awaiting Model Update*>,\n",
              " (1, 0, 3): <gurobi.Var *Awaiting Model Update*>,\n",
              " (1, 1, 0): <gurobi.Var *Awaiting Model Update*>,\n",
              " (1, 1, 1): <gurobi.Var *Awaiting Model Update*>,\n",
              " (1, 1, 2): <gurobi.Var *Awaiting Model Update*>,\n",
              " (1, 1, 3): <gurobi.Var *Awaiting Model Update*>,\n",
              " (1, 2, 0): <gurobi.Var *Awaiting Model Update*>,\n",
              " (1, 2, 1): <gurobi.Var *Awaiting Model Update*>,\n",
              " (1, 2, 2): <gurobi.Var *Awaiting Model Update*>,\n",
              " (1, 2, 3): <gurobi.Var *Awaiting Model Update*>,\n",
              " (1, 3, 0): <gurobi.Var *Awaiting Model Update*>,\n",
              " (1, 3, 1): <gurobi.Var *Awaiting Model Update*>,\n",
              " (1, 3, 2): <gurobi.Var *Awaiting Model Update*>,\n",
              " (1, 3, 3): <gurobi.Var *Awaiting Model Update*>}"
            ]
          },
          "execution_count": 29,
          "metadata": {},
          "output_type": "execute_result"
        }
      ],
      "source": [
        "x2_ijv"
      ]
    },
    {
      "cell_type": "code",
      "execution_count": 30,
      "metadata": {},
      "outputs": [],
      "source": [
        "r = 60"
      ]
    },
    {
      "cell_type": "code",
      "execution_count": 31,
      "metadata": {
        "colab": {
          "base_uri": "https://localhost:8080/"
        },
        "id": "DV4tYzpty4H6",
        "outputId": "af709746-d11d-4cc8-914f-2520da915c1d"
      },
      "outputs": [
        {
          "data": {
            "text/plain": [
              "{(0, 0): <gurobi.Var *Awaiting Model Update*>,\n",
              " (0, 1): <gurobi.Var *Awaiting Model Update*>,\n",
              " (1, 0): <gurobi.Var *Awaiting Model Update*>,\n",
              " (1, 1): <gurobi.Var *Awaiting Model Update*>}"
            ]
          },
          "execution_count": 31,
          "metadata": {},
          "output_type": "execute_result"
        }
      ],
      "source": [
        "y_ip"
      ]
    },
    {
      "cell_type": "code",
      "execution_count": 32,
      "metadata": {
        "id": "lV5HqbOm6tWn"
      },
      "outputs": [],
      "source": [
        "# TODO: FIX THIS\n",
        "#  m.setObjective(, gp.GRB.MINIMIZE)\n",
        "\n",
        "# obj2_sub1 = sum(x2_ijv[i, j, v] + x1_siv[s, i, v] for v in vehicle_set for j in dealers_set for s in plants_set for i in dcs_set)\n",
        "# obj2 = sum(obj2_sub1 * c_si[i] for s in plants_set for i in dcs_set)\n",
        "\n",
        "# Need to verify them all with Affleck\n",
        "obj1 = sum((x2_ijv[i, j, v]/L_j)*(T_1 + T_1*m_ij[i, j]) for v in vehicle_set for j in dealers_set for i in dcs_set)\n",
        "\n",
        "# Since we only have one plant, c_si should only take in i as an index. We are good.\n",
        "obj2 = sum(sum(x2_ijv[i, j, v] + x1_siv[s, i, v] for v in vehicle_set for j in dealers_set for s in plants_set) * c_si[i] for i in dcs_set)\n",
        "\n",
        "obj3 = sum(x1_siv[s, i, v] for v in vehicle_set for s in plants_set for i in dcs_set)\n",
        "\n",
        "# This works for a small example, but not for a larger example\n",
        "# Can we just do one type of facility?\n",
        "obj4 = sum(f_ip[i]*y_ip[i, p] for p in facility_type_set for i in dcs_set)\n",
        "\n",
        "m.setObjective(obj1 + obj2 + obj3 + obj4, gp.GRB.MINIMIZE)"
      ]
    },
    {
      "cell_type": "code",
      "execution_count": 46,
      "metadata": {
        "colab": {
          "base_uri": "https://localhost:8080/"
        },
        "id": "_1NtQ7dI9qwv",
        "outputId": "10362841-48a1-4e45-90c8-a8b4173b540e"
      },
      "outputs": [
        {
          "ename": "AttributeError",
          "evalue": "module 'gurobipy' has no attribute 'sum'",
          "output_type": "error",
          "traceback": [
            "\u001b[0;31m---------------------------------------------------------------------------\u001b[0m",
            "\u001b[0;31mAttributeError\u001b[0m                            Traceback (most recent call last)",
            "Cell \u001b[0;32mIn[46], line 22\u001b[0m\n\u001b[1;32m     16\u001b[0m m\u001b[39m.\u001b[39maddConstrs(\n\u001b[1;32m     17\u001b[0m     (C_i[i] \u001b[39m*\u001b[39m y_ip[i, \u001b[39m1\u001b[39m] \u001b[39m<\u001b[39m\u001b[39m=\u001b[39m \u001b[39msum\u001b[39m(x2_ijv[i, j, v] \u001b[39mfor\u001b[39;00m v \u001b[39min\u001b[39;00m vehicle_set \u001b[39mfor\u001b[39;00m j \u001b[39min\u001b[39;00m dealers_set) \u001b[39mfor\u001b[39;00m i \u001b[39min\u001b[39;00m dcs_set),\n\u001b[1;32m     18\u001b[0m     name\u001b[39m=\u001b[39m\u001b[39m\"\u001b[39m\u001b[39mconstraint_3_min\u001b[39m\u001b[39m\"\u001b[39m\n\u001b[1;32m     19\u001b[0m )\n\u001b[1;32m     21\u001b[0m \u001b[39m# Constraint 3: Total vehicle flow to each DC must satisfy the maximum capacity requirement\u001b[39;00m\n\u001b[0;32m---> 22\u001b[0m m\u001b[39m.\u001b[39;49maddConstrs(\n\u001b[1;32m     23\u001b[0m     (gp\u001b[39m.\u001b[39;49msum(x2_ijv[i, j, v] \u001b[39mfor\u001b[39;49;00m v \u001b[39min\u001b[39;49;00m vehicle_set \u001b[39mfor\u001b[39;49;00m j \u001b[39min\u001b[39;49;00m dealers_set) \u001b[39m<\u001b[39;49m\u001b[39m=\u001b[39;49m C_i[i] \u001b[39m*\u001b[39;49m y_ip[i, \u001b[39m0\u001b[39;49m] \u001b[39m+\u001b[39;49m \u001b[39msum\u001b[39;49m(d_jv[j, v] \u001b[39mfor\u001b[39;49;00m v \u001b[39min\u001b[39;49;00m vehicle_set \u001b[39mfor\u001b[39;49;00m j \u001b[39min\u001b[39;49;00m dealers_set) \u001b[39m*\u001b[39;49m y_ip[i, \u001b[39m1\u001b[39;49m] \u001b[39mfor\u001b[39;49;00m i \u001b[39min\u001b[39;49;00m dcs_set),\n\u001b[1;32m     24\u001b[0m     name\u001b[39m=\u001b[39;49m\u001b[39m\"\u001b[39;49m\u001b[39mconstraint_3_max\u001b[39;49m\u001b[39m\"\u001b[39;49m\n\u001b[1;32m     25\u001b[0m )\n\u001b[1;32m     27\u001b[0m \u001b[39m# Constraint 4: Shipment quantities must be nonnegative\u001b[39;00m\n\u001b[1;32m     28\u001b[0m m\u001b[39m.\u001b[39maddConstrs(x1_siv[s, i, v] \u001b[39m>\u001b[39m\u001b[39m=\u001b[39m \u001b[39m0\u001b[39m \u001b[39mfor\u001b[39;00m s \u001b[39min\u001b[39;00m plants_set \u001b[39mfor\u001b[39;00m v \u001b[39min\u001b[39;00m vehicle_set \u001b[39mfor\u001b[39;00m i \u001b[39min\u001b[39;00m dcs_set)\n",
            "File \u001b[0;32msrc/gurobipy/model.pxi:3758\u001b[0m, in \u001b[0;36mgurobipy.Model.addConstrs\u001b[0;34m()\u001b[0m\n",
            "Cell \u001b[0;32mIn[46], line 23\u001b[0m, in \u001b[0;36m<genexpr>\u001b[0;34m(.0)\u001b[0m\n\u001b[1;32m     16\u001b[0m m\u001b[39m.\u001b[39maddConstrs(\n\u001b[1;32m     17\u001b[0m     (C_i[i] \u001b[39m*\u001b[39m y_ip[i, \u001b[39m1\u001b[39m] \u001b[39m<\u001b[39m\u001b[39m=\u001b[39m \u001b[39msum\u001b[39m(x2_ijv[i, j, v] \u001b[39mfor\u001b[39;00m v \u001b[39min\u001b[39;00m vehicle_set \u001b[39mfor\u001b[39;00m j \u001b[39min\u001b[39;00m dealers_set) \u001b[39mfor\u001b[39;00m i \u001b[39min\u001b[39;00m dcs_set),\n\u001b[1;32m     18\u001b[0m     name\u001b[39m=\u001b[39m\u001b[39m\"\u001b[39m\u001b[39mconstraint_3_min\u001b[39m\u001b[39m\"\u001b[39m\n\u001b[1;32m     19\u001b[0m )\n\u001b[1;32m     21\u001b[0m \u001b[39m# Constraint 3: Total vehicle flow to each DC must satisfy the maximum capacity requirement\u001b[39;00m\n\u001b[1;32m     22\u001b[0m m\u001b[39m.\u001b[39maddConstrs(\n\u001b[0;32m---> 23\u001b[0m     (gp\u001b[39m.\u001b[39;49msum(x2_ijv[i, j, v] \u001b[39mfor\u001b[39;00m v \u001b[39min\u001b[39;00m vehicle_set \u001b[39mfor\u001b[39;00m j \u001b[39min\u001b[39;00m dealers_set) \u001b[39m<\u001b[39m\u001b[39m=\u001b[39m C_i[i] \u001b[39m*\u001b[39m y_ip[i, \u001b[39m0\u001b[39m] \u001b[39m+\u001b[39m \u001b[39msum\u001b[39m(d_jv[j, v] \u001b[39mfor\u001b[39;00m v \u001b[39min\u001b[39;00m vehicle_set \u001b[39mfor\u001b[39;00m j \u001b[39min\u001b[39;00m dealers_set) \u001b[39m*\u001b[39m y_ip[i, \u001b[39m1\u001b[39m] \u001b[39mfor\u001b[39;00m i \u001b[39min\u001b[39;00m dcs_set),\n\u001b[1;32m     24\u001b[0m     name\u001b[39m=\u001b[39m\u001b[39m\"\u001b[39m\u001b[39mconstraint_3_max\u001b[39m\u001b[39m\"\u001b[39m\n\u001b[1;32m     25\u001b[0m )\n\u001b[1;32m     27\u001b[0m \u001b[39m# Constraint 4: Shipment quantities must be nonnegative\u001b[39;00m\n\u001b[1;32m     28\u001b[0m m\u001b[39m.\u001b[39maddConstrs(x1_siv[s, i, v] \u001b[39m>\u001b[39m\u001b[39m=\u001b[39m \u001b[39m0\u001b[39m \u001b[39mfor\u001b[39;00m s \u001b[39min\u001b[39;00m plants_set \u001b[39mfor\u001b[39;00m v \u001b[39min\u001b[39;00m vehicle_set \u001b[39mfor\u001b[39;00m i \u001b[39min\u001b[39;00m dcs_set)\n",
            "\u001b[0;31mAttributeError\u001b[0m: module 'gurobipy' has no attribute 'sum'"
          ]
        }
      ],
      "source": [
        "# Constraints:\n",
        "\n",
        "# Constraint 1: Demand at each market area for each vehicle type must be met\n",
        "m.addConstrs(sum(x2_ijv[i, j, v] for i in dcs_set) == d_jv[j, v] for v in vehicle_set for j in dealers_set)\n",
        "\n",
        "# Constraint 2: Vehicle flows between plants and DCs must be conserved\n",
        "# Ask Affleck about summing over i twice\n",
        "m.addConstrs(sum(x1_siv[s, i, v] for s in plants_set) == sum(x2_ijv[i, j, v] for i in dcs_set) for i in dcs_set for v in vehicle_set for j in dealers_set)\n",
        "\n",
        "# Constraint 3: Check with Affleck\n",
        "# Total vehicle flow to each DC must satisfy the minimum and maximum capacity requirements of the type of facility installed.\n",
        "# Also, if there is no DC installed at a location, there is no shipment to that location.\n",
        "#m.addConstrs(C_i[i]*y_ip[2] <= sum(x2_ijv[i, j, v] for v in vehicle_set for j in dealers_set) <= C_i[i]*y_ip[1] + sum(d_jv[j, v] for v in vehicle_set for j in dealers_set) * y_ip[2] for i in dcs_set)\n",
        "\n",
        "# Constraint 3: Total vehicle flow to each DC must satisfy the minimum capacity requirement\n",
        "m.addConstrs(\n",
        "    (C_i[i] * y_ip[i, 1] <= sum(x2_ijv[i, j, v] for v in vehicle_set for j in dealers_set) for i in dcs_set),\n",
        "    name=\"constraint_3_min\"\n",
        ")\n",
        "\n",
        "# Constraint 3: Total vehicle flow to each DC must satisfy the maximum capacity requirement\n",
        "m.addConstrs(\n",
        "    (sum(x2_ijv[i, j, v] for v in vehicle_set for j in dealers_set) <= C_i[i] * y_ip[i, 0] + sum(d_jv[j, v] for v in vehicle_set for j in dealers_set) * y_ip[i, 1] for i in dcs_set),\n",
        "    name=\"constraint_3_max\"\n",
        ")\n",
        "\n",
        "# Constraint 4: Shipment quantities must be nonnegative\n",
        "m.addConstrs(x1_siv[s, i, v] >= 0 for s in plants_set for v in vehicle_set for i in dcs_set)\n",
        "m.addConstrs(x2_ijv[i, j, v] >= 0 for i in dcs_set for v in vehicle_set for j in dealers_set)\n",
        "\n",
        "# Constraint 6: Ask Affleck\n",
        "m.addConstrs((sum(x2_ijv[i, j, v] for v in vehicle_set) == 0 for i in dcs_set for j in dealers_set if m_ij[i][j] / 300 > r)\n",
        ")"
      ]
    },
    {
      "cell_type": "code",
      "execution_count": 45,
      "metadata": {
        "colab": {
          "base_uri": "https://localhost:8080/"
        },
        "id": "cq9ZIapQCOAq",
        "outputId": "f29fa1db-9eb3-4d66-a0c5-51760b668ca4"
      },
      "outputs": [
        {
          "name": "stdout",
          "output_type": "stream",
          "text": [
            "Gurobi Optimizer version 10.0.2 build v10.0.2rc0 (mac64[arm])\n",
            "\n",
            "CPU model: Apple M1\n",
            "Thread count: 8 physical cores, 8 logical processors, using up to 8 threads\n",
            "\n",
            "Optimize a model with 884 rows, 44 columns and 2358 nonzeros\n",
            "Model fingerprint: 0x8f4fe4e9\n",
            "Variable types: 0 continuous, 44 integer (4 binary)\n",
            "Coefficient statistics:\n",
            "  Matrix range     [1e+00, 2e+05]\n",
            "  Objective range  [7e+03, 2e+07]\n",
            "  Bounds range     [1e+00, 1e+00]\n",
            "  RHS range        [7e+02, 3e+04]\n",
            "Presolve removed 320 rows and 0 columns\n",
            "Presolve time: 0.00s\n",
            "\n",
            "Explored 0 nodes (0 simplex iterations) in 0.01 seconds (0.00 work units)\n",
            "Thread count was 1 (of 8 available processors)\n",
            "\n",
            "Solution count 0\n",
            "\n",
            "Model is infeasible\n",
            "Best objective -, best bound -, gap -\n"
          ]
        }
      ],
      "source": [
        "m.optimize()\n",
        "# m.write(\"out.sol\")"
      ]
    },
    {
      "cell_type": "code",
      "execution_count": null,
      "metadata": {
        "colab": {
          "base_uri": "https://localhost:8080/",
          "height": 277
        },
        "id": "fzRd3wZFeo-c",
        "outputId": "3d09dfe4-f18f-4f7c-d46e-8bd640a902d7"
      },
      "outputs": [
        {
          "ename": "TypeError",
          "evalue": "ignored",
          "output_type": "error",
          "traceback": [
            "\u001b[0;31m---------------------------------------------------------------------------\u001b[0m",
            "\u001b[0;31mTypeError\u001b[0m                                 Traceback (most recent call last)",
            "\u001b[0;32m<ipython-input-74-030d183bf845>\u001b[0m in \u001b[0;36m<cell line: 12>\u001b[0;34m()\u001b[0m\n\u001b[1;32m     15\u001b[0m \u001b[0;34m\u001b[0m\u001b[0m\n\u001b[1;32m     16\u001b[0m     \u001b[0;32mfor\u001b[0m \u001b[0mi\u001b[0m \u001b[0;32min\u001b[0m \u001b[0mdcs_set\u001b[0m\u001b[0;34m:\u001b[0m\u001b[0;34m\u001b[0m\u001b[0;34m\u001b[0m\u001b[0m\n\u001b[0;32m---> 17\u001b[0;31m       \u001b[0msum_of_i\u001b[0m \u001b[0;34m=\u001b[0m \u001b[0mgp\u001b[0m\u001b[0;34m.\u001b[0m\u001b[0mquicksum\u001b[0m\u001b[0;34m(\u001b[0m\u001b[0mx2_ijv\u001b[0m\u001b[0;34m[\u001b[0m\u001b[0mi\u001b[0m\u001b[0;34m,\u001b[0m\u001b[0mj\u001b[0m\u001b[0;34m,\u001b[0m\u001b[0mv\u001b[0m\u001b[0;34m]\u001b[0m\u001b[0;34m)\u001b[0m\u001b[0;34m\u001b[0m\u001b[0;34m\u001b[0m\u001b[0m\n\u001b[0m\u001b[1;32m     18\u001b[0m \u001b[0;34m\u001b[0m\u001b[0m\n\u001b[1;32m     19\u001b[0m       \u001b[0mm\u001b[0m\u001b[0;34m.\u001b[0m\u001b[0maddConstrs\u001b[0m\u001b[0;34m(\u001b[0m\u001b[0msum_of_i\u001b[0m \u001b[0;34m=\u001b[0m \u001b[0md_jv\u001b[0m\u001b[0;34m[\u001b[0m\u001b[0mj\u001b[0m\u001b[0;34m]\u001b[0m\u001b[0;34m[\u001b[0m\u001b[0mv\u001b[0m\u001b[0;34m]\u001b[0m\u001b[0;34m)\u001b[0m\u001b[0;34m\u001b[0m\u001b[0;34m\u001b[0m\u001b[0m\n",
            "\u001b[0;32msrc/gurobipy/gurobi.pxi\u001b[0m in \u001b[0;36mgurobipy.quicksum\u001b[0;34m()\u001b[0m\n",
            "\u001b[0;31mTypeError\u001b[0m: 'Var' object is not iterable"
          ]
        }
      ],
      "source": [
        "\n",
        "# CONSTRAINTS HERE:\n",
        "\n",
        "# Demand at each market area for each vehicle type must be met\n",
        "\n",
        "# for v in vehicle_set:\n",
        "#   print (v)\n",
        "\n",
        "\n",
        "# for all j and v\n",
        "# x2_jiv[(j, v)] for j in dealers_set) == 1 for\n",
        "\n",
        "for v in vehicle_set:\n",
        "  for j in dealers_set:\n",
        "\n",
        "\n",
        "    for i in dcs_set:\n",
        "      sum_of_i = sum(x2_ijv[i,j,v])\n",
        "\n",
        "      m.addConstrs(sum_of_i = d_jv[j][v])\n",
        "\n",
        "\n",
        "\n",
        "\n",
        "# gp.quicksum(x2_ijv[(j,v)]) for i in dcs_set == d_jv[j][v] for j in dealers_set\n"
      ]
    },
    {
      "cell_type": "code",
      "execution_count": null,
      "metadata": {
        "id": "mFUKkBcrlWR-"
      },
      "outputs": [],
      "source": [
        "# Also, if there is no DC installed at a location, there is no shipment to that location"
      ]
    },
    {
      "cell_type": "code",
      "execution_count": null,
      "metadata": {
        "id": "nhVgj6XElV82"
      },
      "outputs": [],
      "source": [
        "# The distribution centers must be selected so that all market areas can be reached within r days. Suppose a truck travels on average 300 miles a day."
      ]
    }
  ],
  "metadata": {
    "colab": {
      "collapsed_sections": [
        "9yIcWTgTmsGf"
      ],
      "provenance": []
    },
    "kernelspec": {
      "display_name": "Python 3",
      "name": "python3"
    },
    "language_info": {
      "codemirror_mode": {
        "name": "ipython",
        "version": 3
      },
      "file_extension": ".py",
      "mimetype": "text/x-python",
      "name": "python",
      "nbconvert_exporter": "python",
      "pygments_lexer": "ipython3",
      "version": "3.10.1"
    }
  },
  "nbformat": 4,
  "nbformat_minor": 0
}
