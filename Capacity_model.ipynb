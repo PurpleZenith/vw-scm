{
 "cells": [
  {
   "cell_type": "markdown",
   "metadata": {},
   "source": [
    "# MSCI 434 MIP Extended Model with Holding Costs (Team 7)"
   ]
  },
  {
   "cell_type": "code",
   "execution_count": null,
   "metadata": {},
   "outputs": [],
   "source": [
    "import warnings\n",
    "warnings.simplefilter(action='ignore', category=FutureWarning)\n",
    "\n",
    "import pandas as pd\n",
    "import networkx as nx\n",
    "from geopy.distance import geodesic\n",
    "import numpy\n",
    "import time\n",
    "\n",
    "small_path = \"./main_data/small_data/\"\n",
    "main_path = \"./main_data/\"\n",
    "result_path = \"./results/\""
   ]
  },
  {
   "cell_type": "markdown",
   "metadata": {},
   "source": [
    "**Load Data**"
   ]
  },
  {
   "cell_type": "code",
   "execution_count": null,
   "metadata": {},
   "outputs": [],
   "source": [
    "# Function -------------------------------------------------------------\n",
    "def load_total_demand():\n",
    "\n",
    "    yearly_sales = pd.read_csv(f'{main_path}vw_yearly_sales.csv')\n",
    "    return yearly_sales\n",
    "\n",
    "\n",
    "# Function -------------------------------------------------------------\n",
    "def load_dcs(small = False):\n",
    "  \n",
    "    # NOTE: stateconst is a constant used to account for the different prices for the cost of living and rent in various states\n",
    "    if small:\n",
    "        dcs = pd.read_csv(f'{small_path}small_list_of_dcs.csv', encoding= 'unicode_escape', names=['ID', \"Name\",\"City\",\"State\",\"Address Line 1\",\"Address Line 2\", \"Coordinates\", \"Area m3\", \"Facility Type\", \"StateConst\"])\n",
    "    else:\n",
    "        dcs = pd.read_csv(f'{main_path}list_of_dcs.csv', encoding= 'unicode_escape', names=['ID', \"Name\",\"City\",\"State\",\"Address Line 1\",\"Address Line 2\", \"Coordinates\", \"Area m3\", \"Facility Type\", \"StateConst\"])\n",
    "\n",
    "    dcs['Area sqft'] = round(dcs['Area m3'] * 10.7639)\n",
    "    return dcs\n",
    "\n",
    "\n",
    "# Function -------------------------------------------------------------\n",
    "def load_dealers(small = False):\n",
    "  # https://www.vw.com/app/dccsearch/vw-us/en/Find%20a%20Volkswagen%20Dealer/+/38.353354499999995/-95.3817145/3/+/+/+/+\n",
    "\n",
    "    if small:\n",
    "        dealers = pd.read_csv(f'{small_path}small_list_of_dealers.csv',names=['ID', \"Name\",\"Address Line 1\",\"Address Line 2\", \"Website\",\"Phone Number\", \"Coordinates\"])\n",
    "    else:\n",
    "        # FULL DATASET\n",
    "        dealers= pd.read_csv(f'{main_path}list_of_dealers.csv',names=['ID', \"Name\",\"Address Line 1\",\"Address Line 2\", \"Website\",\"Phone Number\", \"Coordinates\"])\n",
    "    \n",
    "    return dealers\n",
    "\n",
    "# Function -------------------------------------------------------------\n",
    "def load_plants():\n",
    "    \n",
    "    plants= pd.read_csv(f'{main_path}list_of_vw_plants_and_products.csv', encoding= 'unicode_escape',names=['ID', \"City\",\"Country\", \"Model\",\"Coordinates\",\"Current/Former plant\"])\n",
    "    plants_usa = plants.loc[plants[\"Country\"]==\"USA\"]\n",
    "\n",
    "    return plants_usa\n",
    "\n",
    "\n",
    "# Function -------------------------------------------------------------\n",
    "def load_dealer_demands():\n",
    "\n",
    "    def single_sample():\n",
    "        # 4 samples\n",
    "        dealers= pd.read_csv(f'{small_path}small_list_of_demand_data.csv',names=['ID',\"Name\",\"Rating\",\"Proportion\",\"na\"])\n",
    "        del dealers[dealers.columns[-1]]\n",
    "        return dealers\n",
    "\n",
    "    def full_data():\n",
    "        # FULL DATASET\n",
    "        dealers= pd.read_csv(f'{main_path}list_of_demand_data.csv',names=['ID',\"Name\",\"Rating\",\"Proportion\",\"na\", \"na2\", \"na3\"])\n",
    "        del dealers[dealers.columns[-1]]\n",
    "        del dealers[dealers.columns[-1]]\n",
    "        del dealers[dealers.columns[-1]]\n",
    "        return dealers\n",
    "\n",
    "    # either call single_sample or full_data\n",
    "    dealers = full_data() \n",
    "\n",
    "    return dealers"
   ]
  },
  {
   "cell_type": "code",
   "execution_count": null,
   "metadata": {},
   "outputs": [],
   "source": [
    "# Get all plants, DCs, and Dealers\n",
    "plants = load_plants()\n",
    "dcs = load_dcs()\n",
    "dealers = load_dealers()"
   ]
  },
  {
   "cell_type": "code",
   "execution_count": null,
   "metadata": {},
   "outputs": [],
   "source": [
    "dcs"
   ]
  },
  {
   "cell_type": "markdown",
   "metadata": {},
   "source": [
    "**Location Work**"
   ]
  },
  {
   "cell_type": "code",
   "execution_count": null,
   "metadata": {},
   "outputs": [],
   "source": [
    "# NOTE: Distances are in miles (mi).\n",
    "# NOTE: All areas are in square-feet (sqft)\n",
    "\n",
    "# Function -------------------------------------------------------------\n",
    "def dc_to_dealer_distances(dcs, dealers): \n",
    "    \n",
    "    # using geodesic distance, may want to add 15% or something onto distance\n",
    "    distance_dc_to_dealer = numpy.zeros((len(dcs), len(dealers)))\n",
    "\n",
    "    for dc_id, dc in dcs.iterrows():\n",
    "\n",
    "      for dealer_id, dealer in dealers.iterrows():\n",
    "\n",
    "        point1, point2 = dc[\"Coordinates\"].split(\",\"), dealer[\"Coordinates\"].split(\",\")\n",
    "        distance = geodesic(point1, point2).miles\n",
    "        dc_id = dc[\"ID\"]\n",
    "        dealer_id = dealer[\"ID\"]\n",
    "        distance_dc_to_dealer[dc_id][dealer_id] = distance\n",
    "\n",
    "    distance_dc_to_dealer_df = pd.DataFrame(distance_dc_to_dealer)\n",
    "    \n",
    "    return distance_dc_to_dealer_df\n",
    "\n",
    "\n",
    "# Function -------------------------------------------------------------\n",
    "def plant_to_dc_distances(plants, dcs):\n",
    "  \n",
    "  # get coordinates of the 1 usa plant\n",
    "  plant_coordinates = plants['Coordinates'].iloc[0].split(\",\")\n",
    "  distance_plants_to_dcs = [] # since we only have 1 usa plant we can just make everything from there (very convenient)\n",
    "  \n",
    "  for dcs_id, dc in dcs.iterrows():\n",
    "\n",
    "    point1 = plant_coordinates\n",
    "    point2 = dc[\"Coordinates\"].split(\",\")\n",
    "    distance = geodesic(point1, point2).miles\n",
    "    dc_id = dc[\"ID\"]\n",
    "    distance_plants_to_dcs.append(distance)\n",
    "  \n",
    "  return distance_plants_to_dcs\n",
    "\n",
    "# Get distances from plant-to-DC and DC-to-dealer\n",
    "dcs_to_dealers = dc_to_dealer_distances(dcs, dealers)\n",
    "plants_to_dcs = plant_to_dc_distances(plants, dcs)"
   ]
  },
  {
   "cell_type": "markdown",
   "metadata": {},
   "source": [
    "**Calculate Demand**"
   ]
  },
  {
   "cell_type": "code",
   "execution_count": null,
   "metadata": {},
   "outputs": [],
   "source": [
    "# Function -------------------------------------------------------------\n",
    "def get_dealer_demands(year):\n",
    "  \n",
    "  dealer_demands = load_dealer_demands()\n",
    "  # demand for each specific car type\n",
    "  total_demands = load_total_demand() \n",
    "\n",
    "  def get_demands(year):\n",
    "    year_demands = total_demands.loc[total_demands['year'] == year]\n",
    "    year_demands = year_demands[[\"Atlas\",\"Cross Sport\",\"ID4\",\"Passat\"]]\n",
    "    return year_demands\n",
    "\n",
    "  year_demands = get_demands(2021)\n",
    "  year_demands = year_demands.values.tolist()[0]\n",
    "\n",
    "  proportion_sum = dealer_demands[\"Proportion\"].sum()\n",
    "\n",
    "  dealer_demands [[\"Ratio of sales\"]] = None\n",
    "  dealer_demands[\"Ratio of sales\"] = dealer_demands[\"Proportion\"]/proportion_sum\n",
    "\n",
    "  temp = []\n",
    "\n",
    "  for x in list(dealer_demands[\"Ratio of sales\"]):\n",
    "\n",
    "    temp1=[]\n",
    "\n",
    "    for y in list(year_demands):\n",
    "      \n",
    "      temp1.append(round(x*y))\n",
    "\n",
    "    temp.append(temp1)\n",
    "\n",
    "  sales = pd.DataFrame(temp, columns=[\"Atlas\",\"Cross Sport\",\"ID4\",\"Passat\"])\n",
    "  \n",
    "  return sales"
   ]
  },
  {
   "cell_type": "markdown",
   "metadata": {},
   "source": [
    "**Calculating Costs**"
   ]
  },
  {
   "cell_type": "code",
   "execution_count": null,
   "metadata": {},
   "outputs": [],
   "source": [
    "# Function -------------------------------------------------------------\n",
    "def calculate_dc_cost():\n",
    "    \n",
    "    # Function -------------------------------------------------------------\n",
    "    def calculate_dc_cost_monthly(id, state, facility_type, areasqft):\n",
    "        \n",
    "        #2$ baseline\n",
    "        # cost = 1.5*areasqft \n",
    "\n",
    "        # https://glcdistribution.com/customer-resources/tools/warehousing-insurance-calculator/ 1 million dollar standard\n",
    "        insurance = 3850 \n",
    "\n",
    "        # https://www.payscale.com/research/CA/Job=Warehouse_Material_Handler/Hourly_Rate\n",
    "        employee_salaries = (areasqft/5000)*20*(40*4) \n",
    "\n",
    "        # pay 0.25 cents per sqft for utility\n",
    "        utilities = 0.25*areasqft\n",
    "\n",
    "        # $600 – $950 per month to lease a $50,000 forklift.\n",
    "        # https://discord.com/channels/260272353118912522/1093655130076893284/1129635416409133076 1 forklift services 5000 sqft\n",
    "        # We want to overwork it.\n",
    "        forklift_cost =  areasqft/10000  * 600\n",
    "\n",
    "        # https://discord.com/channels/260272353118912522/1093655130076893284/1129639090942398504\n",
    "        price_it_costs_to_build_warehouse_sqft = 100*areasqft\n",
    "        property_tax = 6/1000*price_it_costs_to_build_warehouse_sqft\n",
    "\n",
    "        # 1000 fixed cost monitoring + 20$/h * 40h/week * 28 people\n",
    "        security = 1000 + (5 * 8 * 28*20) \n",
    "\n",
    "        # Assuming Facility 1 has much lower space and so should be priced lower.\n",
    "        if facility_type == 1:\n",
    "            ft = 0.10\n",
    "        else:\n",
    "            ft = 0.5\n",
    "\n",
    "        # 508 is the price of 100 big macs and state is the price of 100 big macs in that state\n",
    "        price = (insurance + employee_salaries + utilities + forklift_cost + security + property_tax)*((state*0.1)/508)*ft\n",
    "        \n",
    "        return price\n",
    "\n",
    "    prices = []\n",
    "\n",
    "    for i in range(len(dcs.index)):\n",
    "        moneys = calculate_dc_cost_monthly(float(dcs.loc[i,[\"ID\"]]), float(dcs.loc[i,[\"StateConst\"]]), float(dcs.loc[i,[\"Facility Type\"]]),float(dcs.loc[i,[\"Area sqft\"]]))\n",
    "        prices.append(round(moneys*12, 2))\n",
    "    \n",
    "    return prices\n",
    "\n",
    "# Function -------------------------------------------------------------\n",
    "def calculate_dc_shipment_capacity(capacity = False):\n",
    "  \n",
    "  # This is: C_i\n",
    "  # The largest car to consider is the Cross Sport\n",
    "  # It has dimensions: 4,966 mm L x 1,990 mm W x 1,723 mm H\n",
    "  # we can round this up to: 17 ft length, 7 foot wide, 6 foot tall\n",
    "  # add about 2 ft to everything as a buffer\n",
    "  # new measurement is about 18 ft length, 8ft wide, 8 foot tall\n",
    "  # so, we can predict that 2 car takes up 144/2, each car takes 72 sq foot\n",
    "\n",
    "  # from https://discord.com/channels/260272353118912522/1093655130076893284/1131271495004459018,\n",
    "  # we see that 60-80% of DCs are for storage. Let's assume 60%\n",
    "  vehicle_capacity = dcs[\"Area sqft\"]*0.6 / 72\n",
    "\n",
    "  # from https://discord.com/channels/260272353118912522/1093655130076893284/1131266537869820075\n",
    "  # we see that most vehicles stay in the dc a couple of weeks (take 2 weeks)\n",
    "  # we can frame this as: All vehicles in the DCS arrive at time 0, and after 2 months all are released\n",
    "  annual_throughput = round(vehicle_capacity*6, 0)\n",
    "\n",
    "  if capacity:\n",
    "    return list(vehicle_capacity)\n",
    "  else:\n",
    "    return (list(annual_throughput))\n",
    "  \n",
    "\n",
    "# 5000\n",
    "\n",
    "\n",
    "# Function -------------------------------------------------------------\n",
    "def calculate_hold_costs():\n",
    "    # We will assume the holding costs are the total number of vehicles in the warehouse divided\n",
    "    # by the total costs of the warehouse.\n",
    "    # This will be multiplied by a cost factor to account for large costs with lower capacities.\n",
    "    dc_cost = calculate_dc_cost()\n",
    "    total_vehicles = calculate_dc_shipment_capacity(True)\n",
    "    dc_type = dcs[[\"Facility Type\"]].to_numpy()\n",
    "\n",
    "    holding_costs = []\n",
    "\n",
    "    for i in range(0, len(dcs.index)):\n",
    "\n",
    "        if dc_type[i,] == 1:\n",
    "            holding = round(total_vehicles[i]/dc_cost[i]*10000, 2)\n",
    "        else:\n",
    "            holding = round(total_vehicles[i]/dc_cost[i]*50000, 2)\n",
    "\n",
    "        holding_costs.append(holding)\n",
    "\n",
    "    return holding_costs"
   ]
  },
  {
   "cell_type": "code",
   "execution_count": null,
   "metadata": {},
   "outputs": [],
   "source": [
    "calculate_dc_shipment_capacity()"
   ]
  },
  {
   "cell_type": "code",
   "execution_count": null,
   "metadata": {},
   "outputs": [],
   "source": [
    "calculate_dc_cost()"
   ]
  },
  {
   "cell_type": "code",
   "execution_count": null,
   "metadata": {},
   "outputs": [],
   "source": [
    "calculate_hold_costs()"
   ]
  },
  {
   "cell_type": "markdown",
   "metadata": {},
   "source": [
    "**Determining the Cost of Transportation**"
   ]
  },
  {
   "cell_type": "code",
   "execution_count": null,
   "metadata": {},
   "outputs": [],
   "source": [
    "## THE FUNCTION OF SHIPPING TRUCKS CAN BE APPROXIMATED BY A PIECEWISE FUNCTION\n",
    "# https://www.desmos.com/calculator/ipxbog2uyr\n",
    "# constructed from the data here: https://www.marketwatch.com/guides/car-shipping/truck-shipping/#:~:text=According%20to%20quotes%20we%20received,when%20using%20an%20enclosed%20carrier.\n",
    "\n",
    "# Function -------------------------------------------------------------\n",
    "def fixed_cost_shipment(): \n",
    "  # This is: T_1\n",
    "  # cost to drive 0 miles\n",
    "  return 186 \n",
    "\n",
    "\n",
    "# Function -------------------------------------------------------------\n",
    "def calculate_variable_cost_shipment(mileage): \n",
    "  # This is: T_2\n",
    "  # if mileage < 1135:\n",
    "  #   return mileage * (551/535)\n",
    "  # return mileage * (0.43)\n",
    "  return (0.43)\n",
    "\n",
    "  # TODO: WE ARE ASSUMING FOR SIMPLICYT SAKE 0.43$/MILE AND ARE NOT CONSIDERING THE OTHER FUNCTION FOR MODELLING RIGHT NOW"
   ]
  },
  {
   "cell_type": "markdown",
   "metadata": {},
   "source": [
    "**DC Inventory Carrying Costs**"
   ]
  },
  {
   "cell_type": "markdown",
   "metadata": {},
   "source": [
    "**Time of Model Building**"
   ]
  },
  {
   "cell_type": "code",
   "execution_count": null,
   "metadata": {},
   "outputs": [],
   "source": [
    "## The modelling?\n",
    "import gurobipy as gp\n",
    "from gurobipy import GRB\n",
    "\n",
    "# Create environment with WLS license\n",
    "e = gp.Env(empty=True)\n",
    "e.setParam('WLSACCESSID', '47fa1c45-5377-4f93-87d4-3da7da2b6955')\n",
    "e.setParam('WLSSECRET', '7dfbddcb-7333-4ec7-927d-b459cffd9565')\n",
    "e.setParam('LICENSEID', 868415)\n",
    "e.start()"
   ]
  },
  {
   "cell_type": "markdown",
   "metadata": {},
   "source": [
    "**Define Model Sets**"
   ]
  },
  {
   "cell_type": "code",
   "execution_count": null,
   "metadata": {},
   "outputs": [],
   "source": [
    "# Get all distances, demands, and costs\n",
    "dcs_to_dealers = dc_to_dealer_distances(dcs, dealers)\n",
    "plants_to_dcs = plant_to_dc_distances(plants, dcs)\n",
    "dealer_demands = get_dealer_demands(2021) ## car demand for each dealership\n",
    "dc_annual_cost = calculate_dc_cost()"
   ]
  },
  {
   "cell_type": "markdown",
   "metadata": {},
   "source": [
    "**Define Parameters**"
   ]
  },
  {
   "cell_type": "code",
   "execution_count": null,
   "metadata": {},
   "outputs": [],
   "source": [
    "# define sets\n",
    "# set S\n",
    "plants_set = [0]\n",
    "# set I\n",
    "dcs_set = list(dcs[\"ID\"])\n",
    "# set J\n",
    "dealers_set = list(dealers[\"ID\"])\n",
    "# we define 0 to 3, corresponding to Atlas, CrossSport, ID4 and Passat vehicles (set V)\n",
    "vehicle_set = [0,1,2,3]\n",
    "# set P\n",
    "facility_type_set = [0, 1]"
   ]
  },
  {
   "cell_type": "code",
   "execution_count": null,
   "metadata": {},
   "outputs": [],
   "source": [
    "# Parameter prep - we change the dataframes to arrays of sorts, which we can use indexes and such in the formulation\n",
    "d_jv = dealer_demands.values\n",
    "m_ij = dcs_to_dealers.values\n",
    "c_si = plants_to_dcs\n",
    "# load factor is 1\n",
    "L_j = 1 \n",
    "T_1 = fixed_cost_shipment()\n",
    "T_2 = calculate_variable_cost_shipment(\"dummy_value\") # see code comments on why we do this as a temp hack for a preliminary model\n",
    "f_ip = dc_annual_cost\n",
    "C_i = calculate_dc_shipment_capacity()"
   ]
  },
  {
   "cell_type": "code",
   "execution_count": null,
   "metadata": {},
   "outputs": [],
   "source": [
    "# Create Model\n",
    "m = gp.Model(env=e)\n",
    "start_time = time.time()\n",
    "\n",
    "# CREATE THE DECISION VARIABLES HERE\n",
    "x1_siv = m.addVars(plants_set, dcs_set, vehicle_set, vtype=GRB.INTEGER)\n",
    "x2_ijv = m.addVars(dcs_set, dealers_set, vehicle_set, vtype=GRB.INTEGER )\n",
    "y_ip = m.addVars(dcs_set, facility_type_set, vtype=GRB.BINARY)"
   ]
  },
  {
   "cell_type": "markdown",
   "metadata": {},
   "source": [
    "**Objective Function**"
   ]
  },
  {
   "cell_type": "code",
   "execution_count": null,
   "metadata": {},
   "outputs": [],
   "source": [
    "\n",
    "obj1 = sum((x2_ijv[i, j, v]/L_j)*(T_1 + T_2*m_ij[i, j]) for v in vehicle_set for j in dealers_set for i in dcs_set)\n",
    "\n",
    "obj2 = sum(sum(x2_ijv[i, j, v] + x1_siv[s, i, v] for v in vehicle_set for j in dealers_set for s in plants_set) * c_si[i] for i in dcs_set)\n",
    "\n",
    "obj3 = sum(sum(x1_siv[s, i, v] for v in vehicle_set for s in plants_set) for i in dcs_set)\n",
    "\n",
    "obj4 = sum(f_ip[i]*y_ip[i, p] for p in facility_type_set for i in dcs_set)\n",
    "\n",
    "m.setObjective(obj1 + obj2 + obj3 + obj4, gp.GRB.MINIMIZE)"
   ]
  },
  {
   "cell_type": "markdown",
   "metadata": {},
   "source": [
    "**Constraints**"
   ]
  },
  {
   "cell_type": "code",
   "execution_count": null,
   "metadata": {},
   "outputs": [],
   "source": [
    "# Constraint 1: Demand at each market area for each vehicle type must be met\n",
    "m.addConstrs(sum(x2_ijv[i, j, v] for i in dcs_set) == d_jv[j, v] for v in vehicle_set for j in dealers_set)\n",
    "\n",
    "# Constraint 2: Vehicle flows between plants and DCs must be conserved\n",
    "m.addConstrs(sum(x1_siv[s, i, v] for s in plants_set) == sum(x2_ijv[i, j, v] for j in dealers_set) for i in dcs_set for v in vehicle_set)\n",
    "\n",
    "# Constraint 3 min: Total vehicle flow to each DC must satisfy the minimum capacity requirement\n",
    "m.addConstrs(\n",
    "    (C_i[i] * y_ip[i, 1] <= sum(x2_ijv[i, j, v] for v in vehicle_set for j in dealers_set) for i in dcs_set),\n",
    "    name=\"constraint_3_min\"\n",
    ")\n",
    "\n",
    "# Constraint 3 max: Total vehicle flow to each DC must satisfy the maximum capacity requirement\n",
    "m.addConstrs(\n",
    "    (sum(x2_ijv[i, j, v] for v in vehicle_set for j in dealers_set) <= C_i[i] * y_ip[i, 0] + sum(d_jv[j, v] for v in vehicle_set for j in dealers_set) * y_ip[i, 1] for i in dcs_set),\n",
    "    name=\"constraint_3_max\"\n",
    ")\n",
    "\n",
    "# # Constraint 4: Shipment quantities must be nonnegative\n",
    "m.addConstrs(x1_siv[s, i, v] >= 0 for s in plants_set for v in vehicle_set for i in dcs_set)\n",
    "m.addConstrs(x2_ijv[i, j, v] >= 0 for i in dcs_set for v in vehicle_set for j in dealers_set)\n",
    "\n",
    "# Constraint 6: The distribution centers must be selected so that all market areas can be reached within r days. \n",
    "#               Suppose a truck travels on average 300 miles a day. (Redundant constraint)\n",
    "r=60\n",
    "m.addConstrs((sum(x2_ijv[i, j, v] for v in vehicle_set) == 0 for i in dcs_set for j in dealers_set if m_ij[i][j] / 300 > r))"
   ]
  },
  {
   "cell_type": "markdown",
   "metadata": {},
   "source": [
    "**Optimize**"
   ]
  },
  {
   "cell_type": "code",
   "execution_count": null,
   "metadata": {},
   "outputs": [],
   "source": [
    "m.optimize()\n",
    "end_time = time.time()"
   ]
  },
  {
   "cell_type": "code",
   "execution_count": null,
   "metadata": {},
   "outputs": [],
   "source": [
    "run_time = end_time - start_time\n",
    "print(f\"The model was solved in {round(run_time, 3)} seconds\")"
   ]
  },
  {
   "cell_type": "code",
   "execution_count": null,
   "metadata": {},
   "outputs": [],
   "source": [
    "m.write(f\"{result_path}Capacity_Model.sol\")"
   ]
  },
  {
   "cell_type": "code",
   "execution_count": null,
   "metadata": {},
   "outputs": [],
   "source": [
    "print(\"source, DCs, vehicleType\")\n",
    "for indices, vals in x1_siv.items():\n",
    "    if (vals.X) != 0:\n",
    "        print(indices, vals.X)"
   ]
  },
  {
   "cell_type": "code",
   "execution_count": null,
   "metadata": {},
   "outputs": [],
   "source": [
    "print(\"DCs, Retailers, vehicleType\")\n",
    "for indices, vals in x2_ijv.items():\n",
    "    if (vals.X) != 0:\n",
    "        print(indices, vals.X)"
   ]
  },
  {
   "cell_type": "code",
   "execution_count": null,
   "metadata": {},
   "outputs": [],
   "source": [
    "print(\"DCs, FacilityType\")\n",
    "for indices, vals in y_ip.items():\n",
    "    if (vals.X) != 0:\n",
    "        print(indices, vals.X)"
   ]
  }
 ],
 "metadata": {
  "kernelspec": {
   "display_name": "Python 3 (ipykernel)",
   "language": "python",
   "name": "python3"
  },
  "language_info": {
   "codemirror_mode": {
    "name": "ipython",
    "version": 3
   },
   "file_extension": ".py",
   "mimetype": "text/x-python",
   "name": "python",
   "nbconvert_exporter": "python",
   "pygments_lexer": "ipython3",
   "version": "3.9.7"
  }
 },
 "nbformat": 4,
 "nbformat_minor": 2
}
