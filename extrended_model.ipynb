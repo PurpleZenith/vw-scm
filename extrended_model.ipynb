{
 "cells": [
  {
   "cell_type": "code",
   "execution_count": 6,
   "metadata": {},
   "outputs": [
    {
     "name": "stderr",
     "output_type": "stream",
     "text": [
      "UsageError: Line magic function `%%pip` not found.\n"
     ]
    }
   ],
   "source": [
    "%python --version\n",
    "%pip install pandas\n",
    "%pip install geopy\n",
    "%pip install numpy\n",
    "%pip install gurobipy"
   ]
  },
  {
   "cell_type": "markdown",
   "metadata": {},
   "source": [
    "**Imports and Paths**"
   ]
  },
  {
   "cell_type": "code",
   "execution_count": 1,
   "metadata": {},
   "outputs": [],
   "source": [
    "import pandas as pd\n",
    "import networkx as nx\n",
    "from geopy.distance import geodesic\n",
    "import numpy\n",
    "small_path = \"./main_data/small_data/\"\n",
    "main_path = \"./main_data/\""
   ]
  },
  {
   "cell_type": "markdown",
   "metadata": {},
   "source": [
    "**Load Data**"
   ]
  },
  {
   "cell_type": "code",
   "execution_count": null,
   "metadata": {},
   "outputs": [],
   "source": [
    "# Function -------------------------------------------------------------\n",
    "def load_total_demand():\n",
    "\n",
    "    yearly_sales = pd.read_csv(f'{main_path}vw_yearly_sales.csv')\n",
    "    return yearly_sales\n",
    "\n",
    "\n",
    "# Function -------------------------------------------------------------\n",
    "def load_dcs(small = False):\n",
    "  \n",
    "    # NOTE: stateconst is a constant used to account for the different prices for the cost of living and rent in various states\n",
    "    if small:\n",
    "        dcs = pd.read_csv(f'{small_path}small_list_of_dcs.csv', encoding= 'unicode_escape', names=['ID', \"Name\",\"City\",\"State\",\"Address Line 1\",\"Address Line 2\", \"Coordinates\", \"Area m3\", \"Facility Type\", \"StateConst\"])\n",
    "    else:\n",
    "        dcs = pd.read_csv(f'{main_path}list_of_dcs.csv', encoding= 'unicode_escape', names=['ID', \"Name\",\"City\",\"State\",\"Address Line 1\",\"Address Line 2\", \"Coordinates\", \"Area m3\", \"Facility Type\", \"StateConst\"])\n",
    "\n",
    "    dcs['Area sqft'] = round(dcs['Area m3'] * 10.7639)\n",
    "    return dcs\n",
    "\n",
    "\n",
    "# Function -------------------------------------------------------------\n",
    "def load_dealers(small = False):\n",
    "  # https://www.vw.com/app/dccsearch/vw-us/en/Find%20a%20Volkswagen%20Dealer/+/38.353354499999995/-95.3817145/3/+/+/+/+\n",
    "\n",
    "    if small:\n",
    "        dealers = pd.read_csv(f'{small_path}small_list_of_dealers.csv',names=['ID', \"Name\",\"Address Line 1\",\"Address Line 2\", \"Website\",\"Phone Number\", \"Coordinates\"])\n",
    "    else:\n",
    "        # FULL DATASET\n",
    "        dealers= pd.read_csv(f'{main_path}list_of_dealers.csv',names=['ID', \"Name\",\"Address Line 1\",\"Address Line 2\", \"Website\",\"Phone Number\", \"Coordinates\"])\n",
    "    \n",
    "    return dealers\n",
    "\n",
    "# Function -------------------------------------------------------------\n",
    "def load_plants():\n",
    "    \n",
    "    plants= pd.read_csv(f'{main_path}list_of_vw_plants_and_products.csv', encoding= 'unicode_escape',names=['ID', \"City\",\"Country\", \"Model\",\"Coordinates\",\"Current/Former plant\"])\n",
    "    plants_usa = plants.loc[plants[\"Country\"]==\"USA\"]\n",
    "\n",
    "    return plants_usa\n",
    "\n",
    "\n",
    "# Function -------------------------------------------------------------\n",
    "def load_dealer_demands():\n",
    "\n",
    "    def single_sample():\n",
    "        # 4 samples\n",
    "        dealers= pd.read_csv(f'{small_path}small_list_of_demand_data.csv',names=['ID',\"Name\",\"Rating\",\"Proportion\",\"na\"])\n",
    "        del dealers[dealers.columns[-1]]\n",
    "        return dealers\n",
    "\n",
    "    def full_data():\n",
    "        # FULL DATASET\n",
    "        dealers= pd.read_csv(f'{main_path}list_of_demand_data.csv',names=['ID',\"Name\",\"Rating\",\"Proportion\",\"na\", \"na2\", \"na3\"])\n",
    "        del dealers[dealers.columns[-1]]\n",
    "        del dealers[dealers.columns[-1]]\n",
    "        del dealers[dealers.columns[-1]]\n",
    "        return dealers\n",
    "\n",
    "    # either call single_sample or full_data\n",
    "    dealers = full_data() \n",
    "\n",
    "    return dealers"
   ]
  },
  {
   "cell_type": "markdown",
   "metadata": {},
   "source": [
    "**Location Work**"
   ]
  },
  {
   "cell_type": "code",
   "execution_count": null,
   "metadata": {},
   "outputs": [],
   "source": [
    "# NOTE: Distances are in miles (mi).\n",
    "# NOTE: All areas are in square-feet (sqft)\n",
    "\n",
    "# Function -------------------------------------------------------------\n",
    "def dc_to_dealer_distances(dcs, dealers): \n",
    "    \n",
    "    # using geodesic distance, may want to add 15% or something onto distance\n",
    "    distance_dc_to_dealer = numpy.zeros((len(dcs), len(dealers)))\n",
    "\n",
    "    for dc_id, dc in dcs.iterrows():\n",
    "\n",
    "      for dealer_id, dealer in dealers.iterrows():\n",
    "\n",
    "        point1, point2 = dc[\"Coordinates\"].split(\",\"), dealer[\"Coordinates\"].split(\",\")\n",
    "        distance = geodesic(point1, point2).miles\n",
    "        dc_id = dc[\"ID\"]\n",
    "        dealer_id = dealer[\"ID\"]\n",
    "        distance_dc_to_dealer[dc_id][dealer_id] = distance\n",
    "\n",
    "    distance_dc_to_dealer_df = pd.DataFrame(distance_dc_to_dealer)\n",
    "    \n",
    "    return distance_dc_to_dealer_df\n",
    "\n",
    "\n",
    "# Function -------------------------------------------------------------\n",
    "def plant_to_dc_distances(plants, dcs):\n",
    "  \n",
    "  # get coordinates of the 1 usa plant\n",
    "  plant_coordinates = plants['Coordinates'].iloc[0].split(\",\")\n",
    "  distance_plants_to_dcs = [] # since we only have 1 usa plant we can just make everything from there (very convenient)\n",
    "  \n",
    "  for dcs_id, dc in dcs.iterrows():\n",
    "\n",
    "    point1 = plant_coordinates\n",
    "    point2 = dc[\"Coordinates\"].split(\",\")\n",
    "    distance = geodesic(point1, point2).miles\n",
    "    dc_id = dc[\"ID\"]\n",
    "    distance_plants_to_dcs.append(distance)\n",
    "  \n",
    "  return distance_plants_to_dcs\n",
    "\n",
    "# Get distances from plant-to-DC and DC-to-dealer\n",
    "dcs_to_dealers = dc_to_dealer_distances(dcs, dealers)\n",
    "plants_to_dcs = plant_to_dc_distances(plants, dcs)"
   ]
  },
  {
   "cell_type": "markdown",
   "metadata": {},
   "source": [
    "**Calculate Demand**"
   ]
  },
  {
   "cell_type": "code",
   "execution_count": null,
   "metadata": {},
   "outputs": [],
   "source": [
    "# Function -------------------------------------------------------------\n",
    "def get_dealer_demands(year):\n",
    "  \n",
    "  dealers = load_dealers()\n",
    "  dealer_demands = load_dealer_demands()\n",
    "  # demand for each specific car type\n",
    "  total_demands = load_total_demand() \n",
    "\n",
    "  def get_demands(year):\n",
    "    year_demands = total_demands.loc[total_demands['year'] == year]\n",
    "    year_demands = year_demands[[\"Atlas\",\"Cross Sport\",\"ID4\",\"Passat\"]]\n",
    "    return year_demands\n",
    "\n",
    "  year_demands = get_demands(2021)\n",
    "  year_demands = year_demands.values.tolist()[0]\n",
    "\n",
    "  proportion_sum = dealer_demands[\"Proportion\"].sum()\n",
    "\n",
    "  dealer_demands [[\"Ratio of sales\"]] = None\n",
    "  dealer_demands[\"Ratio of sales\"] = dealer_demands[\"Proportion\"]/proportion_sum\n",
    "\n",
    "  # with the sales proportion, get the general sales for each location\n",
    "  temp_ratio_col = pd.DataFrame(dealer_demands[\"Ratio of sales\"])\n",
    "\n",
    "  temp = []\n",
    "\n",
    "  for x in list(dealer_demands[\"Ratio of sales\"]):\n",
    "\n",
    "    temp1=[]\n",
    "\n",
    "    for y in list(year_demands):\n",
    "      \n",
    "      temp1.append(round(x*y))\n",
    "\n",
    "    temp.append(temp1)\n",
    "\n",
    "  sales = pd.DataFrame(temp, columns=[\"Atlas\",\"Cross Sport\",\"ID4\",\"Passat\"])\n",
    "  \n",
    "  return sales"
   ]
  },
  {
   "cell_type": "code",
   "execution_count": null,
   "metadata": {},
   "outputs": [],
   "source": [
    "sales = get_dealer_demands(2021)"
   ]
  },
  {
   "cell_type": "markdown",
   "metadata": {},
   "source": [
    "**Calculating Costs**"
   ]
  },
  {
   "cell_type": "code",
   "execution_count": null,
   "metadata": {},
   "outputs": [],
   "source": [
    "# NOTE: WE NEED TO BE CAREFUL ABOUT TYPE 2 FACILITIES:\n",
    "\n",
    "# Function -------------------------------------------------------------\n",
    "def calculate_dc_cost():\n",
    "\n",
    "    # Function -------------------------------------------------------------\n",
    "    def calculate_dc_cost_monthly(id, state, facility_type, areasqft):\n",
    "        #2$ baseline\n",
    "        cost = 1.5*areasqft \n",
    "\n",
    "        # https://glcdistribution.com/customer-resources/tools/warehousing-insurance-calculator/ 1 million dollar standard\n",
    "        insurance = 3850 \n",
    "\n",
    "        # https://www.payscale.com/research/CA/Job=Warehouse_Material_Handler/Hourly_Rate\n",
    "        employee_salaries = (areasqft/2000)*20*(40*4) \n",
    "\n",
    "        # pay 1 dollar per sqft for utility\n",
    "        utilities = areasqft\n",
    "\n",
    "        # $600 – $950 per month to lease a $50,000 forklift.\n",
    "        # https://discord.com/channels/260272353118912522/1093655130076893284/1129635416409133076 1 forklift services 5000 sqft\n",
    "        forklift_cost =  areasqft/5000  *800\n",
    "\n",
    "        # https://discord.com/channels/260272353118912522/1093655130076893284/1129639090942398504\n",
    "        price_it_costs_to_build_warehouse_sqft = 100*areasqft\n",
    "        property_tax = 6/1000*price_it_costs_to_build_warehouse_sqft\n",
    "\n",
    "        # 1000 fixed cost monitoring + 20$/h * 40h/week * 28 people\n",
    "        security = 1000 + (5 * 8 * 28*20) \n",
    "\n",
    "        if facility_type == 1:\n",
    "            ft = 1\n",
    "        else:\n",
    "            ft = 1.2\n",
    "\n",
    "        # 508 is the price of 100 big macs and state is the price of 100 big macs in that state\n",
    "        price = (cost + insurance + employee_salaries + utilities + forklift_cost + security + property_tax)* (state/508)*ft\n",
    "        \n",
    "        return price\n",
    "\n",
    "    prices = []\n",
    "\n",
    "    for i in range(len(dcs.index)):\n",
    "        moneys = calculate_dc_cost_monthly(float(dcs.loc[i,[\"ID\"]]), float(dcs.loc[i,[\"StateConst\"]]), float(dcs.loc[i,[\"Facility Type\"]]),float(dcs.loc[i,[\"Area sqft\"]] ))\n",
    "        prices.append(moneys*12)\n",
    "    \n",
    "    return prices\n",
    "\n",
    "# Function -------------------------------------------------------------\n",
    "def calculate_dc_shipment_capacity():\n",
    "  # This is: C_i\n",
    "\n",
    "  dcs = load_dcs()\n",
    "  dcs = dcs[[\"Area sqft\",'Facility Type']]\n",
    "\n",
    "  # The largest car to consider is the Cross Sport\n",
    "  # It has dimensions: 4,966 mm L x 1,990 mm W x 1,723 mm H\n",
    "  # we can round this up to: 17 ft length, 7 foot wide, 6 foot tall\n",
    "  # add about 2 ft to everything as a buffer\n",
    "  # new measurement is about 18 ft length, 8ft wide, 8 foot tall\n",
    "  # so, we can predict that 2 car takes up 144/2, each car takes 72 sq foot\n",
    "\n",
    "  # from https://discord.com/channels/260272353118912522/1093655130076893284/1131271495004459018,\n",
    "  # we see that 60-80% of DCs are for storage. Let's assume 60%\n",
    "  vehicle_capacity = dcs[\"Area sqft\"]*0.6 /72\n",
    "\n",
    "  # from https://discord.com/channels/260272353118912522/1093655130076893284/1131266537869820075\n",
    "  # we see that most vehicles stay in the dc a couple of weeks (take 2 weeks)\n",
    "  # we can frame this as: All vehicles in the DCS arrive at time 0, and after 2 weeks all are released\n",
    "  annual_throughput = round(vehicle_capacity) * (52/2)\n",
    "\n",
    "  return (list(annual_throughput))\n"
   ]
  },
  {
   "cell_type": "markdown",
   "metadata": {},
   "source": [
    "**Determining the Cost of Transportation**"
   ]
  },
  {
   "cell_type": "code",
   "execution_count": null,
   "metadata": {},
   "outputs": [],
   "source": [
    "## THE FUNCTION OF SHIPPING TRUCKS CAN BE APPROXIMATED BY A PIECEWISE FUNCTION\n",
    "# https://www.desmos.com/calculator/ipxbog2uyr\n",
    "# constructed from the data here: https://www.marketwatch.com/guides/car-shipping/truck-shipping/#:~:text=According%20to%20quotes%20we%20received,when%20using%20an%20enclosed%20carrier.\n",
    "\n",
    "# Function -------------------------------------------------------------\n",
    "def fixed_cost_shipment(): \n",
    "  # This is: T_1\n",
    "  return 186 # cost to drive 0 miles\n",
    "\n",
    "\n",
    "# Function -------------------------------------------------------------\n",
    "def calculate_variable_cost_shipment(mileage): \n",
    "  # This is: T_2\n",
    "  # if mileage < 1135:\n",
    "  #   return mileage * (551/535)\n",
    "  # return mileage * (0.43)\n",
    "  return (0.43)\n",
    "\n",
    "  # TODO: WE ARE ASSUMING FOR SIMPLICYT SAKE 0.43$/MILE AND ARE NOT CONSIDERING THE OTHER FUNCTION FOR MODELLING RIGHT NOW"
   ]
  },
  {
   "cell_type": "markdown",
   "metadata": {},
   "source": [
    "**Time of Model Building**"
   ]
  },
  {
   "cell_type": "code",
   "execution_count": null,
   "metadata": {},
   "outputs": [],
   "source": [
    "## The modelling?\n",
    "import gurobipy as gp\n",
    "from gurobipy import GRB\n",
    "\n",
    "# Create environment with WLS license\n",
    "e = gp.Env(empty=True)\n",
    "e.setParam('WLSACCESSID', '47fa1c45-5377-4f93-87d4-3da7da2b6955')\n",
    "e.setParam('WLSSECRET', '7dfbddcb-7333-4ec7-927d-b459cffd9565')\n",
    "e.setParam('LICENSEID', 868415)\n",
    "e.start()"
   ]
  },
  {
   "cell_type": "markdown",
   "metadata": {},
   "source": [
    "**Define Model Sets**"
   ]
  },
  {
   "cell_type": "code",
   "execution_count": null,
   "metadata": {},
   "outputs": [],
   "source": [
    "# Get all plants, DCs, and Dealers\n",
    "plants = load_plants()\n",
    "dcs = load_dcs()\n",
    "dealers = load_dealers()\n",
    "\n",
    "# Get all distances, demands, and costs\n",
    "dcs_to_dealers = dc_to_dealer_distances(dcs, dealers)\n",
    "plants_to_dcs = plant_to_dc_distances(plants, dcs)\n",
    "dealer_demands = get_dealer_demands(2021) ## car demand for each dealership\n",
    "dc_annual_cost = calculate_dc_cost()"
   ]
  },
  {
   "cell_type": "code",
   "execution_count": null,
   "metadata": {},
   "outputs": [],
   "source": [
    "# define sets\n",
    "# set S\n",
    "plants_set = [0]\n",
    "# set I\n",
    "dcs_set = list(dcs[\"ID\"])\n",
    "# set J\n",
    "dealers_set = list(dealers[\"ID\"])\n",
    "# we define 0 to 3, corresponding to Atlas, CrossSport, ID4 and Passat vehicles (set V)\n",
    "vehicle_set = [0,1,2,3]\n",
    "# set P\n",
    "facility_type_set = [0, 1]"
   ]
  },
  {
   "cell_type": "code",
   "execution_count": null,
   "metadata": {},
   "outputs": [],
   "source": [
    "# Parameter prep - we change the dataframes to arrays of sorts, which we can use indexes and such in the formulation\n",
    "d_jv = dealer_demands.values\n",
    "m_ij = dcs_to_dealers.values\n",
    "c_si = plants_to_dcs\n",
    "# load factor is 1\n",
    "L_j = 1 \n",
    "T_1 = fixed_cost_shipment()\n",
    "T_2 = calculate_variable_cost_shipment(\"dummy_value\") # see code comments on why we do this as a temp hack for a preliminary model\n",
    "f_ip = dc_annual_cost\n",
    "C_i = calculate_dc_shipment_capacity()"
   ]
  },
  {
   "cell_type": "code",
   "execution_count": null,
   "metadata": {},
   "outputs": [],
   "source": [
    "# Create Model\n",
    "m = gp.Model(env=e)\n",
    "\n",
    "# CREATE THE DECISION VARIABLES HERE\n",
    "x1_siv = m.addVars(plants_set, dcs_set, vehicle_set, vtype=GRB.INTEGER)\n",
    "x2_ijv = m.addVars(dcs_set, dealers_set, vehicle_set, vtype=GRB.INTEGER )\n",
    "y_ip = m.addVars(dcs_set, facility_type_set, vtype=GRB.BINARY)"
   ]
  }
 ],
 "metadata": {
  "kernelspec": {
   "display_name": "Python 3",
   "language": "python",
   "name": "python3"
  },
  "language_info": {
   "codemirror_mode": {
    "name": "ipython",
    "version": 3
   },
   "file_extension": ".py",
   "mimetype": "text/x-python",
   "name": "python",
   "nbconvert_exporter": "python",
   "pygments_lexer": "ipython3",
   "version": "3.10.11"
  },
  "orig_nbformat": 4
 },
 "nbformat": 4,
 "nbformat_minor": 2
}
